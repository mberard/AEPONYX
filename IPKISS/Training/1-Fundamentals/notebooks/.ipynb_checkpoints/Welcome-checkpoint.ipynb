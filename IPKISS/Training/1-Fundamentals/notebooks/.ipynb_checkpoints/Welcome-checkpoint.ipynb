{
 "cells": [
  {
   "cell_type": "markdown",
   "metadata": {
    "deletable": true,
    "editable": true
   },
   "source": [
    "# IPKISS Fundamentals"
   ]
  },
  {
   "cell_type": "markdown",
   "metadata": {
    "deletable": true,
    "editable": true
   },
   "source": [
    "Welcome to the basic layout training for IPKISS.flow! It is nice to meet you. The goal of this training is to give you basic proficiency in the **IPKISS.flow** framework, starting from the layout perspective.\n",
    "\n",
    "What is covered in this training:\n",
    "\n",
    "* How to create photonic waveguides\n",
    "* How to layout a basic photonics building block\n",
    "* Running a physical simulation on this component\n",
    "* Building and simulation of small circuits\n",
    "\n",
    "The training is built on \"notebooks\" (a mixture of Python/IPKISS code and text, such as the document you're reading now)."
   ]
  },
  {
   "cell_type": "markdown",
   "metadata": {
    "deletable": true,
    "editable": true
   },
   "source": [
    "<div class=\"panel panel-info\">\n",
    " <div class=\"panel-heading\">Using the notebook</div>\n",
    " <div class=\"panel-body\">\n",
    "    <p>How does a notebook work? Let's take an example. The python cell below calculates $\\pi$. To execute the cell, perform the following 2 steps:</p>\n",
    "\n",
    "<ul><ol>1. Click on the cell to select it.</ol>\n",
    "<ol>2. Press `SHIFT+ENTER` on your keyboard or press the ``run cell`` button (<button class='fa fa-step-forward btn btn-xs btn-default'></button>) in the toolbar above.</ol></ul>\n",
    "\n",
    "<p>Try it on the cell below:</p>\n",
    "  </div>  \n",
    "</div>"
   ]
  },
  {
   "cell_type": "code",
   "execution_count": null,
   "metadata": {
    "collapsed": false,
    "deletable": true,
    "editable": true
   },
   "outputs": [],
   "source": [
    "# How to use this \"notebook\"? The code below is some Python code to estimate pi. \n",
    "# Press SHIFT+ENTER to execute\n",
    "\n",
    "pi_estimate = 0.0\n",
    "terms_in_series = 500000\n",
    "\n",
    "for k in range(terms_in_series):\n",
    "    pi_estimate = pi_estimate + 4.0 * (-1)**k / (2*k+1.0)\n",
    "\n",
    "print(\"Pi is approximately {0}\".format(pi_estimate))"
   ]
  },
  {
   "cell_type": "markdown",
   "metadata": {
    "deletable": true,
    "editable": true
   },
   "source": [
    "Let's get started! Please scroll down to one of the sessions, and click on the session to get started."
   ]
  },
  {
   "cell_type": "markdown",
   "metadata": {
    "deletable": true,
    "editable": true
   },
   "source": [
    "##  Session:  PCell - Properties - Views\n",
    "\n",
    "This session is about the basic of the IPKISS framework that introduces PCells, Properties and Views. It may seem a little abstract but understanding the underlying structure of IPKISS well is highly recommended.\n",
    "\n",
    "If you are only interested in layout you can skip the part on Circuit Models or vice versa."
   ]
  },
  {
   "cell_type": "markdown",
   "metadata": {
    "deletable": true,
    "editable": true
   },
   "source": [
    "<div>\n",
    "<div style=\"width: 20%; display: inline; margin:0; float: left\"> <p> \n",
    "<a href=\"base_pcell_views_properties/01_pcell_properties.ipynb\"> <img src=\"_images/pcell_views.png\" width=400 ></a> </p> </div>\n",
    "<div style=\"width: 49%;  display: inline; float: right; margin:0\"> <p> <a href=\"base_pcell_views_properties/01_pcell_properties.ipynb\">Notebook: PCells and Properties\n",
    "</div>"
   ]
  },
  {
   "cell_type": "markdown",
   "metadata": {
    "deletable": true,
    "editable": true
   },
   "source": [
    "## Session: Waveguides\n",
    "\n",
    "As a component is always connected to a waveguide it makes sense to start learning IPKISS by introducing waveguides. "
   ]
  },
  {
   "cell_type": "markdown",
   "metadata": {
    "deletable": true,
    "editable": true
   },
   "source": [
    "<div>\n",
    "<div style=\"width: 40%; display: inline; margin:0; float: left\"> <p> \n",
    "<a href=\"trace_template/waveguide.ipynb\"> <img src=\"_images/waveguide.png\" width=250</a> </p> </div>\n",
    "<div style=\"width: 49%;  display: inline; float: right; margin:0\"> <p> <a href=\"trace_template/waveguide.ipynb\">Waveguide\n",
    "</div>"
   ]
  },
  {
   "cell_type": "markdown",
   "metadata": {
    "deletable": true,
    "editable": true
   },
   "source": [
    "## Session: Design a component \n",
    "\n",
    "In this session, we will learn how to custom a splitter design using CAMFR for simulation and optimization. As a component designer, you will create an optimized design to be used by circuit or system designers."
   ]
  },
  {
   "cell_type": "markdown",
   "metadata": {
    "deletable": true,
    "editable": true
   },
   "source": [
    "<div>\n",
    "<div style=\"width: 40%; display: inline; margin:0; float: left\"> <p> \n",
    "<a href=\"component_design_layout_simulation/01_component_layout.ipynb\"> <img src=\"_images/component_mmi_vfab.png\" width=350 ></a> </p> </div>\n",
    "<div style=\"width: 49%;  display: inline; float: right; margin:0\"> <p> <a href=\"component_design_layout_simulation/01_component_layout.ipynb\">Step 1/2: Design an MMI layout.\n",
    "</div>"
   ]
  },
  {
   "cell_type": "markdown",
   "metadata": {
    "deletable": true,
    "editable": true
   },
   "source": [
    "<div>\n",
    "<div style=\"width: 40%; display: inline; margin:0; float: left\"> <p> \n",
    "<a href=\"component_design_layout_simulation/02_component_simulate.ipynb\"> <img src=\"_images/component_mmi.png\" width=400 ></a> </p> </div>\n",
    "<div style=\"width: 49%;  display: inline; float: right; margin:0\"> <p> <a href=\"component_design_layout_simulation/02_component_simulate.ipynb\"> Step 2/2: Simulate a simple MMI design.\n",
    "</div>"
   ]
  },
  {
   "cell_type": "markdown",
   "metadata": {},
   "source": [
    "## Session: Create a circuit Model\n",
    "To fully describe the circuit behavior of a building block, one should at least define a Netlist view and a CircuitModel view. Those views can simply be added to the already existing Layoutview so both can be used in circuit simulation."
   ]
  },
  {
   "cell_type": "markdown",
   "metadata": {
    "deletable": true,
    "editable": true
   },
   "source": [
    "<div>\n",
    "<div style=\"width: 20%; display: inline; margin:0; float: left\"> <p> \n",
    "<a href=\"base_pcell_views_properties/04_circuitmodelview.ipynb\"> <img src=\"_images/smatrix.png\" width=400 ></a> </p> </div>\n",
    "<div style=\"width: 49%;  display: inline; float: right; margin:0\"> <p> <a href=\"base_pcell_views_properties/04_circuitmodelview.ipynb\">Notebook: Circuit Model\n",
    "</div>"
   ]
  },
  {
   "cell_type": "markdown",
   "metadata": {
    "deletable": true,
    "editable": true
   },
   "source": [
    "## Session: Design Circuits"
   ]
  },
  {
   "cell_type": "markdown",
   "metadata": {
    "deletable": true,
    "editable": true
   },
   "source": [
    "<div>\n",
    "<div style=\"width: 40%; display: inline; margin:0; float: left\"> <p> \n",
    "<a href=\"base_pcell_views_properties/05-picazzo-place-and-autoroute.ipynb\"> <img src=\"_images/circuit.png\" width=400 ></a> </p> </div>\n",
    "<div style=\"width: 49%;  display: inline; float: right; margin:0\"> <p> <a href=\"base_pcell_views_properties/05-picazzo-place-and-autoroute.ipynb\">Building circuits with Place and AutoRoute\n",
    "</div>"
   ]
  },
  {
   "cell_type": "markdown",
   "metadata": {
    "deletable": true,
    "editable": true
   },
   "source": [
    "<div>\n",
    "<div style=\"width: 40%; display: inline; margin:0; float: left\"> <p> \n",
    "<a href=\"base_pcell_views_properties/06-demux.ipynb\"> <img src=\"_images/demux.png\" width=400 ></a> </p> </div>\n",
    "<div style=\"width: 49%;  display: inline; float: right; margin:0\"> <p> <a href=\"base_pcell_views_properties/06-demux.ipynb\">Designing a 4-way demultiplexer\n",
    "</div>"
   ]
  },
  {
   "cell_type": "markdown",
   "metadata": {
    "deletable": true,
    "editable": true
   },
   "source": [
    "## Session : Electrical Routing"
   ]
  },
  {
   "cell_type": "markdown",
   "metadata": {
    "deletable": true,
    "editable": true
   },
   "source": [
    "<div>\n",
    "<div style=\"width: 40%; display: inline; margin:0; float: left\"> <p> \n",
    "<a href=\"trace_template/electrical_routing.ipynb\"> <img src=\"_images/electrical_routing.PNG\" width=200> </div>\n",
    "<div style=\"width: 49%;  display: inline; float: right; margin:0\"> <p> <a href=\"trace_template/electrical_routing.ipynb\">Electrical Routing\n",
    "</div>"
   ]
  },
  {
   "cell_type": "markdown",
   "metadata": {
    "deletable": true,
    "editable": true
   },
   "source": [
    "## Python getting started\n",
    "\n",
    "IPKISS is based on Python. It's an easy language to learn. By following this tutorial you can get more proficient into Python, which will make you more efficient.\n"
   ]
  },
  {
   "cell_type": "markdown",
   "metadata": {
    "deletable": true,
    "editable": true
   },
   "source": [
    "<div>\n",
    "<div style=\"width: 20%; display: inline; margin:0; float: left\"> <p> \n",
    "<a href=\"python_getting_started/Basic Introduction to Python.ipynb\"> <img src=\"python_getting_started/_images/python.jpg\" width=50 ></a> </p> </div>\n",
    "<div style=\"width: 49%;  display: inline; float: right; margin:0\"> <p> <a href=\"python_getting_started/Basic Introduction to Python.ipynb\">Notebook: An introduction to Python\n",
    "</div>"
   ]
  },
  {
   "cell_type": "markdown",
   "metadata": {
    "collapsed": true,
    "deletable": true,
    "editable": true
   },
   "source": [
    "## About Luceda Photonics software\n",
    "\n",
    "<b>IPKISS</b> delivers a full design experience including circuit definition, simulation and layout as well as definition and simulation of individual building blocks. \n",
    "\n",
    "<table style=\"border:0;\">\n",
    "<tr style=\"border:0;\">\n",
    "<td style=\"border:0;padding-top:20px;width:20%;\" ><img src=\"_images/awg.png\" alt=\"ipkiss layout\" width=\"300px\"/></td>\n",
    "<td style=\"border:0;padding-top:20px;width:20%;\">**Layout** of photonic devices, complex circuits and easy parameter sweeps. Bends, auto-routing and fine-grained control. A large library of predefined cells, including AWGs using our Filter toolbox.</td>\n",
    "<td style=\"border:0;padding-top:20px;width:20%;\"><img src=\"_images/logo_pdks.png\" alt=\"ipkiss layout\" width=\"300px\"/></td>\n",
    "<td style=\"border:0;padding-top:20px;width:20%;\">**Process Design Kits** for imec, AMF, IHP, Cornerstone, Ligentec, Tyndall, CETC38. Support for VTT and SmartPhotonics coming soon.</td>\n",
    "</tr>\n",
    "<tr style=\"border:0;\">\n",
    "<td style=\"border:0;padding-top:20px;width:20%;\"><img src=\"_images/ipkiss_em.png\" alt=\"ipkiss CAMFR\" width=\"300px\"/></td>\n",
    "<td style=\"border:0;padding-top:20px;width:20%;\">**Electromagnetic simulation** of devices using built-in CAMFR or link to CST studio suite</td>\n",
    "<td style=\"border:0;padding-top:20px;width:20%;\"><img src=\"_images/ipkiss_caphe.png\" alt=\"ipkiss layout\" width=\"300px\"/></td>\n",
    "<td style=\"border:0;padding-top:20px;width:20%;\">**Fast circuit simulation** of large circuits using built-in Caphe compact model solver</td>\n",
    "</tr>\n",
    "<tr style=\"border:0\">\n",
    "</tr>\n",
    "<tr style=\"border:0;\">\n",
    "<td style=\"border:0;padding-top:20px;width:20%;\"><img src=\"_images/ipkiss_eda.png\" alt=\"ipkiss layout\" width=\"300px\"/></td>\n",
    "<td style=\"border:0;padding-top:20px;width:20%;\">Powered by L-Edit: **Easy drag-and-drop creation of circuits**, combined with **electronics design** using <a href=\"http://www.lucedaphotonics.com/en/product/ipkiss-eda\">IPKISS.eda</a> built on Mentor Graphics Tanner. <a href=\"http://go.mentor.com/4OghB\">Download white paper here!</a></td>\n",
    "<td style=\"border:0;padding-top:20px;width:20%;\"><a href=\"http://www.python.org\"><img src=\"_images/logo_python.jpg\" alt=\"ipkiss layout\" width=\"300px\"/></a></td>\n",
    "<td style=\"border:0;padding-top:20px;width:20%;\">Powered by **Python**: Widely used script language. Powerful scientific libraries and vast opportunities. <a href=\"http://www.lucedaphotonics.com/en/product/ipkissflow\">IPKISS.flow</a> offers all this power with a scripting UI</a></td>\n",
    "\n",
    "</tr>\n",
    "<tr style=\"border:0\">\n",
    "</tr>\n",
    "</table>\n",
    "\n",
    "<div align=\"center\" style=\"font-size:1.2em; margin-top:40px;\">\n",
    "**Visit [our website](http://www.lucedaphotonics.com) for more information or [request a trial version](http://www.lucedaphotonics.com/en/contact) to try out IPKISS !**\n",
    "</div>"
   ]
  }
 ],
 "metadata": {
  "kernelspec": {
   "display_name": "Python 2",
   "language": "python",
   "name": "python2"
  },
  "language_info": {
   "codemirror_mode": {
    "name": "ipython",
    "version": 2
   },
   "file_extension": ".py",
   "mimetype": "text/x-python",
   "name": "python",
   "nbconvert_exporter": "python",
   "pygments_lexer": "ipython2",
   "version": "2.7.15"
  }
 },
 "nbformat": 4,
 "nbformat_minor": 0
}
