{
 "cells": [
  {
   "cell_type": "markdown",
   "metadata": {},
   "source": [
    "## Custom shapes meeting design rules\n",
    "\n",
    "In this tutorial, we will learn how to build custom shapes that meet design rules. One challenge when building these shapes, is to let them adhere to the design rules set up by the fab. For example, avoiding acute angled corners, adhering to minimum line width and spacings when creating waveguides, etc.\n",
    "\n",
    "\n",
    "**note**: below are links to resources in the documentation that can help:\n",
    "\n",
    "* [IPKISS Reference --> Layout Reference --> Geometry Reference --> basic shapes](http://docs.lucedaphotonics.com/3.0.1/reference/layout/ref/shapes.html): Reference manual on shapes\n",
    "* [IPKISS Reference --> Layout Reference --> Elements and Layers](http://docs.lucedaphotonics.com/3.0.1/reference/layout/elements-layers.html): Reference on elements and layers\n",
    "\n",
    "In this tutorial you will learn:\n",
    "\n",
    "* How to use shape modifiers to correct custom-made shapes, so they are DRC clean, and so they can be fabricated\n"
   ]
  },
  {
   "cell_type": "code",
   "execution_count": null,
   "metadata": {
    "collapsed": true,
    "scrolled": false
   },
   "outputs": [],
   "source": [
    "import os, sys\n",
    "sys.path.insert(0, '.')"
   ]
  },
  {
   "cell_type": "code",
   "execution_count": null,
   "metadata": {
    "collapsed": false,
    "scrolled": false
   },
   "outputs": [],
   "source": [
    "from technologies import silicon_photonics\n",
    "from ipkiss3 import all as i3\n",
    "%pylab inline\n",
    "pylab.rcParams['figure.figsize'] = (12, 6)"
   ]
  },
  {
   "cell_type": "markdown",
   "metadata": {},
   "source": [
    "Next, we import a the basic shapes and the shape modifiers, and we define some helper functions to visualize / compare different elements."
   ]
  },
  {
   "cell_type": "code",
   "execution_count": null,
   "metadata": {
    "collapsed": true,
    "scrolled": false
   },
   "outputs": [],
   "source": [
    "from ipkiss.geometry.shapes import basic as basic_shapes\n",
    "from ipkiss.geometry.shapes import modifiers"
   ]
  },
  {
   "cell_type": "code",
   "execution_count": null,
   "metadata": {
    "collapsed": true,
    "scrolled": false
   },
   "outputs": [],
   "source": [
    "# Helper function to quickly visualize a simple element\n",
    "def visualize_element(el):\n",
    "    i3.LayoutCell().Layout(elements=[el]).visualize()\n",
    "    \n",
    "def compare_elements(el1, el2):\n",
    "    w1 = el1.size_info().width\n",
    "    i3.LayoutCell().Layout(elements=[el1, el2.move_copy((1.2 * w1, 0))]).visualize()"
   ]
  },
  {
   "cell_type": "markdown",
   "metadata": {},
   "source": [
    "### Using ShapeStub to fix sharp corners\n",
    "\n",
    "First, we show how we can use the ``ShapeStub`` modifier to fix sharp corners. Suppose we have a closed shape, defining a piece of an Arc:"
   ]
  },
  {
   "cell_type": "code",
   "execution_count": null,
   "metadata": {
    "collapsed": false,
    "scrolled": false
   },
   "outputs": [],
   "source": [
    "shape = basic_shapes.ShapeArc(radius=5.0, start_angle=0, end_angle=110, angle_step=10)\n",
    "shape.close()\n",
    "el = i3.Boundary(layer=i3.TECH.PPLAYER.WG.CORE, shape=shape)"
   ]
  },
  {
   "cell_type": "code",
   "execution_count": null,
   "metadata": {
    "collapsed": false,
    "scrolled": false
   },
   "outputs": [],
   "source": [
    "visualize_element(el)"
   ]
  },
  {
   "cell_type": "markdown",
   "metadata": {},
   "source": [
    "As you can clearly see, this shape has acute angles, which is not allowed by rules of the PDK for the WG layer (and other layers). We can use the ``ShapeStub`` modifier to fix this problem and stub the corners of a given shape. We have to give the algorithm a ``stub_width``, which is used to identify how wide a stub should be created a the corners. The silicon_photonics fabrication process has a minimum line width of 0.13um on the WG layer: "
   ]
  },
  {
   "cell_type": "code",
   "execution_count": null,
   "metadata": {
    "collapsed": false
   },
   "outputs": [],
   "source": [
    "MINIMUM_WG_WIDTH=i3.TECH.TECH.MINIMUM_LINE"
   ]
  },
  {
   "cell_type": "markdown",
   "metadata": {},
   "source": [
    "Look in the Layout Handbook for the minimul width or spacing rules for other layers."
   ]
  },
  {
   "cell_type": "code",
   "execution_count": null,
   "metadata": {
    "collapsed": true,
    "scrolled": false
   },
   "outputs": [],
   "source": [
    "shape2 = modifiers.ShapeStub(shape, stub_width=MINIMUM_WG_WIDTH)\n",
    "el2 = i3.Boundary(layer=i3.TECH.PPLAYER.WG.CORE, shape=shape2)"
   ]
  },
  {
   "cell_type": "code",
   "execution_count": null,
   "metadata": {
    "collapsed": false,
    "scrolled": false
   },
   "outputs": [],
   "source": [
    "compare_elements(el, el2)"
   ]
  },
  {
   "cell_type": "markdown",
   "metadata": {},
   "source": [
    "By using ``ShapeStub``, we are able to fix the acute angles."
   ]
  },
  {
   "cell_type": "markdown",
   "metadata": {},
   "source": [
    "### ShapeSerif\n",
    "\n",
    "Suppose now we have the following teeth-like structure (note that we close the shape, this is necessary for the shape modifiers to operate on the first/last points):"
   ]
  },
  {
   "cell_type": "code",
   "execution_count": null,
   "metadata": {
    "collapsed": false,
    "scrolled": false
   },
   "outputs": [],
   "source": [
    "shape = [(0, 0), (1., 1.), (2., 0), (3., 1.), (4.0, 0), (4.0, 2.0), (0, 2.0), (0, 0)]\n",
    "el = i3.Boundary(layer=i3.TECH.PPLAYER.WG.CORE, shape=shape)"
   ]
  },
  {
   "cell_type": "code",
   "execution_count": null,
   "metadata": {
    "collapsed": false,
    "scrolled": false
   },
   "outputs": [],
   "source": [
    "visualize_element(el)"
   ]
  },
  {
   "cell_type": "markdown",
   "metadata": {},
   "source": [
    "Now, there are two problems with this shape if you want to fabricate it:\n",
    "* There are clearly two acute angles at edges,\n",
    "* In theory, the angles of the sawtooth itself are 90 degrees. **But**, due to rounding and snapping onto a grid, the angles might be slightly smaller (or larger) than 90 degrees. This can give rise to DRC errors (note: as long as you work along the x or y axis (manhattan) this should not be a problem).\n",
    "* because of lithography, the corners will be rounded. If you want them to end up like the above figure after fabrication, you should add corrections to your design, for instance by adding serifs.\n",
    "\n",
    "Let's use the ``ShapeSerif`` shape modifier to fix these problems:"
   ]
  },
  {
   "cell_type": "code",
   "execution_count": null,
   "metadata": {
    "collapsed": false,
    "scrolled": false
   },
   "outputs": [],
   "source": [
    "shape2 = modifiers.ShapeSerif(original_shape=shape, \n",
    "                              stub_width=MINIMUM_WG_WIDTH + 0.2, \n",
    "                              stub_height=MINIMUM_WG_WIDTH,\n",
    "                              tip_width=MINIMUM_WG_WIDTH)\n",
    "el2 = i3.Boundary(layer=i3.TECH.PPLAYER.WG.CORE, shape=shape2)"
   ]
  },
  {
   "cell_type": "code",
   "execution_count": null,
   "metadata": {
    "collapsed": false,
    "scrolled": false
   },
   "outputs": [],
   "source": [
    "compare_elements(el, el2)"
   ]
  },
  {
   "cell_type": "markdown",
   "metadata": {},
   "source": [
    "### Conclusion\n",
    "\n",
    "In this part of the training we created some custom shapes, and used shapemodifiers to correct for DRC errors, and prepare the shapes for fabrication, conforming the rules of the imec technology. Next, we will have a look at another aspect of PCells and Views: the caphe model.\n"
   ]
  },
  {
   "cell_type": "markdown",
   "metadata": {},
   "source": [
    "<div>\n",
    "<div style=\"width: 20%; display: inline; margin:0; float: left\"> <p> \n",
    "<a href=\"04_circuitmodelview.ipynb\"> <img src=\"_images/netlist_disk.png\" width=200 ></a> </p> </div>\n",
    "<div style=\"width: 49%;  display: inline; float: right; margin:0\"> <p> <a href=\"04_circuitmodelview.ipynb\"> Training Part 4: Creating circuit models</a> </p> </div>\n",
    "</div>"
   ]
  },
  {
   "cell_type": "code",
   "execution_count": null,
   "metadata": {
    "collapsed": true
   },
   "outputs": [],
   "source": []
  }
 ],
 "metadata": {
  "kernelspec": {
   "display_name": "Python 2",
   "language": "python",
   "name": "python2"
  },
  "language_info": {
   "codemirror_mode": {
    "name": "ipython",
    "version": 2
   },
   "file_extension": ".py",
   "mimetype": "text/x-python",
   "name": "python",
   "nbconvert_exporter": "python",
   "pygments_lexer": "ipython2",
   "version": "2.7.15"
  }
 },
 "nbformat": 4,
 "nbformat_minor": 0
}
