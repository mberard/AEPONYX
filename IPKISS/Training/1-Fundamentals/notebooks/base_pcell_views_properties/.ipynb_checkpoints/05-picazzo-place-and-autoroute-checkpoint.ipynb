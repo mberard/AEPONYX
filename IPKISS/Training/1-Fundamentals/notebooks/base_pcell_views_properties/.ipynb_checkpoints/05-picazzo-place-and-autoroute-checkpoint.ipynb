{
 "cells": [
  {
   "cell_type": "markdown",
   "metadata": {},
   "source": [
    "### Using the picazzo library, and PlaceAndAutoRoute\n",
    "\n",
    "In the first part of our training we taught you how to to use properties and views. Using those properties we also created very simple LayoutViews. Of course within IPKISS you can add a lot more intelligence to your PCells and views but before we dig into that lets first illustrate how to connect PCells together to build circuits. \n",
    "\n",
    "To do that we will use existing cells that are part of the **PICAZZO** library which contains PCells for most of the commonly used integrated photonics components. \n",
    "\n",
    "Here we will create the following drop filter. \n",
    "\n",
    "<img src=\"_images/annotated_circuit.png\" width=800 >\n",
    "\n",
    "For that we will use standard components that come from Picazzo. \n",
    "\n",
    "These components are:\n",
    "\n",
    "- A Ring Resonator\n",
    "- Grating couplers\n",
    "- Waveguides\n",
    "\n",
    "Those components are also part of the design kits of most Fabs. I that case you will use those instead of the Picazzo library. "
   ]
  },
  {
   "cell_type": "markdown",
   "metadata": {},
   "source": [
    "### Let's go: Design your first circuit\n",
    "\n",
    "As always we first start by importing the silicon_photonics technology and ipkiss:"
   ]
  },
  {
   "cell_type": "code",
   "execution_count": null,
   "metadata": {
    "collapsed": false
   },
   "outputs": [],
   "source": [
    "import numpy as np\n",
    "from technologies import silicon_photonics\n",
    "from ipkiss3 import all as i3"
   ]
  },
  {
   "cell_type": "code",
   "execution_count": null,
   "metadata": {
    "collapsed": false
   },
   "outputs": [],
   "source": [
    "# Fix paths so that relative imports work in ipython \n",
    "import os, sys\n",
    "sys.path.append('.')\n",
    "%pylab inline\n",
    "pylab.rcParams['figure.figsize'] = (12, 6)"
   ]
  },
  {
   "cell_type": "markdown",
   "metadata": {},
   "source": [
    "#### Ring resonators\n",
    "\n",
    "Our first component is a ring resonator that will take the form of a channel drop filter with two inputs and two outputs. The first step is to import it from the picazzo3 library and instantiate it. "
   ]
  },
  {
   "cell_type": "code",
   "execution_count": null,
   "metadata": {
    "collapsed": false
   },
   "outputs": [],
   "source": [
    "#Ring Resonator\n",
    "from picazzo3.filters.ring import RingRect180DropFilter\n",
    "my_ring = RingRect180DropFilter()\n",
    "print my_ring"
   ]
  },
  {
   "cell_type": "markdown",
   "metadata": {},
   "source": [
    "``my_ring`` is a now a PCell. Like most PCells in picazzo it already has a LayoutView with properties. Let's instantiate it and set one of its properties: ``bend_radius``. "
   ]
  },
  {
   "cell_type": "code",
   "execution_count": null,
   "metadata": {
    "collapsed": false
   },
   "outputs": [],
   "source": [
    "my_ring_layout = my_ring.Layout(bend_radius=10.0)\n",
    "my_ring_layout.visualize()"
   ]
  },
  {
   "cell_type": "markdown",
   "metadata": {},
   "source": [
    "The LayoutView of ``RingRect180DropFilter`` has plenty of other properties that will change the aspect of the ring. You will find those in the documentation. You can reach the documentation through the luceda-control center.\n",
    "\n",
    "<img src=\"_images/doc_search.png\" width=600 >\n",
    "\n",
    "#### Exercise 1:\n",
    "\n",
    "<font color=\"red\"> Exercise 1: Use the documentation to find out how to create a RingRect180DropFilter. Use this knowledge to create a pcell named myring2, and set the layout of that ring so that the coupler spacings are set to 1.0. \n",
    "\n",
    "<font color=\"black\">\n",
    "Solution: [exercise_1.py](/edit/base_pcell_views_properties/support_files/place_and_auto_route/exercise_1.py)"
   ]
  },
  {
   "cell_type": "code",
   "execution_count": null,
   "metadata": {
    "collapsed": false
   },
   "outputs": [],
   "source": [
    "# Create your pcell here.\n",
    "from picazzo3.filters.ring import RingRect180DropFilter\n",
    "my_ring2 = RingRect180DropFilter()\n",
    "my_ring2_layout = my_ring2.Layout(bend_radius=10.0,\n",
    "                                  coupler_spacings=[1.0, 1.0])\n",
    "\n",
    "my_ring2_layout.visualize()\n",
    "\n",
    "# To check if your answer is correct execute this\n",
    "from support_files.place_and_auto_route.checks import check_1\n",
    "check_1(my_ring2)"
   ]
  },
  {
   "cell_type": "markdown",
   "metadata": {},
   "source": [
    "Instead of checking out the doc you can always  you can also directly querry the documentation of a Python class using the question mark ``?``:"
   ]
  },
  {
   "cell_type": "code",
   "execution_count": null,
   "metadata": {
    "collapsed": false
   },
   "outputs": [],
   "source": [
    "?RingRect180DropFilter"
   ]
  },
  {
   "cell_type": "markdown",
   "metadata": {},
   "source": [
    "To access the doc of the layoutview:"
   ]
  },
  {
   "cell_type": "code",
   "execution_count": null,
   "metadata": {
    "collapsed": false
   },
   "outputs": [],
   "source": [
    "?RingRect180DropFilter.Layout"
   ]
  },
  {
   "cell_type": "markdown",
   "metadata": {},
   "source": [
    "#### Grating couplers\n",
    "\n",
    "We now create a grating coupler. We load it from the picazzo library, set layout-properties such as the number of periods (n_o_lines) the period along the x-axis(period-x) and the width of the grating lines(box_width) and visualize it."
   ]
  },
  {
   "cell_type": "code",
   "execution_count": null,
   "metadata": {
    "collapsed": false
   },
   "outputs": [],
   "source": [
    "# Curved grating\n",
    "from picazzo3.fibcoup.curved import FiberCouplerCurvedGrating\n",
    "my_grating = FiberCouplerCurvedGrating()\n",
    "\n",
    "# Layout \n",
    "my_grating_layout = my_grating.Layout(n_o_lines=24, period_x=0.65, box_width=15.5)\n",
    "my_grating_layout.visualize()"
   ]
  },
  {
   "cell_type": "markdown",
   "metadata": {},
   "source": [
    "## Building our first circuit\n",
    "\n",
    "### Ports\n",
    "\n",
    "We have now made a ring resonator and a grating coupler. We will use waveguides to connect them together. To know where the waveguides have to start on each component each layout has **ports**. \n",
    "\n",
    "Ports of components have:\n",
    "\n",
    "- A name: Name of the port\n",
    "- A position: Position\n",
    "- An angle: The angle at which a connecting waveguide has to leave a components.\n",
    "- A waveguide template: Describes the type of waveguide used to connect the components.\n",
    "\n",
    "The ring resonators have four ports: \n",
    "\n",
    "- ``in1``\n",
    "- ``in2``\n",
    "- ``out1``\n",
    "- ``out1``\n",
    "\n",
    "\n",
    "The grating coupler has two ports:\n",
    "- ``vertical_in``\n",
    "- ``out``\n",
    "\n",
    "<img src=\"_images/ports.png\" width=800 >\n",
    "\n",
    "\n",
    "You can extract the ports directly from the layoutview of your components"
   ]
  },
  {
   "cell_type": "code",
   "execution_count": null,
   "metadata": {
    "collapsed": false
   },
   "outputs": [],
   "source": [
    "print my_ring_layout.ports"
   ]
  },
  {
   "cell_type": "markdown",
   "metadata": {},
   "source": [
    "### Building a circuit with place and autoroute\n",
    "\n",
    "The simplest way of building circuits in IPKISS is to use PlaceAndAutoRoute. PlaceAndAutoRoute is a generic PICAZZO component that allows you to easily define connectivity between a number of child cells. When placing these child cells, PlaceAndAutoRoute will then generate all the waveguides (as separate PCells) needed to connect the child cells together.     \n",
    "\n",
    "\n",
    "In order to create a PlaceAndAutoRoute cell we have to create a dictionary of \n",
    "\n",
    "* **child_cells** : a dictionary with the names of the child cell instances as keys. You can have multiple instances of each child cell. Here we have 5 chilcells:\n",
    "\n"
   ]
  },
  {
   "cell_type": "code",
   "execution_count": null,
   "metadata": {
    "collapsed": false
   },
   "outputs": [],
   "source": [
    "child_cells={\"in_grating\": my_grating,\n",
    "             \"pass_grating\": my_grating,\n",
    "             \"add_grating\" : my_grating, \n",
    "             \"drop_grating\" : my_grating,\n",
    "             \"ring\" : my_ring}"
   ]
  },
  {
   "cell_type": "markdown",
   "metadata": {},
   "source": [
    "* **links** : a list of ‘tuples’ with the end terms of each link. We identify the terms through the name of the instance and the name of the term, like ‘inst:term’. The terms of the PICAZZO ring resonators are named ``in1``, ``in2``, ``out1``, ``out2``. The terms of the grating couplers are called `out` and `vertical_in`."
   ]
  },
  {
   "cell_type": "code",
   "execution_count": null,
   "metadata": {
    "collapsed": true
   },
   "outputs": [],
   "source": [
    "links=[(\"in_grating:out\", \"ring:in1\"),\n",
    "       (\"pass_grating:out\", \"ring:out1\"),\n",
    "       (\"add_grating:out\", \"ring:in2\"),\n",
    "       (\"drop_grating:out\", \"ring:out2\")]"
   ]
  },
  {
   "cell_type": "markdown",
   "metadata": {},
   "source": [
    "Lets now instantiate a PCell with these childs and links:"
   ]
  },
  {
   "cell_type": "code",
   "execution_count": null,
   "metadata": {
    "collapsed": true
   },
   "outputs": [],
   "source": [
    "from picazzo3.routing.place_route import PlaceAndAutoRoute\n",
    "my_circuit = PlaceAndAutoRoute(child_cells=child_cells,\n",
    "                               links = links)   "
   ]
  },
  {
   "cell_type": "markdown",
   "metadata": {},
   "source": [
    "In the Layout of the PlaceAndAutoRoute you can provide:\n",
    "\n",
    "* **child_transformations** : a dict containing all the transformations that apply to each component. Those transformations usually include translations and rotations."
   ]
  },
  {
   "cell_type": "code",
   "execution_count": null,
   "metadata": {
    "collapsed": false
   },
   "outputs": [],
   "source": [
    "distance_x = 100.0\n",
    "distance_y = 50.0\n",
    "my_child_transformations={\"ring\": (0, 0),\n",
    "                           \"in_grating\": i3.Rotation(rotation=0) + i3.Translation((-distance_x, -distance_y)),\n",
    "                            \"pass_grating\": i3.Rotation(rotation=180) + i3.Translation((distance_x, -distance_y)),\n",
    "                            \"add_grating\": i3.Rotation(rotation=180) + i3.Translation((distance_x, distance_y)),\n",
    "                            \"drop_grating\": i3.Rotation(rotation=0) + i3.Translation((-distance_x, distance_y)),\n",
    "                           }\n",
    "my_circuit_layout = my_circuit.Layout(child_transformations=my_child_transformations)\n",
    "my_circuit_layout.visualize()"
   ]
  },
  {
   "cell_type": "markdown",
   "metadata": {},
   "source": [
    "### Make a circuit simulation\n",
    "\n",
    "The place and autoroute component we have made here is circuit that can use the circuit models of all its subcomponents. All we have to do is instantiate the correct model for these components:\n",
    "\n",
    "- Ring resonator\n",
    "- Grating coupler\n",
    "- Waveguides\n",
    "\n",
    "In what follows we do this for each component. The models in picazzo are **textbook** models and you are ultimately responisble for their correctness.\n",
    "\n",
    "Lets first start by instantiating the models for the directional couplers:"
   ]
  },
  {
   "cell_type": "code",
   "execution_count": null,
   "metadata": {
    "collapsed": false
   },
   "outputs": [],
   "source": [
    "# Parameters of the couplers. \n",
    "cp = dict(cross_coupling1=1j*0.3**0.5,\n",
    "          straight_coupling1=0.7**0.5) #The coupling from bus to ring and back\n",
    "\n",
    "my_ring_cm = my_ring.CircuitModel(ring_length=2 * np.pi * my_ring_layout.bend_radius, # we can manually specify the ring length,                                                                                    #we be take it from the layout\n",
    "                                coupler_parameters=[cp, cp]) # 2 couplers\n",
    "\n",
    "wavelengths =  np.linspace(1.50, 1.6, 2001)\n",
    "S = my_ring_cm.get_smatrix(wavelengths=wavelengths)\n",
    "\n",
    "plt.plot(wavelengths, np.abs(S['in1', 'out1'])**2, 'blue', label=\"pass\")\n",
    "plt.plot(wavelengths, np.abs(S['in1', 'out2'])**2, 'red', label=\"drop\")\n",
    "plt.plot(wavelengths, np.abs(S['in1', 'in2'])**2, 'green', label=\"add\")\n",
    "\n",
    "plt.xlabel(\"Wavelength ($\\mu m$)\")\n",
    "plt.ylabel(\"Power transmission\")\n",
    "plt.legend()\n",
    "plt.show()  "
   ]
  },
  {
   "cell_type": "markdown",
   "metadata": {},
   "source": [
    "We now instantiate the model for our grating coupler. This too is a textbook model based on \n",
    "\n",
    "- center_wavelength \n",
    "- 3db_bandwidth\n",
    "- peak field transmission \n",
    "- reflection\n",
    "\n",
    "Also this model is an approximation and you may ultimately have to implement your own."
   ]
  },
  {
   "cell_type": "code",
   "execution_count": null,
   "metadata": {
    "collapsed": false
   },
   "outputs": [],
   "source": [
    "my_grating_cm = my_grating.CircuitModel(center_wavelength=1.55, bandwidth_3dB=0.06, peak_transmission=0.60**0.5, reflection=0.05**0.5)\n",
    "S = my_grating_cm.get_smatrix(wavelengths=wavelengths)\n",
    "plt.plot(wavelengths, np.abs(S['out', 'vertical_in'])**2, 'blue', label=\"in-coupling\")\n",
    "plt.legend()\n",
    "plt.show()"
   ]
  },
  {
   "cell_type": "code",
   "execution_count": null,
   "metadata": {
    "collapsed": false
   },
   "outputs": [],
   "source": [
    "my_circuit_cm = my_circuit.CircuitModel()\n",
    "R = my_circuit_cm.get_smatrix(wavelengths=wavelengths)\n",
    "\n",
    "\n",
    "plt.plot(wavelengths, np.abs(R['in_grating_vertical_in', 'pass_grating_vertical_in'])**2, 'blue', label=\"pass\")\n",
    "plt.plot(wavelengths, np.abs(R['in_grating_vertical_in', 'drop_grating_vertical_in'])**2, 'red', label=\"drop\")\n",
    "plt.plot(wavelengths, np.abs(R['in_grating_vertical_in', 'add_grating_vertical_in'])**2, 'green', label=\"add\")\n",
    "plt.plot(wavelengths, np.abs(R['in_grating_vertical_in', 'in_grating_vertical_in'])**2, 'black', label=\"reflection\")\n",
    "plt.legend()\n",
    "plt.show()"
   ]
  },
  {
   "cell_type": "markdown",
   "metadata": {},
   "source": [
    "## Waveguides and waveguide templates"
   ]
  },
  {
   "cell_type": "markdown",
   "metadata": {},
   "source": [
    "In IPKISS waveguides are constructed by using ``WaveguideTemplates``. The use of templates makes it easier to instantiate waveguides PCells that contain all the relevant views. As the name suggests, a WaveguideTemplate is a blueprint that contains all the generic properties (such as waveguide width, layer properties and so on) of a waveguide.\n",
    "\n",
    "<img src=\"_images/waveguide_templates.png\" width=800 >\n",
    "\n",
    "The standard waveguide template in Picazzo is ``WireWaveguideTemplate`` which is basically composed of a core and a cladding (Feel free to check out the documentation for more templates or for information on how to create your own)\n",
    "\n",
    "Waveguidetemplates are also **PCells with views and properties**\n",
    "\n",
    "Then it is then easy to create RoundedWaveguides and set the trace_template property on the pcell level.\n"
   ]
  },
  {
   "cell_type": "code",
   "execution_count": null,
   "metadata": {
    "collapsed": false
   },
   "outputs": [],
   "source": [
    "from picazzo3.traces.wire_wg.trace import WireWaveguideTemplate\n",
    "## Create the waveguide template \n",
    "wg_t = WireWaveguideTemplate()\n",
    "wg_t.Layout(core_width=0.2,\n",
    "            cladding_width=1 * 3.0 + 0.47)\n",
    "\n",
    "# Instantiate a rounded waveguide using the template we just created\n",
    "wg = i3.RoundedWaveguide(trace_template=wg_t)\n",
    "# Assign a shape to the waveguide.\n",
    "layout = wg.Layout(shape=[i3.Coord2((0.0, 0.0)), i3.Coord2((10.0, 0.0)), i3.Coord2((20.0, 20.0))],\n",
    "                   bend_radius=7.0,\n",
    "                   manhattan=False,\n",
    "                   draw_control_shape=False)\n",
    "\n",
    "layout.visualize()"
   ]
  },
  {
   "cell_type": "markdown",
   "metadata": {},
   "source": [
    "#### Exercise 2:\n",
    "\n",
    "<font color=\"red\"> Exercise 2: Create an S-Bend between the points and use a waveguide template with a core width of 0.3"
   ]
  },
  {
   "cell_type": "code",
   "execution_count": null,
   "metadata": {
    "collapsed": true
   },
   "outputs": [],
   "source": [
    "start_point = i3.Coord2((0.0,0.0))\n",
    "end_point = i3.Coord2((20.0, 20.0))"
   ]
  },
  {
   "cell_type": "markdown",
   "metadata": {},
   "source": [
    "<img src=\"_images/s_bend.png\" width=200 >\n",
    "\n",
    "\n",
    "<font color=\"black\">\n",
    "Solution: [exercise_2.py](/edit/base_pcell_views_properties/support_files/place_and_auto_route/exercise_2.py)"
   ]
  },
  {
   "cell_type": "code",
   "execution_count": null,
   "metadata": {
    "collapsed": false
   },
   "outputs": [],
   "source": [
    "# Create your pcell here.\n",
    "\n",
    "\n"
   ]
  },
  {
   "cell_type": "markdown",
   "metadata": {},
   "source": [
    "#### Using waveguide templates in Picazzo components\n",
    "\n",
    "Some picazzo components have trace templates as a parameter as well. For instance if you want to change the trace template of the coupler of the rings."
   ]
  },
  {
   "cell_type": "code",
   "execution_count": null,
   "metadata": {
    "collapsed": false
   },
   "outputs": [],
   "source": [
    "my_ring_wgt = RingRect180DropFilter(coupler_trace_templates=[wg_t, wg_t],\n",
    "                                    ring_trace_template = wg_t)\n",
    "my_ring_wgt_layout = my_ring_wgt.Layout(bend_radius=10.0)\n",
    "my_ring_wgt_layout.visualize()"
   ]
  },
  {
   "cell_type": "markdown",
   "metadata": {},
   "source": [
    "Same is true for the grating couplers"
   ]
  },
  {
   "cell_type": "code",
   "execution_count": null,
   "metadata": {
    "collapsed": false
   },
   "outputs": [],
   "source": [
    "# Curved grating\n",
    "from picazzo3.fibcoup.curved import FiberCouplerCurvedGrating\n",
    "my_grating_wgt = FiberCouplerCurvedGrating(start_trace_template=wg_t)\n",
    "my_grating_wgt_layout = my_grating.Layout(n_o_lines=24, period_x=0.65, box_width=15.5)\n",
    "my_grating_wgt_layout.visualize()"
   ]
  },
  {
   "cell_type": "markdown",
   "metadata": {},
   "source": [
    "Naturally PlaceAndAutoRoute also uses waveguide templates. "
   ]
  },
  {
   "cell_type": "code",
   "execution_count": null,
   "metadata": {
    "collapsed": false
   },
   "outputs": [],
   "source": [
    "my_circuit = PlaceAndAutoRoute(trace_template=wg_t,\n",
    "                               \n",
    "                               child_cells={\"in_grating\": my_grating_wgt,\n",
    "                                            \"pass_grating\": my_grating_wgt,\n",
    "                                            \"add_grating\" : my_grating_wgt, \n",
    "                                            \"drop_grating\" : my_grating_wgt,\n",
    "                                            \"ring\" : my_ring_wgt},\n",
    "                       \n",
    "                                   links=[(\"in_grating:out\", \"ring:in1\"),\n",
    "                                          (\"pass_grating:out\", \"ring:out1\"),\n",
    "                                          (\"add_grating:out\", \"ring:in2\"),\n",
    "                                          (\"drop_grating:out\", \"ring:out2\")]\n",
    "                                   )\n",
    "\n",
    "distance_x = 100.0\n",
    "distance_y = 50.0\n",
    "my_child_transformations={\"ring\": (0, 0),\n",
    "                           \"in_grating\": i3.Rotation(rotation=0) + i3.Translation((-distance_x, -distance_y)),\n",
    "                            \"pass_grating\": i3.Rotation(rotation=180) + i3.Translation((distance_x, -distance_y)),\n",
    "                            \"add_grating\": i3.Rotation(rotation=180) + i3.Translation((distance_x, distance_y)),\n",
    "                            \"drop_grating\": i3.Rotation(rotation=0) + i3.Translation((-distance_x, distance_y)),\n",
    "                           }\n",
    "my_circuit_layout = my_circuit.Layout(child_transformations=my_child_transformations)\n",
    "my_circuit_layout.visualize()"
   ]
  },
  {
   "cell_type": "markdown",
   "metadata": {},
   "source": [
    "## Up Next"
   ]
  },
  {
   "cell_type": "markdown",
   "metadata": {},
   "source": [
    "<div>\n",
    "<div style=\"width: 40%; display: inline; margin:0; float: left\"> <p> \n",
    "<a href=\"06-demux.ipynb\"> <img src=\"_images/demux.png\" width=400 ></a> </p> </div>\n",
    "<div style=\"width: 49%;  display: inline; float: right; margin:0\"> <p> <a href=\"06-demux.ipynb\">Designing a 4-way demultiplexer\n",
    "</div>"
   ]
  }
 ],
 "metadata": {
  "kernelspec": {
   "display_name": "Python 2",
   "language": "python",
   "name": "python2"
  },
  "language_info": {
   "codemirror_mode": {
    "name": "ipython",
    "version": 2
   },
   "file_extension": ".py",
   "mimetype": "text/x-python",
   "name": "python",
   "nbconvert_exporter": "python",
   "pygments_lexer": "ipython2",
   "version": "2.7.15"
  }
 },
 "nbformat": 4,
 "nbformat_minor": 0
}
