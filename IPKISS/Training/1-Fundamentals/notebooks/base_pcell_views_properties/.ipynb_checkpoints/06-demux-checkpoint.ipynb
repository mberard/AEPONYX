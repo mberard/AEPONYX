{
 "cells": [
  {
   "cell_type": "markdown",
   "metadata": {},
   "source": [
    "# Designing a 4-way demultiplexer\n",
    "\n",
    "\n",
    "This notebook is a larger excercise where we are going to design a 4-way drop filter as depcited in the following image.\n",
    "\n",
    "<img src=\"_images/demux.png\" width=800>\n",
    "\n",
    "with the following transmission where the resonnances are separated by 200 GHz.\n",
    "\n",
    "<img src=\"_images/demux_trans.png\" width=800 >\n"
   ]
  },
  {
   "cell_type": "markdown",
   "metadata": {},
   "source": [
    "As demonstrated in the previous notebook you will have to use PlaceAndAutoRoute with correct values for the **cells**, **links** and **transformations**. "
   ]
  },
  {
   "cell_type": "markdown",
   "metadata": {},
   "source": [
    "## Cells\n",
    "\n",
    "There are 4 components involved here:\n",
    "\n",
    "- Grating Coupler\n",
    "- Splitter \n",
    "- Ring Resonators (each tuned to a different resonance frequency)\n",
    "- Terminations for the unused drop port of the ring.\n",
    "\n",
    "Each of those components have a Layout and a Model\n",
    "\n",
    "Let us import everything we need for that first."
   ]
  },
  {
   "cell_type": "code",
   "execution_count": null,
   "metadata": {
    "collapsed": false
   },
   "outputs": [],
   "source": [
    "# Fix paths so that relative imports work in ipython \n",
    "import os, sys\n",
    "sys.path.append('.')\n",
    "%pylab inline\n",
    "pylab.rcParams['figure.figsize'] = (12, 6)\n",
    "from technologies import silicon_photonics\n",
    "from ipkiss3 import all as i3\n",
    "import numpy as np\n",
    "import pylab as plt\n",
    "\n",
    "from picazzo3.traces.wire_wg import WireWaveguideTemplate\n",
    "from picazzo3.fibcoup.curved import FiberCouplerCurvedGrating\n",
    "from picazzo3.apertures.basic import WireWgAperture\n",
    "from support_files.mmi import SimpleMMI\n",
    "from support_files.ring import SimpleRing\n",
    "from picazzo3.routing.place_route import PlaceAndAutoRoute\n",
    "\n",
    "wavelengths =  np.linspace(1.52, 1.58, 4001)"
   ]
  },
  {
   "cell_type": "markdown",
   "metadata": {},
   "source": [
    "### Grating coupler\n",
    "\n",
    "For the grating coupler, we use the Picazzo libary."
   ]
  },
  {
   "cell_type": "code",
   "execution_count": null,
   "metadata": {
    "collapsed": false
   },
   "outputs": [],
   "source": [
    "grating_coupler = FiberCouplerCurvedGrating()\n",
    "grating_coupler_layout = grating_coupler.Layout()\n",
    "grating_cm = grating_coupler.CircuitModel(center_wavelength=1.55, bandwidth_3dB=0.06, peak_transmission=0.60**0.5, reflection=0.01**0.5)\n",
    "# Plot Layout\n",
    "grating_coupler_layout.visualize(annotate=True)\n",
    "# Plot model\n",
    "S = grating_cm.get_smatrix(wavelengths=wavelengths)\n",
    "plt.plot(wavelengths, 20 * np.log10(np.abs(S['vertical_in', 'out'])), label='coupling')\n",
    "plt.plot(wavelengths, 20 * np.log10(np.abs(S['out', 'out'])), label='reflection')\n",
    "plt.legend()"
   ]
  },
  {
   "cell_type": "markdown",
   "metadata": {},
   "source": [
    "### Splitter\n",
    "Also for the splitter we use the Picazzo library "
   ]
  },
  {
   "cell_type": "code",
   "execution_count": null,
   "metadata": {
    "collapsed": false
   },
   "outputs": [],
   "source": [
    "splitter = SimpleMMI()\n",
    "splitter_layout = splitter.Layout(length=14.1428571429, waveguide_spacing=2.1)\n",
    "splitter_cm = splitter.CircuitModel(straight_coupling1=0.45**0.5)\n",
    "\n",
    "# Plot Layout\n",
    "splitter_layout.visualize(annotate=True)\n",
    "# Plot model\n",
    "S = splitter_cm.get_smatrix(wavelengths=wavelengths)\n",
    "plt.plot(wavelengths, 20 * np.log10(np.abs(S['in', 'out1'])), label='thru1')\n",
    "plt.plot(wavelengths, 20 * np.log10(np.abs(S['in', 'out2'])), label='thru2')\n",
    "plt.legend()"
   ]
  },
  {
   "cell_type": "markdown",
   "metadata": {},
   "source": [
    "### Rings\n",
    "\n",
    "We want ring resonators that are spaced by 200 GHz. To make your life easier we have created our own ring class that uses RingRect180DropFilter but specializes it to take resonance frequency as a property. Internally the ring class takes a look at the effective index of the waveguide and calculates its bend radius automatically. If you are interested feel free to take a look, here we will just use the class.\n",
    "\n",
    "<font color=\"black\">\n",
    "Ring: [ring.py](/edit/base_pcell_views_properties/support_files/ring.py)\n",
    "\n",
    "As we have a 4 rings it is most convenient to use a for loop and fill an array with the ring cells."
   ]
  },
  {
   "cell_type": "code",
   "execution_count": null,
   "metadata": {
    "collapsed": false
   },
   "outputs": [],
   "source": [
    "spacing_ghz = 200\n",
    "spacing_um = (spacing_ghz*1e9 * (1.55*1e-6)**2 / 3e8)*1e6 #Calculate the spacing in um\n",
    "res_w = 1.550 + spacing_um * np.array([0.0, 1.0, 2.0, 3.0])\n",
    "rings = []\n",
    "r_layouts = []\n",
    "for nr, r in enumerate(res_w):\n",
    "    ring=SimpleRing(resonance_wavelength=r)\n",
    "    rings.append(ring)\n",
    "    r_layout = ring.Layout()\n",
    "    r_layouts.append(r_layout)\n",
    "    if nr ==0:\n",
    "        # Visualize Layout (only the first one)\n",
    "        r_layout.visualize(annotate=True)\n",
    "        r_cm = ring.CircuitModel()\n",
    "        # Simulate ring (only the first one)\n",
    "        S = r_cm.get_smatrix(wavelengths=wavelengths)\n",
    "        plt.plot(wavelengths, 20 * np.log10(np.abs(S['in1', 'out1'])), label='ring{}'.format(nr))\n",
    "        plt.ylim([-80,1])\n",
    "    print \"Ring created with resonance frequency  {}\".format(r)\n"
   ]
  },
  {
   "cell_type": "markdown",
   "metadata": {},
   "source": [
    "### Terminations\n",
    "\n",
    "To avoid back-reflections into the ring is better to put terminations on the unused ports. \n",
    "Also here we use Picazzo "
   ]
  },
  {
   "cell_type": "code",
   "execution_count": null,
   "metadata": {
    "collapsed": false
   },
   "outputs": [],
   "source": [
    "wt = WireWaveguideTemplate()\n",
    "wt.Layout(core_width = 0.9,\n",
    "          cladding_width = 2 * i3.TECH.WG.WIRE_WIDTH + 0.9)\n",
    "wwa = WireWgAperture(aperture_trace_template = wt)\n",
    "wwa_lay = wwa.Layout()\n",
    "wwa_cm = wwa.CircuitModel(reflection=0.001)\n",
    "\n",
    "# Plot Layout\n",
    "wwa_lay.visualize(annotate=True)\n",
    "# Plot model\n",
    "S = wwa_cm.get_smatrix(wavelengths=wavelengths)\n",
    "plt.plot(wavelengths, 20 * np.log10(np.abs(S['in','in'])), label='reflection')\n"
   ]
  },
  {
   "cell_type": "markdown",
   "metadata": {},
   "source": [
    "## Making the circuit\n",
    "\n",
    "Now is the time to make the full circuit using PlaceAndAutoRoute, which requires passing a dict of **cells**, **links** and **transformations** to pass to PlaceAndAutoRoute later. \n",
    "\n",
    "#### Vectormatchtransform. \n",
    "\n",
    "To calculate our transformations we can use  `i3.vector_match_transform`, which can use a bit more explaination. As the name implies, this transformation matches two vectors together. For instance:\n",
    "\n",
    "\n",
    "`i3.vector_match_transform(grating_coupler_layout.ports[\"out\"], i3.Vector(position=(0,0), angle=180.0))`\n",
    "\n",
    "When applied to the grating coupler, it will place the out port of the grating coupler at position (0,0) and align the port to 180.0 degrees, meaning that it would accept a waveguide coming from a 180 angle. The port itself would then point at 0.0 degrees.\n",
    "\n",
    "#### Up to you\n",
    "\n",
    "Now it is up to you to fill **cells**, **links** and **transformations**. We have already put the components in there - its up to you to complete the circuit. \n",
    "\n",
    "\n",
    "<font color=\"black\">\n",
    "Solution: [exercise_3.py](/edit/base_pcell_views_properties/support_files/place_and_auto_route/exercise_3.py)"
   ]
  },
  {
   "cell_type": "code",
   "execution_count": null,
   "metadata": {
    "collapsed": true
   },
   "outputs": [],
   "source": [
    "# Making the circuit\n",
    "cells = {\"gc_in\"     : grating_coupler,\n",
    "         \"gc_ref\"    : grating_coupler,\n",
    "         \"gc_pass\"   : grating_coupler,\n",
    "         \"splitter\"  : splitter\n",
    "         }\n",
    "\n",
    "# Update the cells dict with all rings, grating couplers, and terminations\n",
    "for cnt, r in enumerate(rings, 1):\n",
    "    cells[\"ring{}\".format(cnt)] = rings[cnt - 1]\n",
    "    cells[\"gc_out{}\".format(cnt)] = grating_coupler\n",
    "    cells[\"term_out{}\".format(cnt)] = wwa\n",
    "    \n",
    "         \n",
    "links = [# input coupler to splitter\n",
    "         (\"gc_in:out\",      \"splitter:in\"), \n",
    "         \n",
    "         # reference output to splitter output\n",
    "         (\"gc_ref:out\",     \"splitter:out1\")]\n",
    "         \n",
    "d = 100.0\n",
    "transformations = dict()\n",
    "transformations['gc_in'] = i3.vector_match_transform(grating_coupler_layout.ports[\"out\"], i3.Vector(position=(0,0), angle=180.0))\n",
    "transformations['splitter'] = i3.vector_match_transform(splitter_layout.ports[\"in\"], i3.Vector(position=(d/2,0), angle=0.0))\n",
    "\n",
    "for cnt, r in enumerate(rings, 1):\n",
    "    transformations[\"ring{}\".format(cnt)] = i3.vector_match_transform(r_layouts[cnt-1].ports[\"in1\"], i3.Vector(position=(cnt*d,d/2), angle=0.0))\n",
    "    transformations[\"gc_out{}\".format(cnt)] = i3.vector_match_transform(grating_coupler_layout.ports[\"out\"], i3.Vector(position=(cnt*d-10,d), angle=90.0))\n",
    "    transformations[\"term_out{}\".format(cnt)] = i3.Rotation(rotation=90.0,rotation_center=wwa_lay.ports[\"in\"]) + \\\n",
    "        i3.vector_match_transform(wwa_lay.ports[\"in\"],\n",
    "        r_layouts[cnt-1].ports[\"in2\"].transform_copy(transformations[\"ring{}\".format(cnt)])) + \\\n",
    "        i3.Translation(translation=(10.0,10.0))\n",
    "\n",
    "\n",
    "\n",
    "transformations['gc_ref'] = i3.vector_match_transform(grating_coupler_layout.ports[\"out\"], i3.Vector(position=(5*d,-d/2), angle=0.0))\n",
    "transformations['gc_pass'] = i3.vector_match_transform(grating_coupler_layout.ports[\"out\"], i3.Vector(position=(5*d,d/2), angle=0.0))  "
   ]
  },
  {
   "cell_type": "markdown",
   "metadata": {},
   "source": [
    "## Plot the layout and simulate the circuit\n",
    "\n",
    "We now use PlaceAndAutoRoute to create the circuit and do the circuit simulation."
   ]
  },
  {
   "cell_type": "code",
   "execution_count": null,
   "metadata": {
    "collapsed": false
   },
   "outputs": [],
   "source": [
    "# Create the PCell\n",
    "my_circuit = PlaceAndAutoRoute(child_cells=cells,\n",
    "                               links=links)\n",
    "\n",
    "# Create Layout\n",
    "layout = my_circuit.Layout(child_transformations=transformations)\n",
    "layout.visualize(annotate=True)\n",
    "layout.write_gdsii(\"full_circuit.gds\")\n"
   ]
  },
  {
   "cell_type": "markdown",
   "metadata": {},
   "source": [
    "# Flatten design\n",
    "\n",
    "If the you pick resonance frequencies that lead to a off-grid ports it is safest to flatten your entire design as different GDSII viewers do rounding in a slightly different way. The following lines of code show you how to do that."
   ]
  },
  {
   "cell_type": "code",
   "execution_count": null,
   "metadata": {
    "collapsed": true
   },
   "outputs": [],
   "source": [
    "\n",
    "top_cell_layout_flat = layout.layout.flat_copy()\n",
    "top_layout_flat = i3.LayoutCell().Layout(elements=top_cell_layout_flat)\n",
    "top_layout_flat.write_gdsii(\"full_circuit_flat.gds\")\n"
   ]
  },
  {
   "cell_type": "markdown",
   "metadata": {},
   "source": [
    "### Simulate the circuit\n",
    "\n",
    "You can now run a circuit simulation.\n",
    "\n",
    "Note: If the circuit is wrong or uncomplete, your circuit simulation will be too."
   ]
  },
  {
   "cell_type": "code",
   "execution_count": null,
   "metadata": {
    "collapsed": false
   },
   "outputs": [],
   "source": [
    "cm = my_circuit.CircuitModel()\n",
    "wavelengths =  np.linspace(1.52, 1.58, 4001)\n",
    "S = cm.get_smatrix(wavelengths=wavelengths)\n",
    "\n",
    "plt.figure()\n",
    "plt.plot(wavelengths, 20 * np.log10(np.abs(S['gc_in_vertical_in', 'gc_pass_vertical_in'])), label='pass')\n",
    "plt.plot(wavelengths, 20 * np.log10(np.abs(S['gc_in_vertical_in', 'gc_out1_vertical_in'])), label='out1')\n",
    "plt.plot(wavelengths, 20 * np.log10(np.abs(S['gc_in_vertical_in', 'gc_out2_vertical_in'])), label='out2')\n",
    "plt.plot(wavelengths, 20 * np.log10(np.abs(S['gc_in_vertical_in', 'gc_out3_vertical_in'])), label='out3')\n",
    "plt.plot(wavelengths, 20 * np.log10(np.abs(S['gc_in_vertical_in', 'gc_out4_vertical_in'])), label='out4')\n",
    "plt.plot(wavelengths, 20 * np.log10(np.abs(S['gc_in_vertical_in', 'gc_ref_vertical_in'])), label='ref')\n",
    "plt.title(\"Circuit transmission (power)\")\n",
    "plt.xlabel(\"Wavelength ($\\mu m$)\")\n",
    "plt.ylabel(\"Transmission [dB]\")\n",
    "plt.ylim([-80,0])\n",
    "plt.xlim([1.52,1.60])\n",
    "for w in res_w:\n",
    "    plt.axvline(x=w)\n",
    "plt.legend()\n",
    "plt.show()"
   ]
  },
  {
   "cell_type": "markdown",
   "metadata": {},
   "source": [
    "### Additional Exercise\n",
    "\n",
    "#### Create a 8-way multiplexer.\n",
    "\n",
    "Try to create a 8-way demultiplexer with a channel spacing of 100 GHz.\n",
    "\n",
    "<img src=\"_images/8mux.png\" width=800>\n",
    "<img src=\"_images/8way_trans.png\" width=800>\n",
    "\n",
    "\n",
    "\n",
    "\n",
    "**HINT** Best is to make a copy of this notebook and make the modifications in there (file-> Make a copy)\n",
    "\n",
    "Solution: [exercise_4.py](/edit/base_pcell_views_properties/support_files/place_and_auto_route/exercise_4.py)\n"
   ]
  },
  {
   "cell_type": "code",
   "execution_count": null,
   "metadata": {
    "collapsed": true
   },
   "outputs": [],
   "source": []
  }
 ],
 "metadata": {
  "kernelspec": {
   "display_name": "Python 2",
   "language": "python",
   "name": "python2"
  },
  "language_info": {
   "codemirror_mode": {
    "name": "ipython",
    "version": 2
   },
   "file_extension": ".py",
   "mimetype": "text/x-python",
   "name": "python",
   "nbconvert_exporter": "python",
   "pygments_lexer": "ipython2",
   "version": "2.7.15"
  }
 },
 "nbformat": 4,
 "nbformat_minor": 2
}
