{
 "cells": [
  {
   "cell_type": "markdown",
   "metadata": {},
   "source": [
    "## Introduction\n",
    "\n",
    "To fully describe the circuit behavior of a building block, one should at least define a Netlist view and a CircuitModel view. Those views can simply be added to the already existing Layoutview. The advantage is that both the Layout and the Circuit model of your component are defined in one place and you are in control on how the matching between the model and the Layout is done. For example the model can be based on:\n",
    "\n",
    "1. An analytic expression\n",
    "2. A measurement file\n",
    "3. A physical simulation\n",
    "4. Any scripted function that generates an s-matrix.\n",
    "\n",
    "In short, the tool will not limit you in terms of the frequency models you can define. \n",
    "\n",
    "**note**: there are many resources in the documentation that can help you after this training (but which you do not need now to finish this training):\n",
    "\n",
    "* [Caphe tutorial](http://docs.lucedaphotonics.com/3.1/tutorials/circuitmodels/index.html)\n",
    "* [Netlist view guide](http://docs.lucedaphotonics.com/3.1/guides/netlist/index.html)\n",
    "* [Caphe introduction](http://docs.lucedaphotonics.com/3.1/guides/caphe/index.html)"
   ]
  },
  {
   "cell_type": "markdown",
   "metadata": {},
   "source": [
    "### Netlist View\n",
    "The netlist is used to describe the terms, and potentially sub-components and connectivity of a component. For our disk resonator, we want to define the two terms (1 input, 1 output). The CircuitModel view will describe the scattering matrix. \n",
    "\n",
    "We start by describing the netlist of the disk resonator. The disk resonator has 2 terms as shown below:\n",
    "\n",
    "<img src=\"_images/netlist_disk.png\" width=250>\n",
    "\n",
    "The disk has with two ports (in, out)\n",
    "\n",
    "This netlist contains all terms and connectivity information that is needed by Caphe to create a circuit. Our component, a disk resonator, does not have any internal components nor connectivity and can just be described by the two terms that connect it to the outside world.\n",
    "\n",
    "Terms are defined using the `_generate_terms(self, terms)` method in the Netlist view. Let’s see how this is done in practice:"
   ]
  },
  {
   "cell_type": "code",
   "execution_count": null,
   "metadata": {
    "collapsed": true
   },
   "outputs": [],
   "source": [
    "from technologies import silicon_photonics # Import the standard technology\n",
    "from ipkiss3 import all as i3"
   ]
  },
  {
   "cell_type": "code",
   "execution_count": null,
   "metadata": {
    "collapsed": false
   },
   "outputs": [],
   "source": [
    "# Fix paths so that relative imports and plotting work in ipython \n",
    "import os, sys\n",
    "sys.path.append('.')\n",
    "%pylab inline\n",
    "pylab.rcParams['figure.figsize'] = (12, 6)"
   ]
  },
  {
   "cell_type": "code",
   "execution_count": null,
   "metadata": {
    "collapsed": false
   },
   "outputs": [],
   "source": [
    "import numpy as np\n",
    "\n",
    "class DiskWithNetlist(i3.PCell):\n",
    "    \"\"\"A Disk resonator.\n",
    "    \"\"\"       \n",
    "    class Netlist(i3.NetlistView):\n",
    "        \n",
    "        def _generate_terms(self, terms):\n",
    "            terms += i3.OpticalTerm(name=\"in\")\n",
    "            terms += i3.OpticalTerm(name=\"out\")\n",
    "            return terms           "
   ]
  },
  {
   "cell_type": "markdown",
   "metadata": {},
   "source": [
    "Optical terms are added to the terms list using the i3.OpticalTerm function. We can now create an instance of the DiskResonator and query its terms"
   ]
  },
  {
   "cell_type": "code",
   "execution_count": null,
   "metadata": {
    "collapsed": false
   },
   "outputs": [],
   "source": [
    "my_disk = DiskWithNetlist()\n",
    "my_disk_netlist = my_disk.Netlist()\n",
    "print my_disk_netlist.terms"
   ]
  },
  {
   "cell_type": "markdown",
   "metadata": {},
   "source": [
    "### CircuitModel\n",
    "\n",
    "The behavior of a linear, passive component can be described using its scattering matrix (S-matrix). For a specific component, the scattering matrix defines the amplitude and phase relationship between input signals in each term and each mode, and output signals in each term and each mode. It is therefore an (n x m, n x m) square matrix as illustrated here.\n",
    "\n",
    "<img src=\"_images/smatrix.png\" width=400>\n",
    "\n",
    "\n",
    "Our ring resonator has 2 terms and 1 mode (per term). To model its scattering coefficients, 4 coefficients are therefore needed. If we assume no reflections, the transmission of the ring can be approximated by a Lorentzian function whose properties depend on:\n",
    "\n",
    "1. the optical length of the disk \n",
    "2. the loss inside the disk\n",
    "3. the transmission in the directional coupler\n",
    "\n",
    "Without going into more details, we assume the following S matrix for our disk resonator. \n",
    "\n",
    "\\begin{equation}\n",
    "\\left(\\begin{array}{c}\n",
    "B_{in}\\\\\n",
    "B_{out}\n",
    "\\end{array}\\right)=\\left(\\begin{array}{cc}\n",
    "0 & T\\\\\n",
    "T & 0\n",
    "\\end{array}\\right)\\left(\\begin{array}{c}\n",
    "A_{in}\\\\\n",
    "A_{out}\n",
    "\\end{array}\\right)\n",
    "\\end{equation}\n",
    "\n",
    "where $A_x$ denote the incoming wave in each port and $B_x$ the outcoming wave. The transmission $T$ can be calculated as:\n",
    "\n",
    "\\begin{equation}\n",
    "T=\\frac{t_{c}-t_{d}\\exp(1j\\beta l_{d})}{1-t_{c}t_{d}\\exp(1j\\beta_d l_{d})}\n",
    "\\end{equation}\n",
    "\n",
    "where \n",
    "\n",
    "- $t_c$: field transmission trough the directional coupler. $t_c=1$ means that no power is coupled to the disk.\n",
    "- $t_d$: field roundtrip transmission through the disk. $t_d=1$ means the no power is lost in the disk.\n",
    "- $l_d$: length of the disk.\n",
    "- $\\beta_d = \\frac{2\\pi}{\\lambda} n_{eff_d} $: propagation constant of the disk mode and can readily be calculated using the wavelength and the effective index of the mode in de disk.\n",
    "\n",
    "Let's now create a PCell with both a Netlist and a CircuitModel to see how this is implemented in Ipkiss."
   ]
  },
  {
   "cell_type": "code",
   "execution_count": null,
   "metadata": {
    "collapsed": false
   },
   "outputs": [],
   "source": [
    "class RingModel(i3.CompactModel):\n",
    "    \n",
    "\n",
    "    parameters = [\n",
    "       'disk_roundtrip_transmission',\n",
    "       'disk_n_eff',\n",
    "       'coupler_bar_transmission',\n",
    "       'disk_length'\n",
    "        ]\n",
    "    \n",
    "    terms = [i3.OpticalTerm(name='in', n_modes=1), \n",
    "             i3.OpticalTerm(name='out', n_modes=1)]\n",
    "    \n",
    "    def calculate_smatrix(parameters, env, S):\n",
    "        \n",
    "        beta = 2 * np.pi / env.wavelength * parameters.disk_n_eff\n",
    "        t = parameters.coupler_bar_transmission - parameters.disk_roundtrip_transmission * np.exp(1j * beta * parameters.disk_length)\n",
    "        n = 1 - parameters.coupler_bar_transmission * parameters.disk_roundtrip_transmission * np.exp(1j * beta * parameters.disk_length)\n",
    "        \n",
    "        S['in', 'out'] = S['out', 'in'] = t / n\n",
    "        S['in', 'in'] = S['out', 'out'] = 0\n",
    "\n",
    "\n",
    "\n",
    "\n",
    "class DiskResonator(i3.PCell):\n",
    "    \"\"\"A Disk resonator.\n",
    "    \"\"\"       \n",
    "    class Netlist(i3.NetlistView):\n",
    "        \n",
    "        def _generate_terms(self, terms):\n",
    "            terms += i3.OpticalTerm(name=\"in\")\n",
    "            terms += i3.OpticalTerm(name=\"out\")\n",
    "            return terms   \n",
    "        \n",
    "    class CircuitModel(i3.CircuitModelView):\n",
    "        \"\"\"\n",
    "        A simple disk model\n",
    "        \"\"\"\n",
    "        disk_roundtrip_transmission = i3.NonNegativeNumberProperty(default=0.99, doc=\"Amplitude transmission after one pass in the disk\")\n",
    "        disk_n_eff = i3.PositiveNumberProperty(default=3.0, doc=\"Effective index of the disk waveguide\")\n",
    "        coupler_bar_transmission = i3.ComplexNumberProperty(default=0.99, doc=\"Transmission in the (lossless) directional coupler. What passes through and is not droped to the other channel.\")\n",
    "        disk_length = i3.PositiveNumberProperty(default=10.0, doc=\"disk physical length\")\n",
    "        \n",
    "        def _generate_model(self):\n",
    "            return RingModel(disk_roundtrip_transmission=self.disk_roundtrip_transmission,\n",
    "                             disk_n_eff=self.disk_n_eff,\n",
    "                             coupler_bar_transmission=self.coupler_bar_transmission,\n",
    "                             disk_length=self.disk_length)\n",
    "            \n",
    "\n"
   ]
  },
  {
   "cell_type": "markdown",
   "metadata": {},
   "source": [
    "Let’s have a closer look at our RingModel class. It is a self-contained parametric model that can be defined extrally to the class. Inside the class we define the calculate_smatrix ``calculate_smatrix(parameters, env, S)`` method. The parameters of ``calculate_smatrix`` have the following meaning:\n",
    "\n",
    "- parameters: A list containing the name of the parameters of the model. As we compile our models there are restrictions on the type of parameters that can be passed to a model that only accept (String, complex and real floats and numpy arrays of complex numbers)\n",
    "- env: a global object that contains the wavelength\n",
    "- S: the scatter matrix of the model. \n",
    "\n",
    "In order to calculate the scattering matrix between the terms for each mode, calculate_smatrix will be evaluated by Caphe for each wavelength."
   ]
  },
  {
   "cell_type": "code",
   "execution_count": null,
   "metadata": {
    "collapsed": false
   },
   "outputs": [],
   "source": [
    "my_disk = DiskResonator()\n",
    "my_disk_cm =  my_disk.CircuitModel(disk_length=10.0,\n",
    "                                   disk_roundtrip_transmission=0.90,\n",
    "                                   coupler_bar_transmission=0.90)"
   ]
  },
  {
   "cell_type": "markdown",
   "metadata": {},
   "source": [
    "### Running a simulation "
   ]
  },
  {
   "cell_type": "markdown",
   "metadata": {},
   "source": [
    "Every correctly defined model can generate a S-Matrix based on an array of wavelengths. \n",
    "In what follows we run such a simulation and plot the results. "
   ]
  },
  {
   "cell_type": "code",
   "execution_count": null,
   "metadata": {
    "collapsed": false
   },
   "outputs": [],
   "source": [
    "# Create a wavelength array.\n",
    "wavelengths = np.arange(1.3, 1.6, 0.0001)\n",
    "# Get a the S-Matrix from the disk.\n",
    "trans_model = my_disk_cm.get_smatrix(wavelengths=wavelengths)\n",
    "# Plotting simulation the results.\n",
    "plt.plot(wavelengths, np.abs(trans_model['in', 'out']) ** 2, label='Through-model')\n",
    "plt.xlabel(\"Wavelength ($\\mu m$)\")\n",
    "plt.ylabel(\"Power transmission\")\n",
    "plt.ylim([0, 1.0])\n",
    "plt.show()"
   ]
  },
  {
   "cell_type": "markdown",
   "metadata": {},
   "source": [
    "#### Exercise 1:\n",
    "\n",
    "A directional coupler is a light splitting device with 4 terms and 1 mode (per term). \n",
    "\n",
    "<img src=\"_images/directional_coupler.png\" width=250>\n",
    "\n",
    "To model its scattering coefficients, the modes in the two parallel waveguides can be decomposed into two supermodes,\n",
    "each having a slightly different effective index. The beating of the two supermodes causes light to\n",
    "transfer from one waveguide to the other one.\n",
    "\n",
    "Without going into more details, we assume the following:\n",
    "\n",
    "\\begin{array}{c}\n",
    "\\beta_{1}=\\frac{2\\pi}{\\lambda}n_{eff,1}\\\\\n",
    "\\beta_{2}=\\frac{2\\pi}{\\lambda}n_{eff,2}\\\\\n",
    "\\Delta\\beta=\\frac{2\\pi}{\\lambda}\\Delta n_{eff}\\\\\n",
    "\\phi=\\Delta\\beta\\cdot L_{DC}\n",
    "\\end{array}\n",
    "    \n",
    "Where $\\Delta n_{eff}$ is the effective index difference between the two supermodes, and $L_{DC}$ is the length of the directional coupler. $\\phi$ is the total phase shift caused by the beating of the two supermodes.\n",
    "If we order the ports as they are shown in the netlist view ([\"in1\", \"in2\", \"out1\", \"out2\"]), then the scatter matrix looks like this:\n",
    "\\begin{equation}\n",
    "\\left(\\begin{array}{c}\n",
    "B_{in_{1}}\\\\\n",
    "B_{in2}\\\\\n",
    "B_{out1}\\\\\n",
    "B_{out2}\n",
    "\\end{array}\\right)=\\frac{1}{2}e^{j\\beta_{1}L_{DC}}\\left(\\begin{array}{cccc}\n",
    "0 & 0 & 1+e^{j\\phi} & 1-e^{j\\phi}\\\\\n",
    "0 & 0 & 1-e^{j\\phi} & 1+e^{j\\phi}\\\\\n",
    "1+e^{j\\phi} & 1-e^{j\\phi} & 0 & 0\\\\\n",
    "1-e^{j\\phi} & 1+e^{j\\phi} & 0 & 0\n",
    "\\end{array}\\right)\\left(\\begin{array}{c}\n",
    "A_{in_{1}}\\\\\n",
    "A_{in2}\\\\\n",
    "A_{out1}\\\\\n",
    "A_{out2}\n",
    "\\end{array}\\right)\n",
    "\\end{equation}\n",
    "\n",
    "<font color=\"red\">\n",
    "Exercice 1: Use the skeleton below and create a PCell called DirectionalCoupler. \n",
    "- Define a compact model for a directional coupler\n",
    "- Add a Netlist view the with four terms of the directional coupler.\n",
    "- Add a CircuitModelView that implements the model described above. \n",
    "- Simulate the component."
   ]
  },
  {
   "cell_type": "code",
   "execution_count": null,
   "metadata": {
    "collapsed": false
   },
   "outputs": [],
   "source": [
    "class DirectionalCouplerModel(i3.CompactModel):\n",
    "    \n",
    "    parameters = ['n_eff_1', 'n_eff_2', 'coupler_length']\n",
    "    \n",
    "    terms = [i3.OpticalTerm(name='in1'), \n",
    "             i3.OpticalTerm(name='out1'),\n",
    "            i3.OpticalTerm(name='in2'),\n",
    "            i3.OpticalTerm(name='out2')]\n",
    "    \n",
    "\n",
    "    def calculate_smatrix(parameters, env, S):\n",
    "\n",
    "        \n",
    "        straight_trans = 0 # Adapt the model to reflect the correct straight transmission\n",
    "        cross_trans = 0 # Adapt the model to reflect the correct cross_transmission\n",
    "        reflection = 0 # No reflections\n",
    "        cross_talk = 0 # No crosstalk\n",
    "        \n",
    "        \n",
    "        \n",
    "        S[\"in1\", \"out1\"] =  S[\"out1\", \"in1\"] =  S[\"in2\", \"out2\"] =  S[\"out2\", \"in2\"] = straight_trans\n",
    "        S[\"in1\", \"out2\"] =  S[\"out2\", \"in1\"] =  S[\"in2\", \"out1\"] =  S[\"out1\", \"in2\"] = cross_trans\n",
    "        S[\"in1\", \"in1\"] =  S[\"out2\", \"out2\"] =  S[\"in2\", \"in2\"] =  S[\"out1\", \"out1\"] = reflection\n",
    "        S[\"in1\", \"in2\"] =  S[\"in2\", \"in1\"] =  S[\"out1\", \"out2\"] =  S[\"out2\", \"out1\"] = cross_talk\n",
    "        \n",
    "\n",
    "\n",
    "class DirectionalCoupler(i3.PCell):\n",
    "    \"\"\"A directional coupler. We are only interested in simulation behavior \n",
    "    here, so we only define a Netlist and Circuit Model.\n",
    "    \"\"\"\n",
    "    # We define our netlist it is made of four ports.  \n",
    "    class Netlist(i3.NetlistView):\n",
    "        \"\"\"\n",
    "        Netlist view of the directional coupler.\n",
    "        \"\"\"\n",
    "        def _generate_terms(self, terms):\n",
    "            terms += i3.OpticalTerm(name=\"in1\")\n",
    "            terms += i3.OpticalTerm(name=\"in2\")\n",
    "            terms += i3.OpticalTerm(name=\"out1\")\n",
    "            terms += i3.OpticalTerm(name=\"out2\")\n",
    "            return terms\n",
    "\n",
    "    class CircuitModel(i3.CircuitModelView):\n",
    "        \"\"\"\n",
    "        CircuitModelView of the directional coupler.\n",
    "        \"\"\"\n",
    "        n_eff_1 = i3.PositiveNumberProperty(default=3.0, doc=\"Effective index of the even supermode of the directional coupler.\")\n",
    "        n_eff_2 = i3.PositiveNumberProperty(default=2.99, doc=\"Effective index of the odd supermode of the directional coupler.\")\n",
    "        coupler_length = i3.PositiveNumberProperty(default=5.0, doc=\"length of the directional coupler\")\n",
    "        \n",
    "        def _generate_model(self):\n",
    "            \n",
    "            return DirectionalCouplerModel(n_eff_1=self.n_eff_1,\n",
    "                                            n_eff_2=self.n_eff_2,\n",
    "                                            coupler_length=self.coupler_length)\n",
    "\n",
    "                \n",
    "        "
   ]
  },
  {
   "cell_type": "markdown",
   "metadata": {},
   "source": [
    "\n",
    "<font color=\"black\">\n",
    "Solution: [directional_coupler.py](/edit/base_pcell_views_properties/support_files/caphemodelview\n",
    "/directional_coupler.py)"
   ]
  },
  {
   "cell_type": "markdown",
   "metadata": {},
   "source": [
    "Simulate here"
   ]
  },
  {
   "cell_type": "code",
   "execution_count": null,
   "metadata": {
    "collapsed": false
   },
   "outputs": [],
   "source": [
    "my_dc = DirectionalCoupler()\n",
    "my_dc_cm = my_dc.CircuitModel(n_eff_1=3.0, n_eff_2=2.60, coupler_length=10.0)\n",
    "\n",
    "# Create a wavelength array.\n",
    "wavelengths = np.arange(1.3, 1.6, 0.0001)\n",
    "# Get a the S-Matrix from the disk.\n",
    "trans_model = my_dc_cm.get_smatrix(wavelengths=wavelengths)\n",
    "# Plotting simulation the results.\n",
    "plt.plot(wavelengths, np.abs(trans_model['in1', 'out1']) ** 2, label='Through-model')\n",
    "plt.plot(wavelengths, np.abs(trans_model['in1', 'out2']) ** 2, label='Drop-model')\n",
    "plt.xlabel(\"Wavelength ($\\mu m$)\")\n",
    "plt.ylabel(\"Power transmission\")\n",
    "plt.legend()\n",
    "plt.ylim([0, 1.0])\n",
    "plt.show()"
   ]
  },
  {
   "cell_type": "markdown",
   "metadata": {},
   "source": [
    "Running a circuit simulation of a single component is of course a trivial exercise. In the next notebook you will learn to create your own circuits. "
   ]
  },
  {
   "cell_type": "markdown",
   "metadata": {},
   "source": [
    "<div>\n",
    "<div style=\"width: 20%; display: inline; margin:0; float: left\"> <p> \n",
    "<a href=\"04-picazzo-place-and-autoroute.ipynb\"> <img src=\"_images/annotated_circuit.png\" width=200 ></a> </p> </div>\n",
    "<div style=\"width: 49%;  display: inline; float: right; margin:0\"> <p> <a href=\"05-picazzo-place-and-autoroute.ipynb\"> Training Part 5: Creating simple circuits</a> </p> </div>\n",
    "</div>"
   ]
  },
  {
   "cell_type": "code",
   "execution_count": null,
   "metadata": {
    "collapsed": true
   },
   "outputs": [],
   "source": []
  }
 ],
 "metadata": {
  "kernelspec": {
   "display_name": "Python 2",
   "language": "python",
   "name": "python2"
  },
  "language_info": {
   "codemirror_mode": {
    "name": "ipython",
    "version": 2
   },
   "file_extension": ".py",
   "mimetype": "text/x-python",
   "name": "python",
   "nbconvert_exporter": "python",
   "pygments_lexer": "ipython2",
   "version": "2.7.15"
  }
 },
 "nbformat": 4,
 "nbformat_minor": 0
}
