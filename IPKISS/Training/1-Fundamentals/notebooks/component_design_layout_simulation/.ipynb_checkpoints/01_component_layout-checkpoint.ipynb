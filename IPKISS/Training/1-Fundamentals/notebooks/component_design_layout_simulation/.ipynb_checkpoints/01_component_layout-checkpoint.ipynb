{
 "cells": [
  {
   "cell_type": "markdown",
   "metadata": {},
   "source": [
    "# Tutorial: Component Design\n",
    "## Step 1/2: Design an MMI layout"
   ]
  },
  {
   "cell_type": "markdown",
   "metadata": {},
   "source": [
    "In this Notebook you will first learn how to create the layout design of an MMI. We will then simulate and optimize the design.\n",
    "\n",
    "<img src=\"_image/MMI_geometry_annotated.png\" />\n"
   ]
  },
  {
   "cell_type": "markdown",
   "metadata": {},
   "source": [
    "As we have done before, we start by importing necessary libraries:"
   ]
  },
  {
   "cell_type": "code",
   "execution_count": null,
   "metadata": {
    "collapsed": false
   },
   "outputs": [],
   "source": [
    "%matplotlib inline\n",
    "import pylab as plt\n",
    "import numpy as np\n",
    "import sys\n",
    "\n",
    "plt.rcParams['figure.figsize'] = (12, 8)\n",
    "sys.path.insert(0, '.')\n",
    "from technologies import silicon_photonics\n",
    "from ipkiss3 import all as i3"
   ]
  },
  {
   "cell_type": "markdown",
   "metadata": {},
   "source": [
    "We will now define a Multi-mode interferometer (MMI) from geometric elements, and simulate it. "
   ]
  },
  {
   "cell_type": "markdown",
   "metadata": {},
   "source": [
    "### MMI PCell"
   ]
  },
  {
   "cell_type": "markdown",
   "metadata": {},
   "source": [
    "In IPKISS, cells (building blocks) with parameters can be defined. These cells are called **PCells** (Parametric cells), and the parameters are called **properties** in IPKISS. Each property can influence the geometry or behaviour of a component. \n",
    "\n",
    ">Note:\n",
    ">* IPKISS predefines many different types of properties, like positive numbers, booleans, strings and so forth.\n",
    ">* IPKISS also predefines many geometric elements, such as rectangle, circle, ellipse, etc."
   ]
  },
  {
   "cell_type": "markdown",
   "metadata": {},
   "source": [
    "#### Define the PCell"
   ]
  },
  {
   "cell_type": "markdown",
   "metadata": {},
   "source": [
    "In order to define a new PCell with a few geometric elements from scratch:\n",
    "\n",
    "* We define a Python class derived from `i3.PCell`. We call it `SimpleMMI` here.\n",
    "* Inside that class we define another class `Layout`, derived from `i3.LayoutView`. This class will contain the geometric information."
   ]
  },
  {
   "cell_type": "code",
   "execution_count": null,
   "metadata": {
    "collapsed": false
   },
   "outputs": [],
   "source": [
    "from picazzo3.traces.wire_wg import WireWaveguideTemplate\n",
    "class SimpleMMI(i3.PCell):\n",
    "    \n",
    "    trace_template = i3.TraceTemplateProperty(doc=\"Trace template of the access waveguide\")\n",
    "    def _default_trace_template(self):\n",
    "        return WireWaveguideTemplate()\n",
    "    \n",
    "    class Layout(i3.LayoutView):\n",
    "            # properties\n",
    "            width = i3.PositiveNumberProperty(default=4.0, doc=\"Width of the MMI section.\")\n",
    "            length = i3.PositiveNumberProperty(default=20.0, doc=\"Length of the MMI secion.\")\n",
    "            taper_width = i3.PositiveNumberProperty(default=1.0, doc=\"Width of the taper.\")\n",
    "            taper_length = i3.PositiveNumberProperty(default=1.0, doc=\"Length of the taper\")\n",
    "            waveguide_spacing = i3.PositiveNumberProperty(default=2.0, doc=\"Spacing between the waveguides.\")\n",
    "            \n",
    "            # methods\n",
    "            def _generate_elements(self, elems):\n",
    "                elems += i3.Rectangle(layer=i3.TECH.PPLAYER.WG.CORE,\n",
    "                                      center=(0.5 * self.length, 0.0),\n",
    "                                      box_size=(self.length, self.width))\n",
    "                elems += i3.Wedge(layer=i3.TECH.PPLAYER.WG.CORE,\n",
    "                                  begin_coord=(-self.taper_length, 0.0),\n",
    "                                  end_coord=(0.0, 0.0),\n",
    "                                  begin_width=self.trace_template.core_width,\n",
    "                                  end_width=self.taper_width\n",
    "                                  )\n",
    "                elems += i3.Wedge(layer=i3.TECH.PPLAYER.WG.CORE,\n",
    "                                  begin_coord=(self.length, 0.5 * self.waveguide_spacing),\n",
    "                                  end_coord=(self.length + self.taper_length, 0.5 * self.waveguide_spacing),\n",
    "                                  begin_width=self.taper_width,\n",
    "                                  end_width=self.trace_template.core_width\n",
    "                                  )\n",
    "                elems += i3.Wedge(layer=i3.TECH.PPLAYER.WG.CORE,\n",
    "                                  begin_coord=(self.length, -0.5 * self.waveguide_spacing),\n",
    "                                  end_coord=(self.length + self.taper_length, -0.5 * self.waveguide_spacing),\n",
    "                                  begin_width=self.taper_width,\n",
    "                                  end_width=self.trace_template.core_width\n",
    "                                  )\n",
    "                \n",
    "                elems += i3.Rectangle(layer=i3.TECH.PPLAYER.WG.CLADDING,\n",
    "                                      center=(0.5 * self.length, 0.0),\n",
    "                                      box_size=(self.length + 2 * self.taper_length,  self.width + 2.0)\n",
    "                                      )\n",
    "                return elems\n",
    "            \n",
    "            def _generate_ports(self,ports):\n",
    "                \n",
    "                ports += i3.OpticalPort(name=\"in\", position=(-self.taper_length, 0.0), angle=180.0, trace_template=self.trace_template)\n",
    "                ports += i3.OpticalPort(name=\"out1\", position=(self.length + self.taper_length, -0.5 * self.waveguide_spacing), angle=0.0,\n",
    "                                        trace_template =self.trace_template)\n",
    "                ports += i3.OpticalPort(name=\"out2\", position=(self.length + self.taper_length, +0.5 * self.waveguide_spacing), angle=0.0,\n",
    "                                        trace_template =self.trace_template)\n",
    "                \n",
    "                return ports\n",
    "                \n",
    "    class Netlist(i3.NetlistFromLayout):\n",
    "        pass\n",
    "                \n",
    "                \n",
    "                \n",
    "                \n",
    "                "
   ]
  },
  {
   "cell_type": "markdown",
   "metadata": {},
   "source": [
    "In the code above we note that:\n",
    "\n",
    "* The `Layout` class inside the `SimpleMMI` PCell is a **Layout View**. IPKISS can attach many different views to a PCell. For instance, **layout**, **simulation**, **cross-sections**, etc.\n",
    "* 4 positive number **properties** are defined of which order can be altered. Each property has a **default value**: if the user does not supply a value, this default will be used.\n",
    "* Inside the **method** `_generate_elements`, 4 **geometric elements** are added:\n",
    "\n",
    "   * One Rectangle, representing the multi-mode section of the MMI\n",
    "   * Three Wedges, representing the tapers at the input and output\n",
    "\n",
    "* The 4 geometric elements use the properties of `SimpleMMI.Layout`, e.g. they use the `length` property by addressing it as `self.length`. Calculations are done using standard Python on these properties, to calculate the dimensions and positions of the elements.\n",
    "\n",
    "* **Ports** are added in the method **_generate_ports**. Each port is made using i3.OpticalPort and need the following properties to be set.\n",
    "    * name : name of the port\n",
    "    * position: position of the port\n",
    "    * angle: direction a waveguide leaving the port has to go to. 0 degrees is parallel to the x-axis.\n",
    "    * trace_template: denotes the type of waveguide used at the port. Usually you get these out of the PDK.\n",
    "    \n",
    "* The **trace template** used is set at the Pcell level and is passed on as a property."
   ]
  },
  {
   "cell_type": "markdown",
   "metadata": {},
   "source": [
    "#### Visualize the Layout\n",
    "\n",
    "To visualize the layout, we *instantiate* the PCell ``SimpleMMI``, and then instantiate the ``Layout`` class. We can modify the **properties** of the MMI by passing them to the layout, as shown below:"
   ]
  },
  {
   "cell_type": "code",
   "execution_count": null,
   "metadata": {
    "collapsed": false
   },
   "outputs": [],
   "source": [
    "mmi = SimpleMMI()\n",
    "mmi_layout = mmi.Layout(length=5.0)\n",
    "mmi_layout.visualize(annotate=True)"
   ]
  },
  {
   "cell_type": "markdown",
   "metadata": {},
   "source": [
    "#### Trace templates\n",
    "\n",
    "Trace template refer to the types of waveguides that are used and contain all the information you could derive from a cross section of the waveguide. Those objects are used in waveguides and ports as demonstrated below. "
   ]
  },
  {
   "cell_type": "code",
   "execution_count": null,
   "metadata": {
    "collapsed": false
   },
   "outputs": [],
   "source": [
    "tt = WireWaveguideTemplate()\n",
    "tt.Layout(core_width=0.25)\n",
    "wav = i3.RoundedWaveguide(trace_template=tt)\n",
    "wav_lv = wav.Layout(shape=[(0.0,0.0),(5.0, 0.0), (10.0, 5.0)])\n",
    "wav_lv.visualize()"
   ]
  },
  {
   "cell_type": "markdown",
   "metadata": {},
   "source": [
    "The trace template object can also be passed to the MMI"
   ]
  },
  {
   "cell_type": "code",
   "execution_count": null,
   "metadata": {
    "collapsed": false
   },
   "outputs": [],
   "source": [
    "mmi = SimpleMMI(trace_template=tt)\n",
    "mmi_layout = mmi.Layout(length=10.0)\n",
    "mmi_layout.visualize(annotate=True)"
   ]
  },
  {
   "cell_type": "markdown",
   "metadata": {},
   "source": [
    "#### Virtual fabrication"
   ]
  },
  {
   "cell_type": "markdown",
   "metadata": {},
   "source": [
    "When we visualize the Layout now, we can see the waveguide core embedded in the cladding. We have two visualization functions:\n",
    "\n",
    "* visualize: this will visualize the structure by plotting the different layers.\n",
    "* visualize_2d: this will run a *virtual fabrication*, which means the picture shows the actual fabricated layer thicknesses. In this case, 220 nm Si (no etch), and 150 nm (partially etched)."
   ]
  },
  {
   "cell_type": "code",
   "execution_count": null,
   "metadata": {
    "collapsed": false
   },
   "outputs": [],
   "source": [
    "mmi = SimpleMMI()\n",
    "mmi_layout = mmi.Layout(length=30.0)\n",
    "mmi_layout.visualize()\n",
    "mmi_layout.visualize_2d()"
   ]
  },
  {
   "cell_type": "markdown",
   "metadata": {},
   "source": [
    "<font color=\"red\">\n",
    "\n",
    "#### Exercice: Make a 2x2 MMI\n",
    "\n",
    "Try to replicate the following design:\n",
    "\n",
    "<img src=\"_image/2x2MMI.png\" />\n",
    "\n",
    "<font color=\"black\">\n",
    "Solution: [mmi2x2.py](/edit/component_design_layout_simulation/support_files/mmi2x2.py)"
   ]
  },
  {
   "cell_type": "markdown",
   "metadata": {},
   "source": [
    "<font color=\"black\">\n"
   ]
  },
  {
   "cell_type": "code",
   "execution_count": null,
   "metadata": {
    "collapsed": true
   },
   "outputs": [],
   "source": [
    "## Write your code for a 2x2 MMI here\n"
   ]
  },
  {
   "cell_type": "markdown",
   "metadata": {},
   "source": [
    "Visualization:"
   ]
  },
  {
   "cell_type": "code",
   "execution_count": null,
   "metadata": {
    "collapsed": false
   },
   "outputs": [],
   "source": [
    "cell = MMI2x2()\n",
    "lv = cell.Layout()\n",
    "lv.visualize(annotate=True)"
   ]
  },
  {
   "cell_type": "markdown",
   "metadata": {
    "collapsed": true
   },
   "source": [
    "<div>\n",
    "<div style=\"width: 20%; display: inline; margin:0; float: left\"> <p> \n",
    "<a href=\"./02_component_simulate.ipynb\"> <img src=\"_image/MMI_simulated.png\" width=800 ></a> </p> </div>\n",
    "<div style=\"width: 49%;  display: inline; float: right; margin:0\"> <p> <a href=\"02_component_simulate.ipynb\"> Step 2/3: Simulate the MMI design</a> </p> </div>\n",
    "</div>"
   ]
  }
 ],
 "metadata": {
  "kernelspec": {
   "display_name": "Python 2",
   "language": "python",
   "name": "python2"
  },
  "language_info": {
   "codemirror_mode": {
    "name": "ipython",
    "version": 2
   },
   "file_extension": ".py",
   "mimetype": "text/x-python",
   "name": "python",
   "nbconvert_exporter": "python",
   "pygments_lexer": "ipython2",
   "version": "2.7.15"
  }
 },
 "nbformat": 4,
 "nbformat_minor": 0
}
