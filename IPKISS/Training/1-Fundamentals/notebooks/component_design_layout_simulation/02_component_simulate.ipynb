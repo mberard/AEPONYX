{
 "cells": [
  {
   "cell_type": "markdown",
   "metadata": {},
   "source": [
    "# Tutorial: Component Design\n",
    "## Step 2/2: Simulate the MMI design"
   ]
  },
  {
   "cell_type": "markdown",
   "metadata": {},
   "source": [
    "Now, we will simulate the MMI design we have created and try to optimize its transmission:\n",
    "\n",
    "<img src=\"_image/MMI_simulated.png\" />\n",
    "\n",
    "\n",
    "First, we import some mathematical, plotting libraries as usual, and also the previously defined MMI layout."
   ]
  },
  {
   "cell_type": "code",
   "execution_count": null,
   "metadata": {
    "collapsed": false
   },
   "outputs": [],
   "source": [
    "%matplotlib inline\n",
    "from technologies import silicon_photonics\n",
    "import pylab as plt\n",
    "import numpy as np\n",
    "import sys\n",
    "\n",
    "plt.rcParams['figure.figsize'] = (12, 12)\n",
    "sys.path.insert(0, '.')\n",
    "\n",
    "from support_files.mmi_layout import SimpleMMI\n",
    "mmi = SimpleMMI()\n",
    "mmi_layout = mmi.Layout(length=30)\n",
    "mmi_layout.visualize(annotate=True)"
   ]
  },
  {
   "cell_type": "markdown",
   "metadata": {},
   "source": [
    "Luceda predefined an algorithm to simulate this splitter using **CAMFR**. CAMFR is the built-in 1D mode solver and 2D mode propagation tool of IPKISS.It is in the `support_files.simulate_splitter` package:"
   ]
  },
  {
   "cell_type": "code",
   "execution_count": null,
   "metadata": {
    "collapsed": false
   },
   "outputs": [],
   "source": [
    "from support_files.simulate_splitter import simulate_splitter"
   ]
  },
  {
   "cell_type": "markdown",
   "metadata": {},
   "source": [
    "Now we can simulate the splitter and plot the field. \n",
    "\n",
    ">**Note** \n",
    ">* Since CAMFR is a 2D mode propagation tool, the effective index method is used to approximate the structure. The effective indices of the material stacks are set in the technology file (`technologies.silicon_photonics`). The device is simulated in TM mode (H-field out-of-plane) such as to emulate a TE mode in full vectorial simulation. \n",
    ">* In order to exploit the symmetry of this device, we put an \"Electrical wall\" in the horizontal center line and simulate only the upper half of the splitter. The Electrical wall will ensure that the E-field is perpendicular to this wall (in plane) as is the case for a TM mode in this 2D simulation."
   ]
  },
  {
   "cell_type": "code",
   "execution_count": null,
   "metadata": {
    "collapsed": false
   },
   "outputs": [],
   "source": [
    "mmi = SimpleMMI()\n",
    "mmi_layout = mmi.Layout(length=60)\n",
    "\n",
    "transmission, reflection = simulate_splitter(layout=mmi_layout, wavelength=1.50, north=3.0, aspect=3.0)\n",
    "print(transmission, reflection)"
   ]
  },
  {
   "cell_type": "markdown",
   "metadata": {},
   "source": [
    "We made the MMI very long on purpose, in order to see the optical behaviour.\n",
    "At around x=39um, we can see the first 1:1 self-imaging point. At around x=22um an x=57um we can see the 1:2 imaging points."
   ]
  },
  {
   "cell_type": "markdown",
   "metadata": {},
   "source": [
    "### Experiment with the length and output waveguide spacing"
   ]
  },
  {
   "cell_type": "markdown",
   "metadata": {},
   "source": [
    "<font color=\"red\"> Exercise: Run the following code blocks, then play with the interactive simulation to see how parameters **'length'** (MMI body length) and **'spacing'** (waveguide spacing) affect the device behavior.</font>"
   ]
  },
  {
   "cell_type": "code",
   "execution_count": null,
   "metadata": {
    "collapsed": true
   },
   "outputs": [],
   "source": [
    "from ipywidgets import interact"
   ]
  },
  {
   "cell_type": "code",
   "execution_count": null,
   "metadata": {
    "collapsed": true
   },
   "outputs": [],
   "source": [
    "def simulate_mmi(length=22.0, spacing=2.0, plot=True):\n",
    "    mmi = SimpleMMI()\n",
    "    mmi_layout = mmi.Layout(length=length, \n",
    "                            waveguide_spacing=spacing)\n",
    "    transmission, reflection = simulate_splitter(layout=mmi_layout, wavelength=1.5, north=3.0, plot=plot)\n",
    "    return transmission, reflection"
   ]
  },
  {
   "cell_type": "code",
   "execution_count": null,
   "metadata": {
    "collapsed": false
   },
   "outputs": [],
   "source": [
    "interact(simulate_mmi, length=(10, 40, 1), spacing=(1.5, 2.5, 0.1))"
   ]
  },
  {
   "cell_type": "markdown",
   "metadata": {},
   "source": [
    "### Optimize the transmission"
   ]
  },
  {
   "cell_type": "markdown",
   "metadata": {},
   "source": [
    "The `simulate_splitter` function also returns the transmission and reflection simulated by CAMFR:"
   ]
  },
  {
   "cell_type": "code",
   "execution_count": null,
   "metadata": {
    "collapsed": false
   },
   "outputs": [],
   "source": [
    "transmission, reflection = simulate_mmi(length=14.0, spacing=2.0, plot=False)"
   ]
  },
  {
   "cell_type": "code",
   "execution_count": null,
   "metadata": {
    "collapsed": false
   },
   "outputs": [],
   "source": [
    "print(\"transmission: {}, reflection:{}\".format(transmission, reflection))"
   ]
  },
  {
   "cell_type": "markdown",
   "metadata": {},
   "source": [
    "We can loop over the parameter space (length, spacing) and plot the transmission. \n",
    "\n",
    "In the code below, we can observe the following:\n",
    "\n",
    "* First, we create the axes of the parameter space (length, spacing) using `np.linspace`, which gives a linear space between a start value and end value, with a given number of points.\n",
    "* Secondly, a 2D matrix is created to store the result. This matrix is filled with 0 initially (`np.zeros`), and each dimension the same size as one of the parameter spaces `(len(lengths), len(spacings))`\n",
    "* A nested for loop (two for loops inside each other) is then used to run the simulation for each combination of `length` and `spacing`, and store the result in the result matrix.\n",
    "* The `enumerate` function is used to obtain an index into the result matrix as well as the actual value of the parameter. For instance, in each step of the for loop, `enumerate(lengths)` returns the position as well as the value of a length in the `lengths` array.\n",
    "* In total, 15 x 5 simulations are run."
   ]
  },
  {
   "cell_type": "code",
   "execution_count": null,
   "metadata": {
    "collapsed": false
   },
   "outputs": [],
   "source": [
    "lengths = np.linspace(13.0, 15.0, 15)\n",
    "spacings = np.linspace(1.8, 2.4, 5)\n",
    "\n",
    "transmission = np.zeros(shape=(len(lengths), len(spacings)))\n",
    "\n",
    "for length_pos, length in enumerate(lengths):\n",
    "    for spacing_pos, spacing in enumerate(spacings):\n",
    "        transmission[length_pos, spacing_pos] = 20*np.log10(simulate_mmi(length=length, spacing=spacing, plot=False)[0]) #Transmission in db\n",
    "        print(\"simulating length: {}, spacing: {} - transmission {} \".format(length, spacing, transmission[length_pos, spacing_pos]))\n",
    "print(\"done\")"
   ]
  },
  {
   "cell_type": "markdown",
   "metadata": {},
   "source": [
    "Finally, we can plot the simulated transmission over the parameter space. We can use the python plotting functions for that. `pcolormesh` creates a colored 2D plot. Each axis is a parameter (spacing, width) and the colors represent the transmission (note: we need to do some preformatting on the data so the axis plot properly). Using `colorbar` we add a scale to the figure."
   ]
  },
  {
   "cell_type": "code",
   "execution_count": null,
   "metadata": {
    "collapsed": false
   },
   "outputs": [],
   "source": [
    "dx = spacings[1] - spacings[0]\n",
    "dy = lengths[1] - lengths[0]\n",
    "x2, y2 = np.meshgrid(np.arange(spacings[0],spacings[-1] + dx, dx) - dx / 2.,\n",
    "                     np.arange(lengths[0],lengths[-1] + dy, dy) - dy / 2)\n",
    "plt.pcolormesh(x2, y2, transmission)\n",
    "plt.colorbar()\n",
    "plt.xlabel(\"waveguide_spacing\")\n",
    "plt.ylabel(\"length\")\n",
    "plt.axis([x2.min(), x2.max(), y2.min(), y2.max()])\n",
    "plt.xticks(spacings)\n",
    "plt.yticks(lengths)\n",
    "plt.title(\"MMI transmission as a function of length and waveguide spacing\")"
   ]
  },
  {
   "cell_type": "markdown",
   "metadata": {},
   "source": [
    "<font color=\"red\">\n",
    "\n",
    "##### Excercise\n",
    "\n",
    "From the plot above, pick the parameter values to simulate the final MMI."
   ]
  },
  {
   "cell_type": "code",
   "execution_count": null,
   "metadata": {
    "collapsed": false
   },
   "outputs": [],
   "source": [
    "# add your code here\n"
   ]
  }
 ],
 "metadata": {
  "kernelspec": {
   "display_name": "Python 2",
   "language": "python",
   "name": "python2"
  },
  "language_info": {
   "codemirror_mode": {
    "name": "ipython",
    "version": 2
   },
   "file_extension": ".py",
   "mimetype": "text/x-python",
   "name": "python",
   "nbconvert_exporter": "python",
   "pygments_lexer": "ipython2",
   "version": "2.7.13"
  }
 },
 "nbformat": 4,
 "nbformat_minor": 0
}
