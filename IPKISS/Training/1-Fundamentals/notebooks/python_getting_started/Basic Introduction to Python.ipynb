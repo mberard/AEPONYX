{
 "cells": [
  {
   "cell_type": "markdown",
   "metadata": {},
   "source": [
    "# Introduction to Python\n",
    "    \n",
    "Python is a high-level programming language suited for applications from simple automation tasks to full-blown software frameworks. \n",
    "This guide will teach you some of the basics of the Python language and its standard libraries, \n",
    "which you need to know to be able to use the Luceda software.\n",
    "\n",
    "** This session and only this sesssion is taken from https://github.com/rajathkumarmp/Python-Lectures**. Feel free to check out his other sessions\n",
    "\n",
    "## Python essentials\n",
    "\n",
    "\n",
    "In this section you will learn about:\n",
    "\n",
    "* Variables\n",
    "* Lists and arrays\n",
    "* Loops\n",
    "* Functions\n",
    "* Loading modules\n",
    "* Classes\n",
    "* Inheritance\n",
    "\n",
    "To illustrate this, we will construct a script to estimate the value of pi by means of a series approximation as is done using the code below.\n",
    "\n",
    "The first thing we should do is greet our users. We can do this using the `print` command.\n",
    "    \n",
    "This will print the greeting to screen and underline it. Be aware that each ``print`` statement automatically starts at a new line. To execute the cell below click on the cell and press SHIFT+ENTER"
   ]
  },
  {
   "cell_type": "code",
   "execution_count": null,
   "metadata": {
    "collapsed": false
   },
   "outputs": [],
   "source": [
    "print(\"Welcome to the Python pi-calculator\")\n",
    "print(\"-----------------------------------\")\n",
    "\n",
    "pi_estimate = 0.0\n",
    "terms_in_series = 500000\n",
    "\n",
    "for k in range(terms_in_series):\n",
    "    pi_estimate = pi_estimate + 4.0 * (-1)**k / (2*k+1.0)\n",
    "\n",
    "print(\"Pi is approximately {0}\".format(pi_estimate))"
   ]
  },
  {
   "cell_type": "markdown",
   "metadata": {},
   "source": [
    "We're now ready to start learning about variables. \n",
    "\n",
    "### Variables\n",
    "\n",
    "Defining variables in Python is remarkably easy. Unlike in other languages, such as C, you don't need to tell the type of the variable\n",
    "to Python, you just assign a value to it. So, say you want to define a variable called `a` that holds the number 7, you just write:"
   ]
  },
  {
   "cell_type": "code",
   "execution_count": null,
   "metadata": {
    "collapsed": false
   },
   "outputs": [],
   "source": [
    "a = 7\n",
    "print a"
   ]
  },
  {
   "cell_type": "markdown",
   "metadata": {},
   "source": [
    "Python will figure out for you that a is a number. If you're familiar with Matlab or Javascript, then you're already familiar with this programming style. \n",
    "\n",
    "Let's put this into practice. We'll calculate pi using a series approximation, so we'll need a variable to hold the number of terms we will retain. \n",
    "We also need an initial value for our pi-estimate, which is zero."
   ]
  },
  {
   "cell_type": "code",
   "execution_count": null,
   "metadata": {
    "collapsed": true
   },
   "outputs": [],
   "source": [
    "pi_estimate = 0.0\n",
    "terms_in_series = 5000000"
   ]
  },
  {
   "cell_type": "markdown",
   "metadata": {},
   "source": [
    "Notice that we explicitly tell Python that ``pi_estimate`` is a floating point number, by adding .0 to its value, and that ``terms_in_series`` is an integer number. It is good practice to always do this because arithmetic operations on both types differ in Python (version 2). 2/5 will use an integer devision while 2.0/5.0 will use a floating point division."
   ]
  },
  {
   "cell_type": "code",
   "execution_count": null,
   "metadata": {
    "collapsed": false
   },
   "outputs": [],
   "source": [
    "print 2/5  \n",
    "print 2.0/5.0"
   ]
  },
  {
   "cell_type": "markdown",
   "metadata": {},
   "source": [
    "### Lists and arrays\n",
    "\n",
    "\n",
    "Numbers are nice, but often you will need a variable to hold a series of numbers, for example measurement data or results of a simulation sweep. You can save these values in so-called *lists*. They are initiated using square brackets and elements are separated by commas (,). You can access individual elements using the square bracket syntax you are used to from for example C: An example:"
   ]
  },
  {
   "cell_type": "code",
   "execution_count": null,
   "metadata": {
    "collapsed": false
   },
   "outputs": [],
   "source": [
    "a = [1, 2, 3]\n",
    "b = [4, 5, 6]\n",
    "print a[1]"
   ]
  },
  {
   "cell_type": "markdown",
   "metadata": {},
   "source": [
    "will print 2 to the screen. Remember that the first element has index 0!\n",
    "Lists are great to store data but difficult to perform arithmetic operations on. If you write:"
   ]
  },
  {
   "cell_type": "code",
   "execution_count": null,
   "metadata": {
    "collapsed": false
   },
   "outputs": [],
   "source": [
    "c = a + b\n",
    "print c"
   ]
  },
  {
   "cell_type": "markdown",
   "metadata": {},
   "source": [
    "then `c` will be:\n",
    "[1, 2, 3, 4, 5, 6] \n",
    "instead of the piecewise sum of elements.\n",
    "If you want to be able to perform arithmetic operations, you should use numpy arrays. We are running a little ahead here since we did not introduce numpy yet, but that doesn't matter at this point. All you have to know is that if you write:"
   ]
  },
  {
   "cell_type": "code",
   "execution_count": null,
   "metadata": {
    "collapsed": false
   },
   "outputs": [],
   "source": [
    "import numpy as np\n",
    "a = np.array([1, 2, 3])\n",
    "b = np.array([4, 5, 6])\n",
    "c = a + b\n",
    "print c"
   ]
  },
  {
   "cell_type": "markdown",
   "metadata": {},
   "source": [
    "then `c` will be:\n",
    "\n",
    "[5, 7, 9]\n",
    "\n",
    "It is useful to know that numpy (again, we'll talk about numpy in a minute) has a few helper functions to instantiate arrays, such as:\n",
    "\n",
    "* zeros(N): create an array of length N filled with zeros\n",
    "* ones(N): create an array of length N filled with ones\n",
    "* range(N): create an array filled with integers starting at zero ending at N-1"
   ]
  },
  {
   "cell_type": "markdown",
   "metadata": {},
   "source": [
    "### Loops\n",
    "\n",
    "In scientific computing you will encounter a lot of situations where you have to repeat the same operation on a large number of objects, like manipulating a set of measured values or repeating simulation for an entire wavelength range. In either case, you will want to use a loop to iterate over the involved objects. In python this is done by iterating over a predefined list and looks like this:\n",
    "\n",
    "\n",
    "    for element in some_list:\n",
    "        do_something(element)\n",
    "Where ``some_list`` is a list of values and ``element`` is the next value in that list for iteration. In other words, if ``some_list`` were e.g. ``[0, 12, 4]``, the value of ``element`` would be 0 during the first iteration, 12 during the second and 4 during the last. In that case, the for-loop would be equivalent to:\n",
    "    \n",
    "    do_something(0)\n",
    "    do_something(12)\n",
    "    do_something(4)\n",
    "\n",
    "Two important aspects of the structure of the for loop are the presence of the colon (:) and the indentation. The colon indicates the beginning of the body of the for loop, and each statement inside this body should be indented by one tab from the ``for .. in ..:`` statement itself.\n",
    "Another example:\n",
    "\n",
    "    for element in some_list:\n",
    "        do_something(element)\n",
    "        do_something_else(element)\n",
    "        do_even_more_stuff(element)\n",
    "\n",
    "    do_something_outside_the_loop()\n",
    "    \n",
    "In this case, the first three statements are executed during each iteration of the loop, and the last statement is executed after the loop has finished iterating. So remember: indentation is very important in Python!\n",
    "\n",
    "Let's use this knowledge to calculate the series expansion of pi. The series expansion of pi reads:\n",
    "\n",
    "<img src=\"_images/pi_formula.png\" />\n",
    "\n",
    "\n",
    "To implement this, add the following line under the variable definitions:\n",
    "\n",
    "\n",
    "    for k in range(terms_in_series):\n",
    "        pi_estimate = pi_estimate + 4.0 * (-1)**k / (2*k+1.0)\n",
    "        \n",
    "We don't have a predefined list so we create it inside the for-statement. The function ``range(some_integer_number)`` generates a list of integers starting from zero and ranging to ``some_integer_number-1``, so the list will hold ``some_integer_number`` elements. As discussed before, the  value of ``k`` will iterate through this list hence its value will be 0 during the first iteration, 1 during the second, and so on, all the way to ``terms_in_series-1``.\n",
    "\n",
    "During each iteration, our estimate is further refined by adding one more term to it.\n",
    "\n",
    "What's left now is to print the approximate value of pi to the screen. Add this print statement underneath the for-loop, but make sure the indentation is correct, as we discussed before.\n",
    "\n",
    "\n",
    "    print(\"Pi is approximately {0}\".format(pi_estimate))\n",
    "\n",
    "The construct ``\"some string with substitution placeholders {0} and {1}\".format(some_value, or_some_other_object)`` allows to generate a string with a representation of numbers or other python objects inside the string, using substitution placeholders. The ``{0}`` will be substituted by the first  parameter of ``format``, in this case ``pi_estimate``, and so forth.\n",
    "\n",
    "The entire program should look exactly like this at this point:"
   ]
  },
  {
   "cell_type": "code",
   "execution_count": null,
   "metadata": {
    "collapsed": false
   },
   "outputs": [],
   "source": [
    "print(\"Welcome to the Python pi-calculator\")\n",
    "print(\"-----------------------------------\")\n",
    "    \n",
    "pi_estimate = 0.0\n",
    "terms_in_series = 5000000\n",
    "\n",
    "for k in range(terms_in_series):\n",
    "    pi_estimate = pi_estimate + 4.0 * (-1)**k / (2*k+1.0)\n",
    "\n",
    "print(\"Pi is approximately {0}\".format(pi_estimate))"
   ]
  },
  {
   "cell_type": "markdown",
   "metadata": {},
   "source": [
    "### Functions\n",
    "\n",
    "\n",
    "A function is a piece of logic that takes a number of variables (the 'arguments'), does something to them or based on them, and usually returns a result. By putting an algorithm which is re-used several times in your program inside a function, you can write it only once and then re-use.\n",
    "You can define a function like this:\n",
    "\n",
    "\n",
    "\n",
    "    def my_function(argument1, argument2):\n",
    "        do_something(argument1)\n",
    "        do_something_else(argument2)\n",
    "        return the_result\n",
    "        \n",
    "The ``def`` keyword indicates the start of the function definition, followed by its name and a list of arguments, separeted by commas and enclosed between brackets. Notice the use of the colon (:) and the indentation scheme we already learned about in the previous section about the for-loop. Time to put this in practice. It might seem like overkill, but just to illustrate the use of functions, let's implement the actual calculation of pi in a separate function. "
   ]
  },
  {
   "cell_type": "code",
   "execution_count": null,
   "metadata": {
    "collapsed": false
   },
   "outputs": [],
   "source": [
    "def calculate_pi(terms_in_series=10000):\n",
    "    pi_estimate = 0.0\n",
    "    for k in range(terms_in_series):\n",
    "        pi_estimate = pi_estimate + 4.0 * (-1)**k / (2 * k + 1.0)\n",
    "    return pi_estimate\n",
    "\n",
    "print(\"Welcome to the Python pi-calculator\")\n",
    "print(\"-----------------------------------\")\n",
    "\n",
    "terms = 5000000\n",
    "pi_est = calculate_pi(terms_in_series=terms)\n",
    "\n",
    "print(\"Pi is approximately {0}\".format(pi_est))"
   ]
  },
  {
   "cell_type": "markdown",
   "metadata": {},
   "source": [
    "The function to calculate pi is defined at the top of the script. It takes 1 argument, ``terms_in_series``, and we give it a default value of 10000. \n",
    "You don't have to do that, you could also just write:\n",
    "\n",
    "    def calculate_pi(terms_in_series):\n",
    "    \n",
    "but specifying a default value allows you to call the function without providing that argument, in which case pi will be calculated retaining the first\n",
    "10000 terms in the series. \n",
    "\n",
    "    pi_est = calculate_pi()\n",
    "\n",
    "If you're not happy with the default value, you specify the value you want like this:\n",
    "    \n",
    "    terms = 5000000\n",
    "    pi_est = calculate_pi(terms)\n",
    "    \n",
    "The best way, though, is to explicitly mention the name of the argument you want to set, like we did in the example:\n",
    "\n",
    "    terms = 5000000\n",
    "    pi_est = calculate_pi(terms_in_series=terms)"
   ]
  },
  {
   "cell_type": "markdown",
   "metadata": {},
   "source": [
    "### Loading modules\n",
    "\n",
    "In many cases you need to do much more advanced stuff than adding two numbers and printing the result to the screen. More advanced functions,such as calculating ffts and plotting graphs, are readily available in Python through so-called modules. For generic scientific computing, three libraries with such modules will prove to be very convenient:\n",
    "\n",
    "* *numpy*: basic numerical computing such as matrix manipulations, linear algebra and Fourier transforms\n",
    "* *scipy*: more advanced numerical functionality such as statistics, signal processing and image processing\n",
    "* *matplotlib*: powerful plotting library which allows to plot both 2D and 3D datasets\n",
    "\n",
    " \n",
    "A module is loaded using the ``import`` statement, which you can use in a two different manners:\n",
    "\n",
    "This form illustrates how to import only selected functions:\n",
    "\n",
    "    from module_name import function1, function\n",
    "\n",
    "You could also use\n",
    "\n",
    "    import module_name as mn\n",
    "    \n",
    "The second line also gives access to all the functions in the module, but does not pollute the local namespace. You then need to mention the module name each time you use a function in it. So, if you want to call `function1` inside `module_name`, you have to write:\n",
    "\n",
    "    mn.function1()"
   ]
  },
  {
   "cell_type": "markdown",
   "metadata": {},
   "source": [
    "Let's add two more features to our pi calculation program using functionality in external libraries. First of all we could measure the time we need to calculate pi and second we can compare our result to the more exact value and calculate the relative error. The constant pi is hard-coded in the numpy library and time can be measured using a library called ``time``. Add the following lines to the top of our script, above the function definition:\n",
    "\n",
    "\n",
    "    \n",
    "    import time\n",
    "    import numpy as np\n",
    "\n",
    "and add the following line before the call to the ``calculate_pi`` function:\n",
    "\n",
    "\n",
    "    start_time = time.time()\n",
    "    \n",
    "The ``time()`` function returns how many seconds have elapsed since January 1, 1970 - if you want to know why then search for 'unix' and 'epoch' using your favorite search engine. This will provide our reference moment in time.\n",
    "\n",
    "Next, add these two lines immediately after the ``calculate_pi`` call:\n",
    "\n",
    "\n",
    "    duration = time.time() - start_time\n",
    "    relative_error = abs(pi_est - np.pi) / np.pi\n",
    "    \n",
    "We calculate the elapsed time by subtracting the reference time from the current time. The relative error is calculated by comparing our estimate to the hard-coded value of pi in numpy.\n",
    "\n",
    "Finally, print the newly calculated information to the screen by adding the following statements at the end of the file:\n",
    "\n",
    "\n",
    "    print(\"Relative error: {0}\".format(relative_error))\n",
    "    print(\"Calculation done in {0:.3f} seconds\".format(duration))\n",
    "\n",
    "The last statement adds a format specifier to the substitution specification, saying that the number should be printed as a fixed point number with 3 digits after the point.\n",
    "\n",
    "The entire program should now look like this:"
   ]
  },
  {
   "cell_type": "code",
   "execution_count": null,
   "metadata": {
    "collapsed": false
   },
   "outputs": [],
   "source": [
    "import time\n",
    "import numpy as np\n",
    "\n",
    "def calculate_pi(terms_in_series=10000):\n",
    "    pi_estimate = 0.0\n",
    "    for k in range(terms_in_series):\n",
    "        pi_estimate = pi_estimate + 4.0 * (-1)**k / (2 * k + 1.0)\n",
    "    return pi_estimate\n",
    "\n",
    "print(\"Welcome to the Python pi-calculator\")\n",
    "print(\"-----------------------------------\")\n",
    "\n",
    "terms = 5000000\n",
    "\n",
    "start_time = time.time()\n",
    "pi_est = calculate_pi(terms_in_series=terms)\n",
    "\n",
    "duration = time.time() - start_time\n",
    "relative_error = abs(pi_est - np.pi) / np.pi\n",
    "\n",
    "print(\"Pi is approximately {0}\".format(pi_est))\n",
    "print(\"Relative error: {0}\".format(relative_error))\n",
    "print(\"Calculation done in {0:.3f} seconds\".format(duration))"
   ]
  },
  {
   "cell_type": "markdown",
   "metadata": {},
   "source": [
    "## Object Oriented Programming in Python\n",
    "\n",
    "\n",
    "### What is object oriented programming\n",
    "\n",
    "\n",
    "In this section you will learn:\n",
    "\n",
    "* What object oriented programming is\n",
    "* How to define classes in Python\n",
    "* How to use your newly created class\n",
    "* What inheritance is and how to use it.\n",
    "\n",
    "The program we wrote in the previous section was short and simple. In everyday science and engineering you will encounter larger problems that require more sophisticated computer programs. Soon, it will become very difficult and cumbersome to solve your problem using one piece of code in one file like we did. You will want to split up your problem in logical entities, each dealing with a smaller part of the problem. \n",
    "\n",
    "Secondly, a wide range of programming problems, including IC design, lend them selves to a programming \"paradigm\" in which there are objects which you can act upon. One can define types of objects, with the functions that can act on them. This is what we call object oriented programming (well, at least the gist of it...)\n",
    "\n",
    "Splitting up your problem using object oriented programming is done by means of classes. If you have experience with programming\n",
    "languages like C++ or Java you will certainly have heard about classes before. A class is an entity (*something*) which specifies the 'type' of an object (another 'something') that has two things: some data and methods. In other words: a class specifies a certain type of object which **has things and can do things**. We could for example define a class called Person. This class will specify the data, like the person's birthday, his/her name, the color of his/her hair, his/her length, a list of his/her friends and so on. This person class will also have a number of methods, like: walk, eat, sleep, go to the grocery store, ... So remember, every object has a type, a class, which specifies the data an object and the methods that a certain object has."
   ]
  },
  {
   "cell_type": "markdown",
   "metadata": {},
   "source": [
    "### Your first class\n",
    "\n",
    "A class is declared as follows\n",
    "\n",
    "class class_name:\n",
    "\n",
    "    Functions"
   ]
  },
  {
   "cell_type": "code",
   "execution_count": null,
   "metadata": {
    "collapsed": true
   },
   "outputs": [],
   "source": [
    "class FirstClass:\n",
    "    pass"
   ]
  },
  {
   "cell_type": "markdown",
   "metadata": {},
   "source": [
    "**pass** in python means do nothing. \n",
    "\n",
    "Above, a class object named \"FirstClass\" is declared now consider a \"egclass\" which has all the characteristics of \"FirstClass\". So all you have to do is, equate the \"egclass\" to \"FirstClass\". In python jargon this is called as creating an instance. \"egclass\" is the instance of \"FirstClass\""
   ]
  },
  {
   "cell_type": "code",
   "execution_count": null,
   "metadata": {
    "collapsed": true
   },
   "outputs": [],
   "source": [
    "egclass = FirstClass()"
   ]
  },
  {
   "cell_type": "code",
   "execution_count": null,
   "metadata": {
    "collapsed": false
   },
   "outputs": [],
   "source": [
    "type(egclass)"
   ]
  },
  {
   "cell_type": "code",
   "execution_count": null,
   "metadata": {
    "collapsed": false
   },
   "outputs": [],
   "source": [
    "type(FirstClass)"
   ]
  },
  {
   "cell_type": "markdown",
   "metadata": {},
   "source": [
    "Now let us add some \"functionality\" to the class. So that our \"FirstClass\" is defined in a better way. A function inside a class is called as a \"Method\" of that class\n",
    "\n",
    "Most of the classes will have a function named \"__init__\". These are called as magic methods. In this method you basically initialize the variables of that class or any other initial algorithms which is applicable to all methods is specified in this method. A variable inside a class is called an attribute. Using IPKISS, you will mostly not need magic mehtods. \n",
    "\n",
    "We will make our \"FirstClass\" to accept two variables name and symbol.\n",
    "\n",
    "I will be explaining about the \"self\" in a while."
   ]
  },
  {
   "cell_type": "code",
   "execution_count": null,
   "metadata": {
    "collapsed": true
   },
   "outputs": [],
   "source": [
    "class FirstClass:\n",
    "    def __init__(self,name,symbol):\n",
    "        self.name = name\n",
    "        self.symbol = symbol"
   ]
  },
  {
   "cell_type": "markdown",
   "metadata": {},
   "source": [
    "Now that we have defined a function and added the \\_\\_init\\_\\_ method. We can create a instance of FirstClass which now accepts two arguments."
   ]
  },
  {
   "cell_type": "code",
   "execution_count": null,
   "metadata": {
    "collapsed": false
   },
   "outputs": [],
   "source": [
    "eg1 = FirstClass('one',1)\n",
    "eg2 = FirstClass('two',2)\n",
    "\n",
    "print eg1.name, eg1.symbol\n",
    "print eg2.name, eg2.symbol"
   ]
  },
  {
   "cell_type": "markdown",
   "metadata": {},
   "source": [
    "**dir( )** function comes very handy in looking into what the class contains and what all method it offers"
   ]
  },
  {
   "cell_type": "code",
   "execution_count": null,
   "metadata": {
    "collapsed": false
   },
   "outputs": [],
   "source": [
    "dir(FirstClass)"
   ]
  },
  {
   "cell_type": "markdown",
   "metadata": {},
   "source": [
    "**dir( )** of an instance also shows it's defined attributes."
   ]
  },
  {
   "cell_type": "code",
   "execution_count": null,
   "metadata": {
    "collapsed": false
   },
   "outputs": [],
   "source": [
    "dir(eg1)"
   ]
  },
  {
   "cell_type": "markdown",
   "metadata": {},
   "source": [
    "Changing the FirstClass function a bit,"
   ]
  },
  {
   "cell_type": "code",
   "execution_count": null,
   "metadata": {
    "collapsed": false
   },
   "outputs": [],
   "source": [
    "class FirstClass:\n",
    "    def __init__(self,name,symbol):\n",
    "        self.n = name\n",
    "        self.s = symbol\n",
    "        \n",
    "eg1 = FirstClass('one',1)\n",
    "eg2 = FirstClass('two',2)\n",
    "\n",
    "print eg1.name, eg1.symbol\n",
    "print eg2.name, eg2.symbol"
   ]
  },
  {
   "cell_type": "markdown",
   "metadata": {},
   "source": [
    "AttributeError, Remember variables are nothing but attributes inside a class? So this means we have not given the correct attribute for the instance."
   ]
  },
  {
   "cell_type": "code",
   "execution_count": null,
   "metadata": {
    "collapsed": false
   },
   "outputs": [],
   "source": [
    "dir(eg1)"
   ]
  },
  {
   "cell_type": "code",
   "execution_count": null,
   "metadata": {
    "collapsed": false
   },
   "outputs": [],
   "source": [
    "print eg1.n, eg1.s\n",
    "print eg2.n, eg2.s"
   ]
  },
  {
   "cell_type": "markdown",
   "metadata": {},
   "source": [
    "So now we have solved the error. Now let us compare the two examples that we saw.\n",
    "\n",
    "When I declared self.name and self.symbol, there was no attribute error for eg1.name and eg1.symbol and when I declared self.n and self.s, there was no attribute error for eg1.n and eg1.s\n",
    "\n",
    "From the above we can conclude that self is nothing but the instance itself.\n",
    "\n",
    "Remember, self is not predefined it is userdefined. You can make use of anything you are comfortable with. But it has become a common practice to use self."
   ]
  },
  {
   "cell_type": "code",
   "execution_count": null,
   "metadata": {
    "collapsed": false
   },
   "outputs": [],
   "source": [
    "Let us add some more methods to FirstClass."
   ]
  },
  {
   "cell_type": "code",
   "execution_count": null,
   "metadata": {
    "collapsed": true
   },
   "outputs": [],
   "source": [
    "class FirstClass:\n",
    "    def __init__(self,name,symbol):\n",
    "        self.name = name\n",
    "        self.symbol = symbol\n",
    "    def square(self):\n",
    "        return self.symbol * self.symbol\n",
    "    def cube(self):\n",
    "        return self.symbol * self.symbol * self.symbol\n",
    "    def multiply(self, x):\n",
    "        return self.symbol * x"
   ]
  },
  {
   "cell_type": "code",
   "execution_count": null,
   "metadata": {
    "collapsed": false
   },
   "outputs": [],
   "source": [
    "eg4 = FirstClass('Five',5)\n",
    "print eg4.square()\n",
    "print eg4.cube()"
   ]
  },
  {
   "cell_type": "code",
   "execution_count": null,
   "metadata": {
    "collapsed": false
   },
   "outputs": [],
   "source": [
    "eg4.multiply(2)"
   ]
  },
  {
   "cell_type": "markdown",
   "metadata": {},
   "source": [
    "The above can also be written as,\n"
   ]
  },
  {
   "cell_type": "code",
   "execution_count": null,
   "metadata": {
    "collapsed": false
   },
   "outputs": [],
   "source": [
    "FirstClass.multiply(eg4,2)"
   ]
  },
  {
   "cell_type": "markdown",
   "metadata": {},
   "source": [
    "Take some time to let this sink in. Self (or the first argument of every method in a class) refers to the instance of the class that is calling the method. When using \n",
    "\n",
    "    eg4.multiply(2)\n",
    "\n",
    "eg4 is automatically substituted as self as should be clear from the explicit syntax\n",
    "\n",
    "    FirstClass.multiply(eg4,2)\n",
    "    \n",
    "This explicit syntax is rarely used, but shown here to help you understand self.\n",
    "\n"
   ]
  },
  {
   "cell_type": "markdown",
   "metadata": {},
   "source": [
    "## Inheritance"
   ]
  },
  {
   "cell_type": "markdown",
   "metadata": {},
   "source": [
    "There might be cases where a new class would have all the previous characteristics of an already defined class. So the new class can \"inherit\" the previous class and add it's own methods to it. This is called as inheritance."
   ]
  },
  {
   "cell_type": "code",
   "execution_count": null,
   "metadata": {
    "collapsed": true
   },
   "outputs": [],
   "source": [
    "class SoftwareEngineer:\n",
    "    def __init__(self,name,age):\n",
    "        self.name = name\n",
    "        self.age = age\n",
    "    def salary(self, value):\n",
    "        self.money = value\n",
    "        print self.name,\"earns\",self.money"
   ]
  },
  {
   "cell_type": "code",
   "execution_count": null,
   "metadata": {
    "collapsed": false
   },
   "outputs": [],
   "source": [
    "a = SoftwareEngineer('Kartik',26)"
   ]
  },
  {
   "cell_type": "code",
   "execution_count": null,
   "metadata": {
    "collapsed": false
   },
   "outputs": [],
   "source": [
    "a.salary(40000)"
   ]
  },
  {
   "cell_type": "code",
   "execution_count": null,
   "metadata": {
    "collapsed": false
   },
   "outputs": [],
   "source": [
    "dir(SoftwareEngineer)"
   ]
  },
  {
   "cell_type": "markdown",
   "metadata": {},
   "source": [
    "Now consider another class Artist which tells us about the amount of money an artist earns and his artform."
   ]
  },
  {
   "cell_type": "code",
   "execution_count": null,
   "metadata": {
    "collapsed": false
   },
   "outputs": [],
   "source": [
    "class Artist:\n",
    "    def __init__(self,name,age):\n",
    "        self.name = name\n",
    "        self.age = age\n",
    "    def money(self,value):\n",
    "        self.money = value\n",
    "        print self.name,\"earns\",self.money\n",
    "    def artform(self, job):\n",
    "        self.job = job\n",
    "        print self.name,\"is a\", self.job"
   ]
  },
  {
   "cell_type": "code",
   "execution_count": null,
   "metadata": {
    "collapsed": true
   },
   "outputs": [],
   "source": [
    "b = Artist('Nitin',20)"
   ]
  },
  {
   "cell_type": "code",
   "execution_count": null,
   "metadata": {
    "collapsed": false
   },
   "outputs": [],
   "source": [
    "b.money(50000)\n",
    "b.artform('Musician')"
   ]
  },
  {
   "cell_type": "code",
   "execution_count": null,
   "metadata": {
    "collapsed": false
   },
   "outputs": [],
   "source": [
    "dir(Artist)"
   ]
  },
  {
   "cell_type": "markdown",
   "metadata": {},
   "source": [
    "money method and salary method are the same. So we can generalize the method to salary and inherit the SoftwareEngineer class to Artist class. Now the artist class becomes,"
   ]
  },
  {
   "cell_type": "code",
   "execution_count": null,
   "metadata": {
    "collapsed": false
   },
   "outputs": [],
   "source": [
    "class Artist(SoftwareEngineer):\n",
    "    def artform(self, job):\n",
    "        self.job = job\n",
    "        print self.name,\"is a\", self.job"
   ]
  },
  {
   "cell_type": "code",
   "execution_count": null,
   "metadata": {
    "collapsed": false
   },
   "outputs": [],
   "source": [
    "c = Artist('Nishanth',21)"
   ]
  },
  {
   "cell_type": "code",
   "execution_count": null,
   "metadata": {
    "collapsed": false
   },
   "outputs": [],
   "source": [
    "dir(Artist)"
   ]
  },
  {
   "cell_type": "code",
   "execution_count": null,
   "metadata": {
    "collapsed": false
   },
   "outputs": [],
   "source": [
    "c.salary(60000)\n",
    "c.artform('Dancer')"
   ]
  },
  {
   "cell_type": "markdown",
   "metadata": {},
   "source": [
    "Suppose say while inheriting a particular method is not suitable for the new class. One can override this method by defining again that method with the same name inside the new class."
   ]
  },
  {
   "cell_type": "code",
   "execution_count": null,
   "metadata": {
    "collapsed": true
   },
   "outputs": [],
   "source": [
    "class Artist(SoftwareEngineer):\n",
    "    def artform(self, job):\n",
    "        self.job = job\n",
    "        print self.name,\"is a\", self.job\n",
    "    def salary(self, value):\n",
    "        self.money = value\n",
    "        print self.name,\"earns\",self.money\n",
    "        print \"I am overriding the SoftwareEngineer class's salary method\""
   ]
  },
  {
   "cell_type": "code",
   "execution_count": null,
   "metadata": {
    "collapsed": true
   },
   "outputs": [],
   "source": [
    "c = Artist('Nishanth',21)"
   ]
  },
  {
   "cell_type": "code",
   "execution_count": null,
   "metadata": {
    "collapsed": false
   },
   "outputs": [],
   "source": [
    "c.salary(60000)\n",
    "c.artform('Dancer')"
   ]
  },
  {
   "cell_type": "markdown",
   "metadata": {},
   "source": [
    "Thats all folks. With this basis in Python you are ready to learn IPKISS. Good luck!"
   ]
  },
  {
   "cell_type": "markdown",
   "metadata": {},
   "source": [
    "Object Oriented Programming in Python\n",
    "~~~~~~~~~~~~~~~~~~~~~~~~~~~~~~~~~~~~~\n",
    "\n",
    "To make this a little more concrete, let's take a look at another example of what a class could look like. Consider a sampled signal over time. Such a signal has some properties, like the list of its values at the different sample-times, the length of the signal in seconds, the sample rate. There are also some things you can do to a signal, like calculating its Fourier spectrum or plotting it to the screen. Let us translate this into python code.\n",
    "\n",
    "First, add a new file to the project which will hold the code for our signal class and name the file `signals.py`. Add the following lines to it:\n",
    "\n",
    ".. code:: python\n",
    "\n",
    "    import numpy as np\n",
    "    \n",
    "    class Signal(object):\n",
    "        def __init__(self, value_array, sample_rate=1000):\n",
    "            self.sample_rate = sample_rate\n",
    "            n_o_samples = len(value_array)\n",
    "            length = float(n_o_samples) / float(sample_rate)\n",
    "            self.time_steps = np.linspace(0, length, n_o_samples)\n",
    "            self.values = np.asarray(value_array)\n",
    "            \n",
    "        def get_sample_rate(self):\n",
    "            return self.sample_rate\n",
    "            \n",
    "    \n",
    "Let's take a closer look at this code snippet. The first line (after the ``import`` statement) tells Python that we are going to define a class which \n",
    "we want to call ``Signal`` and which inherits from ``object``. Don't bother about inheritance yet, we'll talk about it in the next section. Just remember that this\n",
    "first line initiates the class definition. Notice again the colon (:) sign and the indentation scheme used to specify what code is part of the class\n",
    "definition and what part is not. \n",
    "\n",
    "The second line of code defines a function called ``__init__``. This is the so-called constructor and will be called when an object of this class\n",
    "is created. Three arguments are passed: ``self``, ``value_array`` and ``sample_rate``. The ``self`` argument (always the first one) is the object that\n",
    "will hold all the data of that class. You can look at it as if it were a box where you can put all the information regarding the object. We'll see\n",
    "in a minute how that works. The second argument is an array of sampled values of the signal we wish to define. The third and final argument is\n",
    "the sample rate at which the signal was sampled. It is set to 1kHz by default, but users of our class can set their own sample rate if it deviates\n",
    "from the default values.\n",
    "\n",
    "Inside the constructor method some ``attributes`` of the class are set on the ``self`` argument. This ensure we will be able to access these variables\n",
    "in other methods of the class, as we will see later. In our code snippet the sample rate is copied from the value passed as an argument, and an array of\n",
    "time-steps is created using the ``linspace`` function from numpy. This function generates an array of length ``no_o_samples`` ranging from ``0`` to ``length``.\n",
    "These are the timesteps at which the samples of our signal were taken. Finally the values of the signal at each timestep are saved to ``self.values``\n",
    "by converting them to a numpy array using the ``asarray`` function.\n",
    "\n",
    "We also define a second method, called ``get_sample_rate``. This method doesn't take any arguments but returns the sample rate of the signal, which will\n",
    "be useful later.\n",
    "\n",
    "So now you will be able to create an object of the type `Signal` like this:\n",
    "\n",
    ".. code:: python\n",
    "\n",
    "    sig = Signal(value_array=vals, sample_rate=20000)\n",
    "\n",
    "Assuming ``vals`` is an array of values, this line of code will initialize ``sig`` as a ``Signal`` that has samples values ``vals`` at a sampling rate\n",
    "of 20kHz. We won't be using this in our code yet but this just shows you how to do it.\n",
    "\n",
    "But our ``Signal`` class as it is now is pretty useless so let's add a method that calculates the Fourier transform of a signal. The code for calculating\n",
    "the fft of an array of values resides in the ``numpy.fft`` module, so below numpy's ``import`` statement, add:\n",
    "\n",
    ".. code:: python\n",
    "\n",
    "    import numpy.fft as fft\n",
    "    \n",
    "Next, add the following lines below the ``get_sample_rate()`` method, at the same indentation level:\n",
    "\n",
    ".. code:: python\n",
    "\n",
    "    def get_fft(self, shifted = True):\n",
    "        ft = fft.fft(self.values)\n",
    "        freqs = fft.fftfreq(len(self.values), self.time_steps[1])\n",
    "        \n",
    "        if (shifted):\n",
    "            ft = fft.fftshift(ft)\n",
    "            freqs = fft.fftshift(freqs)\n",
    "        \n",
    "        return [freqs, ft]\n",
    "    \n",
    "The ``get_fft`` function takes 2 arguments, the ``self`` parameter that holds the object, and an optional ``shifted`` parameter. The method for\n",
    "calculating the fft of an array of values returns the fft signal in a special format: first the values for frequencies from 0 to F/2, \n",
    "followed by the values from -F/2 to the one before 0. In most cases you want the order of the fft-values to be arranged from -F/2 to F/2, t\n",
    "his can be done using ``fftshift``, called when ``shifted`` is true. This method also calculates the frequencies corresponding to the Fourier\n",
    "components. Notice how the object's attributes ``self.values`` and ``self.time_steps`` are called. The function returns 2 one-dimensional arrays, \n",
    "the first containing the frequencies at which the fft values are calculated and second the fft-values themselves.\n",
    "\n",
    "So now let's take a look at how you could use this (you don't have to add this to your code, this is just for illustration). Again, ``vals``\n",
    "is an array of values, e.g. from a measurement:\n",
    "\n",
    ".. code:: python\n",
    "\n",
    "    sig = Signal(value_array=vals, sample_rate=20000)\n",
    "    f,ft = sig.get_fft()\n",
    "    \n",
    "It's that simple!\n",
    "\n",
    "Before we go any further adding functionality to our class, we should talk about inheritance first. It's one of the coolest features object\n",
    "oriented programming has to offer!\n",
    "\n",
    "Inheritance\n",
    "~~~~~~~~~~~\n",
    "\n",
    "Let's go back to the end of paragraph :ref:`oo_intro`, where we talked about how \"Person\" could be a class. It has properties (data) and it can do stuff.\n",
    "Now we want to make a class \"Person_that_works_in_a_company\" or maybe better \"Employee\". An Employee has properties (e.g. salary) and does stuff \n",
    "(e.g. go to work, do some work) that other people don't do, but the class should also support all the functionality we already programmed for the \n",
    "Person class. What we could do is copy the code we wrote for the Person class into the Employee class and add some extra. But this will turn out \n",
    "to be a very bad idea! What if you want to edit some parts of the Person class? In that case you would have to correct both classes, making sure you\n",
    "don't make any mistakes. Soon you'll discover that you did make mistakes and have a hard time to keep your code running properly. Luckily Python supports\n",
    "inheritance. This is a technique that allows to reuse the code you wrote before and simply add or modify the parts that you need. This is very vague,\n",
    "so let's take a look at how this could work.\n",
    "\n",
    "The signal class that we started building is for general signals, but say we will be working with sine signals a lot and want to write a class \n",
    "for them. Instead of providing an array of values, we want to initialize this by passing through the sine frequency and the amplitude, so our \n",
    "constructor function will be completely different. On the other side we want to be able to calculate the Fourier transforms using the code we \n",
    "already wrote. So the sine class should inherit all the functionality from the signal class. At the bottom of `signal.py`, at the same \n",
    "indentation level as the Signal class definition, add the following code:\n",
    "\n",
    ".. code:: python\n",
    "\n",
    "    class SineSignal(Signal):\n",
    "        def __init__(self, signal_frequency=0.25, length=0.5, sample_rate=1000.0):\n",
    "            self.time_steps = np.linspace(0, length, int(length*sample_rate))\n",
    "            self.sample_rate = sample_rate\n",
    "            self.values = np.array( [ np.sin(2 * np.pi * signal_frequency * t) for t in self.time_steps])\n",
    "            \n",
    "We defined a new class called ``SineSignal``. After the name of the new class we see ``Signal`` between brackets. This means that \n",
    "``SineSignal`` inherits from ``Signal``. We define a new ``__init__`` method that overrides Signal's constructor. Instead of passing through\n",
    "an array of values, the user optionally provides the sine frequency and amplitude along with the sample rate. The list of values is generated \n",
    "inside the constructor using the following piece of code:\n",
    "\n",
    ".. code:: python\n",
    "\n",
    "    [ np.sin(2 * np.pi * signal_frequency * t) for t in self.time_steps]\n",
    "    \n",
    "This construction is called a *generator*. A list of values is generated base on the `sin` function from numpy, where each value in the new list\n",
    "is created using a value in the `self.time_steps` array. Next this list is casted to an array and assigned to `self.values`.\n",
    "\n",
    "Now we can generate a sine signal like this:\n",
    "\n",
    ".. code:: python\n",
    "\n",
    "    sine = SineSignal(signal_frequency=70.0)\n",
    "\n",
    "but still use the methods we wrote for the ``Signal`` class off the shelf:\n",
    "\n",
    ".. code:: python\n",
    "\n",
    "    f, ft = sine.get_fft()\n",
    "    \n",
    "This is the power of inheritance.\n",
    "\n",
    "\n",
    "Intermezzo: plotting in Python\n",
    "~~~~~~~~~~~~~~~~~~~~~~~~~~~~~~\n",
    "\n",
    "There are no plotting tools built right into Python, but for scientific plotting we use a package called `matplotlib`. The usage of this\n",
    "module is very similar to plotting in MATLAB. To draw e.g. a 2D plot you write:\n",
    "\n",
    ".. code:: python\n",
    "\n",
    "    plot(x_axis_values1, y_axis_values1)\n",
    "    plot(x_axis_values2, y_axis_values2)\n",
    "    xlabel(\"This text will appear under the x-axis\")\n",
    "    ylabel(\"This text will appear next to the y-axis\")\n",
    "    show()\n",
    "\n",
    "The parameters in the ``plot()`` statements are arrays containing the x- and y- values. In this case 2 different graphs will be drawn on\n",
    "the same axes, because there are 2 plot statements. You can add axis labels using the ``xlabel()`` and ``ylabel()`` functions. The ``show()`` statement\n",
    "will actually draw the plot to the screen. Matplotlib has a very clear reference guide at :ref:`http://matplotlib.sourceforge.net`, where you will\n",
    "find a list of all the available functions and how to use them.\n",
    "\n",
    "Let's implement this feature into our ``Signal`` class. First, load the Matplotlib module by adding this line below the other two ``import`` statements:\n",
    "\n",
    ".. code:: python\n",
    "\n",
    "    import pylab as plt\n",
    "\n",
    "Underneath the ``get_fft()`` method definition, at the same indentation level, add the following code:\n",
    "\n",
    ".. code:: python\n",
    "\n",
    "    def plot_values(self):\n",
    "        plt.xlabel('time (s)')\n",
    "        plt.ylabel('signal value (a.u.)')\n",
    "        plt.plot(self.time_steps, self.values)\n",
    "\n",
    "Nothing new here. We don't include the ``show()`` statement yet because the user might want to combine different plots on the same graph.\n",
    "\n",
    "\n",
    "Using your classes\n",
    "~~~~~~~~~~~~~~~~~~\n",
    "\n",
    "So we have built a signal class, we implemented methods to calculate the Fourier transform and plot the signal, and defined a sine signal class that\n",
    "inherits from the basic signal class. Time to stitch everything together in a main script. Create a new script file called `main_signal.py`.\n",
    "\n",
    "Add the following lines to it:\n",
    "\n",
    ".. code:: python\n",
    "\n",
    "    import signals as sig\n",
    "    import pylab as plt\n",
    "    \n",
    "    print('Welcome to our signal filtering program')\n",
    "    print('---------------------------------------')\n",
    "    \n",
    "    print('Generating signals...')\n",
    "    sine = sig.SineSignal(length=2.0)\n",
    "    \n",
    "    print('Plotting...')\n",
    "    sine.plot_values()\n",
    "    plt.show()\n",
    "\n",
    "First, our signals module and matplotlib are loaded. Our module is called ``signals`` because the file that contains the class definitions is called `signals.py`. (Make sure you\n",
    "didn't call your file `signal.py`, or you will induce a conflict with a standard python module).\n",
    "Run the script. If everything went well, you should see something like:\n",
    "\n",
    ".. figure:: _images/plot_sine.png\n",
    "    :width: 400px\n",
    "    :align: center\n",
    "    :alt: Sine signal plotted\n",
    "    \n",
    "    Plot of our sine signal\n",
    "    \n",
    "You can use the different controls on top of the window (or below, depending on your version of matplotlib) to pan around \n",
    "and zoom in and out. Close the window after you finished inspecting the signal plot.\n",
    "\n",
    "Advanced class features\n",
    "-----------------------\n",
    "\n",
    "We've learned about object oriented programming and wrote a basic signal class. \n",
    "In this section we'll add some more advanced features to the class and learn about:\n",
    "\n",
    "* Private methods\n",
    "* Method overloading    \n",
    "* Operator overloading\n",
    "\n",
    "Private methods\n",
    "~~~~~~~~~~~~~~~\n",
    "\n",
    "When writing a class you might encounter situations where you want to write a helper method that you use a lot inside \n",
    "your class definition but that shouldn't be accessible for people that use the class. In this case you will want to use \n",
    "private methods, which are only accessible inside the class definition. You can indicate a method as private by adding \n",
    "an underscore character before the name of the method:\n",
    "\n",
    ".. code:: python\n",
    "\n",
    "    class SomeClass(object):\n",
    "        def _this_is_a_private_method(self):\n",
    "            do_something()\n",
    "            return\n",
    "            \n",
    "No time to waste, let's use it in our ``Signal``-class. We'll implement a more advanced plotting method that plots \n",
    "the signal and its Fourier image in 1 window on two different graphs. For that we'll define two private helper method, \n",
    "one that plots the signal itself and another one that plots the Fourier image.\n",
    "\n",
    "Make the ``plot_values()`` method private by adding an underscore character before its name and add the following code below:\n",
    "\n",
    ".. code:: python\n",
    "\n",
    "    def _plot_fft(self):\n",
    "        [ freqs, ft ] = self.get_fft()\n",
    "        plt.xlabel('Frequency (Hz)')\n",
    "        plt.ylabel('Fourier Component (a.u.)')\n",
    "        plt.plot(freqs,ft)\n",
    "\n",
    "    def plot_signal(self, plot_title = 'Unnamed signal'):\n",
    "        fig = plt.figure()\n",
    "        fig.subplots_adjust(hspace = 0.38)\n",
    "        plt.subplot(2,1,1)\n",
    "        plt.title(plot_title)\n",
    "        self._plot_values()\n",
    "        plt.subplot(2,1,2)\n",
    "        plt.title('Spectrum')\n",
    "        self._plot_fft()\n",
    "        \n",
    "\n",
    "The ``_plot_fft()`` method is nearly identical to ``_plot_values()``. The ``plot_signal()`` method starts \n",
    "by creating a new figure i.e. a new window. The second line is a mere technicality, telling \n",
    "matplotlib to increase the vertical space between two plots in a single window to 0.38 units. The third statement, \n",
    "``plt.subplot(2,1,1)`` indicates that we want the window to be divided into 2 (first argument) rows and 1 (second argument) \n",
    "column and that the next plot should be on the first (third argument) axes (which is the upper one). \n",
    "This is very similar to how you use subplots in MATLAB. Next, a title is set for that plot (passed as an optional argument) \n",
    "and the signal itself is drawn using the private method. This is repeated for plotting the fft image.\n",
    "\n",
    "Now run the main file again. \n",
    "\n",
    "Whoops! An error occurred:\n",
    "\n",
    ".. figure:: _images/sine_error.png\n",
    "    :width: 600px\n",
    "    :align: center\n",
    "    :alt: Error after making methods private\n",
    "    \n",
    "Remember we renamed the method to make it private. (However, single underscore is just a convention in python. If you want to make the method actually inaccessible, add double underscores: `__really_private_method()`).\n",
    "We defined a new method, `plot_signal()`, so let's replace `sine.plot_values()` in the main file to:\n",
    "\n",
    ".. code:: python\n",
    "\n",
    "    sine.plot_signal(plot_title='Sine signal')\n",
    "\n",
    "Running the main file now should yield=\n",
    "\n",
    ".. figure:: _images/sine_2plots.png\n",
    "    :width: 600px\n",
    "    :align: center\n",
    "    :alt: Sine function and its fast fourier transform\n",
    "    \n",
    "\n",
    "Operator overloading\n",
    "~~~~~~~~~~~~~~~~~~~~\n",
    "\n",
    "Overloading operators is something you won't be using a lot, but in this project it is very convenient and implementing it is a piece of cake. \n",
    "We want to be able to use the + (plus) operator between two objects of the signal class to generate a new signal who's value array is the sum \n",
    "of the value arrays of the two signals that were summed, the behavior you would expect from adding two signal objects together. \n",
    "\n",
    "Within Python, you can define how operators like +, -, * and so forth should behave on a certain type. This is used within IPKISS to implement syntax like:\n",
    "\n",
    ".. code:: python\n",
    "\n",
    "    s1 = i3.Shape([(0.0,0.0), (10.0,0.0)])\n",
    "    s2 = i3.Shape([(20.0,10.0), (30.0,30.0)])\n",
    "\n",
    "    s_full = s1 + s2\n",
    "\n",
    "So after reading this section you know how this works!\n",
    "\n",
    "To overload the plus (+) operator, you have to add the method ``__add__(self, signal)``, which returns ``self + signal``. The implementation of\n",
    "this method is straightforward: add the following code after the constructor (``__init__()``) in the Signal class definition:\n",
    "\n",
    ".. code:: python\n",
    "\n",
    "    def __add__(self, signal):\n",
    "        if (len(signal.values) != len(self.values)):\n",
    "            raise Exception(\"Error in Signal: __add__: length of 'signal.values' ({}) parameter differs from length of 'self.values' ({})\".format(len(signal.values), len(self.values)))\n",
    "\n",
    "        ret_sig = self.values + signal.values\n",
    "        return Signal(ret_sig, self.sample_rate)\n",
    "\n",
    "First we check if both signals have the same length, if they don't then we throw an exception. This means that the program will stop running \n",
    "and an error message will appear in the terminal. If the value-arrays have equal length, a new value array ``ret_sig`` is created that is the sum of the two value arrays. \n",
    "It is always good practice to include as much information in your error description as you can. The error message itself is formatted using the \n",
    "string formatting syntax that we used before. Finally a new signal object is instantiated using the new value array and the sample rate. \n",
    "It wouldn't be a bad idea to check if the sample rates are equal and raise an exception if they aren't - this is something you can try to implement yourself.\n",
    "\n",
    "You can test your overloaded operator by substituting ``sine = sig.SineSignal(length=2.0)`` in the main file with:\n",
    "\n",
    ".. code:: python\n",
    "\n",
    "    sine = sig.SineSignal(length = 2.0) + sig.SineSignal(signal_frequency = 70.0, length = 2.0)\n",
    "\n",
    "Plotting this will yield:\n",
    "\n",
    ".. figure:: _images/sine_added.png\n",
    "    :width: 600px\n",
    "    :align: center\n",
    "    :alt: Addition of two sine signals using overloaded + operator\n",
    "\n",
    "    Addition of two sine signals using overloaded + operator\n",
    "\n",
    "You can easily distinguish the two different sinusoidal components in the Fourier image. \n",
    "\n",
    "You can restore the sine assignment to its previous state:\n",
    "\n",
    ".. code:: python\n",
    "\n",
    "    sine = sig.SineSignal(length=2.0)\n",
    "    \n",
    "This finishes up our Signal class definition.\n",
    "\n",
    "Finishing the sample program\n",
    "----------------------------\n",
    "\n",
    "All that is left now is to define another subclass that can generate white noise and write a small class that implements the filter. \n",
    "We will not introduce many new concepts from now on but rather show you how the object oriented approach can help you to write clean programs.\n",
    "\n",
    "Adding the Noisy Signal class\n",
    "~~~~~~~~~~~~~~~~~~~~~~~~~~~~~\n",
    "\n",
    "Adding the Noisy Signal subclass is similar to the Sine signal subclass, but instead of the sine function we use a random number generator that is \n",
    "available through the `numpy.random` module. Import this module by adding this line at the top of `Signal.py`\n",
    "\n",
    ".. code:: python\n",
    "\n",
    "    import numpy.random as rnd\n",
    "\n",
    "Add the following code below the Sine class definition:\n",
    "\n",
    ".. code:: python\n",
    "\n",
    "    class NoisySignal(Signal):\n",
    "        def __init__(self, length=0.5, sample_rate=1000, amplitude=1):\n",
    "            self.time_steps = np.linspace(0, length, int(length*sample_rate))\n",
    "            self.sample_rate = sample_rate\n",
    "            self.values = 2.0 * amplitude * (rnd.random(size=(len(self.time_steps),))-0.5)\n",
    "\n",
    "As you can see, the ``np.sin()`` function call is replaced by ``rnd.random()`` which generates an array of uniformly distributed random numbers. The ``random()`` function\n",
    "takes an argument which is the size of the array to be generated (in this case we tell it to generate a one-dimensional array of size ``self.time_steps``). It returns\n",
    "random values in the interval ``[0,1[``. We rescale it to have the correct amplitude and center it around 0.0 by subtracting 0.5.\n",
    "\n",
    "Let's add a noisy signal to our sine signal and plot both. In `main.py`, add the following line after the sine signal is generated:\n",
    "\n",
    ".. code:: python\n",
    "\n",
    "    noise = sig.NoisySignal(length=2.0)\n",
    "    dirty_signal = sine + noise\n",
    "\n",
    "and add the following line after the plotting command for the sine signal:\n",
    "\n",
    ".. code:: python\n",
    "\n",
    "    dirty_signal.plot_signal(plot_title = 'Dirty Signal')\n",
    "    \n",
    "Running the program will show 2 windows (remember we called ``figure()`` before each signal plot), the first one drawing the \n",
    "clean signal, the second one the dirty signal:\n",
    "\n",
    ".. figure:: _images/sine_dirty_2plots.png\n",
    "    :width: 600px\n",
    "    :align: center\n",
    "    :alt: Sine with noise\n",
    "\n",
    "    Sine with noise added\n",
    "\n",
    "\n",
    "Implementing the filter class\n",
    "~~~~~~~~~~~~~~~~~~~~~~~~~~~~~\n",
    "\n",
    "Next we'll add a class that filters a signal by multiplying the Fourier image of that signal with a window of a certain width and\n",
    "center frequency. First add a new file to the project called `signal_filter.py`.\n",
    "\n",
    "First add the following import statements at the top of the new file:\n",
    "\n",
    ".. code:: python\n",
    "\n",
    "    import signals as sig\n",
    "    import numpy.fftpack as fft\n",
    "    import numpy as np\n",
    "    \n",
    "\n",
    "We'll be using our ``signals`` module, the fftpack and numpy.\n",
    "\n",
    "Next, add the following lines below the import statements to start the Filter class definition:\n",
    "\n",
    ".. code:: python\n",
    "\n",
    "    class Filter(object):\n",
    "        def __init__(self, center_frequency, bandwidth):\n",
    "            self.lower_bound = center_frequency - bandwidth/2.0\n",
    "            self.upper_bound = center_frequency + bandwidth/2.0\n",
    "\n",
    "The user passes through the center frequency and bandwidth of the window filter, but for calculating the frequency response,\n",
    "we are only interested in the lower and upper frequency bounds of the pass band, so we save these to `self`. You will now understand\n",
    "what the `object` between brackets after the class name means: the class inherits from the generic `object` class, which all new classes\n",
    "in Python inherit from. \n",
    "\n",
    "The filter class has one more method we need to implement: the `filter_signal` method that takes a signal and returns a\n",
    "filtered signal. Add the following code below the constructor:\n",
    "\n",
    ".. code:: python\n",
    "\n",
    "    def filter_signal(self, signal):\n",
    "\n",
    "        [freqs, fourier_signal] = signal.get_fft(shifted=False)\n",
    "\n",
    "        n_o_samples = len(freqs)\n",
    "        freq_filter = np.zeros(n_o_samples)\n",
    "        filtered_fourier_signal = np.zeros(n_o_samples, dtype=complex)\n",
    "\n",
    "        for i in range(n_o_samples):\n",
    "            if (np.abs(freqs[i]) > self.lower_bound) and (np.abs(freqs[i]) < self.upper_bound):\n",
    "                filtered_fourier_signal[i] = fourier_signal[i]\n",
    "            else:\n",
    "                filtered_fourier_signal[i] = 0.0 + 0.0j\n",
    "\n",
    "        filtered_signal = fft.ifft(filtered_fourier_signal)\n",
    "\n",
    "        return sig.Signal(value_array = filtered_signal, sample_rate = signal.get_sample_rate())\n",
    "\n",
    "By now you should be able to understand the code here. A few comments though:\n",
    "\n",
    "* The ``np.zeros()`` call contains an argument called ``dtype``, which defines the datatype of the elements in the array, in this case complex numbers since the Fourier transform of a real signal is in general complex\n",
    "* As you can see, you can hard-code complex numbers by using ``j`` for the imaginary part\n",
    "\n",
    "\n",
    "Adjusting the main file\n",
    "~~~~~~~~~~~~~~~~~~~~~~~\n",
    "\n",
    "Finally, let's use the new filter class to clean up the dirty signal. In the main file, first import the Filter class by \n",
    "adding the following import statement below the existing import statements in `main.py`:\n",
    "\n",
    ".. code:: python\n",
    "\n",
    "    import signal_filter as fil\n",
    "\n",
    "Below the line of code where we sum the sine and noise signal, add the following lines:\n",
    "\n",
    ".. code:: python\n",
    "\n",
    "    print('Generating filter..')\n",
    "    pass_filter = fil.Filter(center_frequency=25.0, bandwidth=2.0)\n",
    "    \n",
    "    print('Filtering..')\n",
    "    cleaned_signal = pass_filter.filter_signal(dirty_signal)\n",
    "    \n",
    "We create a band-pass filter of center-frequency 25.0 Hz and bandwidth of 2.0 Hz. \n",
    "Next we apply the filter to obtain a cleaned up signal. All that is left is to plot the cleaned up signal. \n",
    "Add the following line after the code to plot the dirty signal:\n",
    "\n",
    ".. code:: python\n",
    "\n",
    "    cleaned_signal.plot_signal(plot_title='Cleaned signal')\n",
    "\n",
    "Now run the code. You will find the previous two plots along with a new plot showing the cleaned-up signal:\n",
    "\n",
    ".. figure:: _images/sine_cleaned_2plots.png\n",
    "    :width: 600px\n",
    "    :align: center\n",
    "    :alt: Filtered signal \n",
    "\n",
    "    Filtered sine with noise signal\n",
    "\n",
    "This concludes our basic tutorial on Python. By now you should be able to understand and write basic Python code. \n",
    "Congratulations! "
   ]
  }
 ],
 "metadata": {
  "kernelspec": {
   "display_name": "Python 2",
   "language": "python",
   "name": "python2"
  },
  "language_info": {
   "codemirror_mode": {
    "name": "ipython",
    "version": 2
   },
   "file_extension": ".py",
   "mimetype": "text/x-python",
   "name": "python",
   "nbconvert_exporter": "python",
   "pygments_lexer": "ipython2",
   "version": "2.7.13"
  }
 },
 "nbformat": 4,
 "nbformat_minor": 1
}
