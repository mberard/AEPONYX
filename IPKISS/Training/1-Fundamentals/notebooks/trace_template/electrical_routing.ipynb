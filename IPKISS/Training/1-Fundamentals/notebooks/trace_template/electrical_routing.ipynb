{
 "cells": [
  {
   "cell_type": "markdown",
   "metadata": {},
   "source": [
    "## Electrical routing in IPKISS"
   ]
  },
  {
   "cell_type": "markdown",
   "metadata": {},
   "source": [
    "Similar to [IPKISS waveguides](waveguide.ipynb), electrical routing in IPKISS can also be created with a **trace template**, and a defined trace (route).\n",
    "Similar as the previous example, where we use `RouteManhattan` function to create Manhattan-like (orthogonal) waveguide routing between two define ports, here, we will use a metal-based template instead of a waveguide-based template."
   ]
  },
  {
   "cell_type": "code",
   "execution_count": null,
   "metadata": {
    "collapsed": false
   },
   "outputs": [],
   "source": [
    "%matplotlib inline\n",
    "from technologies import silicon_photonics\n",
    "from ipkiss3 import all as i3\n",
    "import pylab as plt\n",
    "import numpy as np\n",
    "import sys\n",
    "\n",
    "plt.rcParams['figure.figsize'] = (8, 8)\n",
    "sys.path.insert(0, '.')"
   ]
  },
  {
   "cell_type": "code",
   "execution_count": null,
   "metadata": {
    "collapsed": false
   },
   "outputs": [],
   "source": [
    "from ipkiss3.pcell.routing import RouteManhattan\n",
    "from ipkiss3.pcell.wiring import ElectricalPort, ElectricalWire, ElectricalWireTemplate\n",
    "\n",
    "input_port = ElectricalPort(name=\"in\", position=(5.0, 5.0))\n",
    "output_port = ElectricalPort(name=\"out\", position=(20.0, 20.0))\n",
    "\n",
    "# create the route object\n",
    "route = RouteManhattan(input_port=input_port,\n",
    "                       output_port=output_port)\n",
    "\n",
    "tpl = ElectricalWireTemplate()\n",
    "wire = ElectricalWire(trace_template=tpl)\n",
    "layout = wire.Layout(shape=route)\n",
    "layout.visualize()"
   ]
  },
  {
   "cell_type": "markdown",
   "metadata": {},
   "source": [
    "Next, let's see an example of using metal routing in a circuit design. In this case, we create a very simple design with two bondpads, and we connect them by a metal wire. We use the standard picazzo PCell [PlaceComponents](http://docs.lucedaphotonics.com/3.1/picazzo/routing/place_route/ref/picazzo3.routing.place_route.cell.PlaceComponents.html) to place several components."
   ]
  },
  {
   "cell_type": "code",
   "execution_count": null,
   "metadata": {
    "collapsed": false
   },
   "outputs": [],
   "source": [
    "from technologies import silicon_photonics\n",
    "from ipkiss3 import all as i3\n",
    "from picazzo3.routing.place_route import PlaceComponents\n",
    "from ipkiss3.pcell.wiring import ElectricalPort, ElectricalWire, ElectricalWireTemplate\n",
    "from support_files.bondpad import BondPad\n",
    "\n",
    "tpl = ElectricalWireTemplate()\n",
    "\n",
    "class ElectricalRoutingExample(PlaceComponents):\n",
    "\n",
    "    bondpad = i3.ChildCellProperty(doc=\"Bondpad used\")\n",
    "    num_bondpads = i3.PositiveIntProperty(doc=\"Number of bondspads\")\n",
    "    \n",
    "    def _default_num_bondpads(self):\n",
    "        return 5\n",
    "\n",
    "    def _default_bondpad(self):\n",
    "        return BondPad()\n",
    "\n",
    "    def _default_child_cells(self):        \n",
    "        childs = dict()\n",
    "        for w in range(self.num_bondpads):\n",
    "            childs[\"bp_north_{}\".format(w)] = self.bondpad\n",
    "            childs[\"bp_west_{}\".format(w)] = self.bondpad\n",
    "\n",
    "        return childs\n",
    "\n",
    "\n",
    "    class Layout(PlaceComponents.Layout):\n",
    "        \n",
    "        bp_spacing = i3.PositiveNumberProperty(default=200.0, doc=\"Spacing between the bondpads\")\n",
    "        center_bp_north = i3.PositiveNumberProperty(doc=\"Center for the north bondpads\")\n",
    "        center_bp_west = i3.PositiveNumberProperty(doc=\"Center for the west bondpads\")\n",
    "        metal_width = i3.PositiveNumberProperty(doc=\"Metal width\", default=5.0)\n",
    "        \n",
    "\n",
    "        def _default_center_bp_north(self):\n",
    "            return 1000\n",
    "\n",
    "        def _default_center_bp_west(self):\n",
    "            return 100\n",
    "\n",
    "        def _default_child_transformations(self):\n",
    "            trans = dict()\n",
    "            for w in range(self.num_bondpads):\n",
    "                trans[\"bp_north_{}\".format(w)] = i3.Rotation(rotation=90.0) + i3.Translation(translation=(self.center_bp_north+(w-self.num_bondpads/2.0+0.5)*self.bp_spacing, 1000-100))\n",
    "                trans[\"bp_west_{}\".format(w)] = i3.Rotation(rotation=90.0) + i3.Translation(translation=(0 - 100, self.center_bp_west - (w - self.num_bondpads / 2.0 + 0.5) * self.bp_spacing))\n",
    "\n",
    "            return trans\n",
    "        \n",
    "        \n",
    "        @i3.cache()\n",
    "        def get_electrical_routes(self):\n",
    "            routes = []\n",
    "            trans = self.child_transformations\n",
    "            for w in range(self.num_bondpads):\n",
    "                p1 = self.bondpad.ports[\"m1\"].transform_copy(transformation=trans[\"bp_north_{}\".format(w)])\n",
    "                p2 = self.bondpad.ports[\"m1\"].transform_copy(transformation=trans[\"bp_west_{}\".format(w)]) \n",
    "                r = i3.RouteManhattan(input_port=p1, \n",
    "                                      output_port=p2,\n",
    "                                      angle_out=0.0,\n",
    "                                      angle_in=-90,\n",
    "                                      rounding_algorithm=None)\n",
    "                routes.append(r)\n",
    "\n",
    "\n",
    "            return routes\n",
    "        \n",
    "        def _generate_instances(self, insts):\n",
    "            insts = super(ElectricalRoutingExample.Layout, self)._generate_instances(insts)\n",
    "            for r in self.get_electrical_routes():\n",
    "                wire = ElectricalWire(trace_template=tpl)\n",
    "                layout = wire.Layout(shape=r)\n",
    "                insts += i3.SRef(layout)\n",
    "                \n",
    "            return insts\n",
    "                \n",
    "ElectricalRoutingExample().Layout().visualize()\n"
   ]
  },
  {
   "cell_type": "markdown",
   "metadata": {},
   "source": [
    "Now, you are introduced to the trace template concepts and you are able to create waveguide and metal wires!"
   ]
  },
  {
   "cell_type": "code",
   "execution_count": null,
   "metadata": {
    "collapsed": true
   },
   "outputs": [],
   "source": []
  }
 ],
 "metadata": {
  "kernelspec": {
   "display_name": "Python 2",
   "language": "python",
   "name": "python2"
  },
  "language_info": {
   "codemirror_mode": {
    "name": "ipython",
    "version": 2
   },
   "file_extension": ".py",
   "mimetype": "text/x-python",
   "name": "python",
   "nbconvert_exporter": "python",
   "pygments_lexer": "ipython2",
   "version": "2.7.13"
  }
 },
 "nbformat": 4,
 "nbformat_minor": 0
}
