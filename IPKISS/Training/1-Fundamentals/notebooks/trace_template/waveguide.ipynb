{
 "cells": [
  {
   "cell_type": "markdown",
   "metadata": {},
   "source": [
    "## Introduction to IPKISS Waveguides"
   ]
  },
  {
   "cell_type": "markdown",
   "metadata": {},
   "source": [
    "To introduce you to IPKISS waveguide concept, let's first take a look at some waveguide examples from our **PICAZZO** library (PICAZZO is a generic component library with a wide range of photonic components in IPKISS).\n",
    "\n",
    "Before that, we import the necessary libraries as usual, including the IPKISS module, the *silicon_photonics* PDK (a PDK for demonstration purpose), and for plotting. "
   ]
  },
  {
   "cell_type": "markdown",
   "metadata": {},
   "source": [
    "<div class=\"panel panel-info\">\n",
    " <div class=\"panel-heading\">New to Python?</div>\n",
    " <div class=\"panel-body\">\n",
    "    <p>If you haven't heard about Python before, don't worry, it's easy to learn. You should be able to follow the waveguides tutorial without being a Python expert. If you want to learn more about Python concepts, we also included a standard Python tutorial [Intro to Python](../python_getting_started/Basic Introduction to Python.ipynb).</p>\n",
    "  </div>  \n",
    "</div>\n"
   ]
  },
  {
   "cell_type": "code",
   "execution_count": null,
   "metadata": {
    "collapsed": false
   },
   "outputs": [],
   "source": [
    "%matplotlib inline\n",
    "from technologies import silicon_photonics\n",
    "from ipkiss3 import all as i3\n",
    "import pylab as plt\n",
    "import numpy as np\n",
    "import sys\n",
    "\n",
    "plt.rcParams['figure.figsize'] = (8, 8)\n",
    "sys.path.insert(0, '.')"
   ]
  },
  {
   "cell_type": "markdown",
   "metadata": {},
   "source": [
    "In IPKISS, we draw waveguide using **trace template** and  waveguide class such as **RoundedWaveguide**\n",
    "\n",
    "A trace template defines all the aspects of the waveguide that could be extracted from its cross-section:\n",
    "\n",
    "- how the waveguide is draw along the shape of the waveguide,\n",
    "- the simulation model, e.g. effective index and group index of the waveguide,\n",
    "- and the geometrical cross-section, can be derived from the layout through virtual fabrication.\n",
    "\n",
    "The waveguide class determines where is drawn \n",
    "\n",
    "- Path of the waveguide\n",
    "- Bending radius\n",
    "- ...\n",
    "\n",
    "\n",
    "For this reason, many parametric cells in ipkiss take one or multiple `trace_template` parameters, which determines the template(s) of the waveguides that are part of that pcell. This is best illustrated by the image below.\n",
    "\n",
    "\n",
    "Along with the trace, we obtain the actual layout.\n",
    "<img src=\"_images/ring.png\" width='60%'</a>\n",
    "\n",
    "Lets now try how this works on regular a simple waveguide, in order to build a waveguide bend:"
   ]
  },
  {
   "cell_type": "code",
   "execution_count": null,
   "metadata": {
    "collapsed": false
   },
   "outputs": [],
   "source": [
    "# Trace Template \n",
    "from picazzo3.traces.wire_wg.trace import WireWaveguideTemplate # Predefined Trace template from Picazzo\n",
    "\n",
    "\n",
    "wg_t = WireWaveguideTemplate()\n",
    "wg_t.Layout(core_width=0.47,\n",
    "            cladding_width=2 * 3.0 + 0.47,\n",
    "            core_process=i3.TECH.PROCESS.WG)\n",
    "\n",
    "\n",
    "wg2_t = WireWaveguideTemplate()\n",
    "wg2_t.Layout(core_width=1.47,\n",
    "            cladding_width=2 * 3.0 + 0.47,\n",
    "            core_process=i3.TECH.PROCESS.WG)\n",
    "\n",
    "\n",
    "# Waveguide\n",
    "\n",
    "wg = i3.RoundedWaveguide(trace_template=wg_t)\n",
    "wg_l = wg.Layout(shape=[(0.0, 0.0), (10.0,0),(10.0,10.0), (50.0,50.0)], \n",
    "                 bend_radius=5.0)\n",
    "wg_l.visualize()\n",
    "wg_l.write_gdsii(\"test.gds\")"
   ]
  },
  {
   "cell_type": "markdown",
   "metadata": {},
   "source": [
    "We can also visualize the cross-section of the waveguide as follows:"
   ]
  },
  {
   "cell_type": "code",
   "execution_count": null,
   "metadata": {
    "collapsed": false
   },
   "outputs": [],
   "source": [
    "# Visualize a cross section\n",
    "\n",
    "wg_l.cross_section(cross_section_path=i3.Shape([(2.0, -5.0), (2.0, 5.0)])).visualize()"
   ]
  },
  {
   "cell_type": "markdown",
   "metadata": {},
   "source": [
    "The above example showed how to draw a simple piece of waveguide with trace template. Next, we will show some relevant examples on how to draw waveguides.\n",
    "\n",
    "\n",
    "## Using Routes\n",
    "\n",
    "\n",
    "Often you do not want to specify all the waypoints inside a waveguide yourself, but you just care about the start and and port. This is a good case to use routing functions. For example, a route created by `RouteManhattan` function (\\*)  creates Manhattan-like (orthogonal) wire between two define ports.\n",
    "\n",
    "(\\*) In our documentation, you may find various types of routing functions: <a href=\"http://docs.lucedaphotonics.com/3.1.0/reference/layout/routing.html\"> Routing functions</a>"
   ]
  },
  {
   "cell_type": "code",
   "execution_count": null,
   "metadata": {
    "collapsed": false
   },
   "outputs": [],
   "source": [
    "input_port = i3.OpticalPort(name=\"in\", position=(5.0, 0.0), angle_deg=20.0, trace_template=wg_t)\n",
    "output_port = i3.OpticalPort(name=\"out\", position=(50.0, 30.0), angle_deg=180.0, trace_template=wg_t)\n",
    "\n",
    "# create the route object\n",
    "route = i3.RouteManhattan(input_port=input_port,\n",
    "                          output_port=output_port)\n",
    "\n",
    "# a route is a Shape, so we can use it to draw a waveguide\n",
    "wg = i3.RoundedWaveguide(trace_template=wg_t)\n",
    "layout = wg.Layout(shape=route)\n",
    "layout.visualize()"
   ]
  },
  {
   "cell_type": "markdown",
   "metadata": {},
   "source": [
    "## Ports\n",
    "\n",
    "Note that we also introduced the concept of an ``OpticalPort`` here. An optical port has a name, position and angle. It also contains the **trace template**."
   ]
  },
  {
   "cell_type": "code",
   "execution_count": null,
   "metadata": {
    "collapsed": false
   },
   "outputs": [],
   "source": [
    "input_port.trace_template"
   ]
  },
  {
   "cell_type": "markdown",
   "metadata": {},
   "source": [
    "### Define a custom waveguide template\n",
    "\n",
    "In addition to waveguide templates you may find in PICAZZO library, you can also define your own waveguide template using `WindowWaveguideTemplate`:"
   ]
  },
  {
   "cell_type": "code",
   "execution_count": null,
   "metadata": {
    "collapsed": false
   },
   "outputs": [],
   "source": [
    "from ipkiss3.pcell.photonics.waveguide import WindowWaveguideTemplate\n",
    "from ipkiss3.pcell.trace.window.window import PathTraceWindow\n",
    "\n",
    "class MyWgTemplate(WindowWaveguideTemplate):\n",
    "    \n",
    "    class Layout(WindowWaveguideTemplate.Layout):\n",
    "        core_width = i3.PositiveNumberProperty(doc=\"Core width of the waveguide\")\n",
    "        cladding_width = i3.PositiveNumberProperty(doc=\"Cladding width of the waveguide\")\n",
    "        \n",
    "        def _default_core_width(self):\n",
    "            return 0.45\n",
    "        \n",
    "        def _default_cladding_width(self):\n",
    "            return 4.0\n",
    "        \n",
    "        def _default_cover_layers(self):\n",
    "            # Layer for Manhattan rectangles (drawn in waveguide bends when the waveguide manhattan parameter = True)\n",
    "            return []\n",
    "\n",
    "        def _default_windows(self):\n",
    "            windows = []\n",
    "            windows.append(PathTraceWindow(layer=i3.TECH.PPLAYER.WG.CORE,\n",
    "                                           start_offset=-0.5 * self.core_width,\n",
    "                                           end_offset=+0.5 * self.core_width))\n",
    "\n",
    "            windows.append(PathTraceWindow(layer=i3.TECH.PPLAYER.WG.CLADDING,\n",
    "                                           start_offset=-0.5 * self.cladding_width,\n",
    "                                           end_offset=+0.5 * self.cladding_width))\n",
    "            return windows"
   ]
  },
  {
   "cell_type": "markdown",
   "metadata": {
    "collapsed": true
   },
   "source": [
    "Now, we use this created waveguide template to draw a simple shape:"
   ]
  },
  {
   "cell_type": "code",
   "execution_count": null,
   "metadata": {
    "collapsed": false,
    "scrolled": true
   },
   "outputs": [],
   "source": [
    "# Instantiate the new waveguide template to use it in our waveguide below\n",
    "wg_tmpl = MyWgTemplate()\n",
    "\n",
    "wg = i3.RoundedWaveguide(trace_template=wg_tmpl)\n",
    "wg_lay = wg.Layout(shape=[(0, 0), (5, 0), (11, 5)])\n",
    "\n",
    "wg_lay.visualize()"
   ]
  },
  {
   "cell_type": "markdown",
   "metadata": {},
   "source": [
    "Congratulations! You have now been introduced to the IPKISS waveguide concept, which is useful for drawing almost any photonic components and routing the photonic circuit. "
   ]
  }
 ],
 "metadata": {
  "kernelspec": {
   "display_name": "Python 2",
   "language": "python",
   "name": "python2"
  },
  "language_info": {
   "codemirror_mode": {
    "name": "ipython",
    "version": 2
   },
   "file_extension": ".py",
   "mimetype": "text/x-python",
   "name": "python",
   "nbconvert_exporter": "python",
   "pygments_lexer": "ipython2",
   "version": "2.7.15"
  }
 },
 "nbformat": 4,
 "nbformat_minor": 0
}
