{
 "cells": [
  {
   "cell_type": "markdown",
   "metadata": {},
   "source": [
    "# Welcome to the IPKISS Training"
   ]
  },
  {
   "cell_type": "markdown",
   "metadata": {},
   "source": [
    "Welcome to the IPKISS training! It is nice to meet you. The goal of this training is to give you basic proficiency in the IPKISS.flow and IPKISS.eda framework. \n",
    "\n",
    "The training is built on \"notebooks\" that you should be able to complete in an semi-autonomous way. Notebooks are very suitable for learning, as text and illustrations are interleaved with code that can be runned in an interactive way. \n",
    "\n",
    "How does a notebook work? Let's take an example. The python cell below calculates $\\pi$. To execute the cell, perform the following 2 steps:\n",
    "\n",
    "1. Click on the cell to select it.\n",
    "2. Press `SHIFT+ENTER` on your keyboard or press the play button (<button class='fa fa-play icon-play btn btn-xs btn-default'></button>) in the toolbar above.\n",
    "\n",
    "Try it on the cell below:"
   ]
  },
  {
   "cell_type": "code",
   "execution_count": null,
   "metadata": {
    "collapsed": false
   },
   "outputs": [],
   "source": [
    "# some python code to calculate pi:\n",
    "\n",
    "pi_estimate = 0.0\n",
    "terms_in_series = 500000\n",
    "\n",
    "for k in range(terms_in_series):\n",
    "    pi_estimate = pi_estimate + 4.0 * (-1)**k / (2*k+1.0)\n",
    "\n",
    "print(\"Pi is approximately {0}\".format(pi_estimate))"
   ]
  },
  {
   "cell_type": "markdown",
   "metadata": {},
   "source": [
    "This training is divided in different sections. Below you can find a summary of the sessions, with links to the individual training notebooks."
   ]
  },
  {
   "cell_type": "markdown",
   "metadata": {},
   "source": [
    "## Expert Session: Bending algorithms.\n",
    "\n",
    "This session teaches you how to customize your bends in IPKISS. Advanced features like the coding of custom built bending algorithms are introduced. "
   ]
  },
  {
   "cell_type": "markdown",
   "metadata": {},
   "source": [
    "<div>\n",
    "<div style=\"width: 20%; display: inline; margin:0; float: left\"> <p> \n",
    "<a href=\"route_bending_algoritms/bending_algorithms.ipynb\"> <img src=\"route_bending_algoritms/_images/bending_algorithms.png\" width=400 ></a> </p> </div>\n",
    "<div style=\"width: 49%;  display: inline; float: right; margin:0\"> <p> <a href=\"route_bending_algoritms/bending_algorithms.ipynb\"> Custom bending algorithms.\n",
    "</div>"
   ]
  },
  {
   "cell_type": "code",
   "execution_count": null,
   "metadata": {
    "collapsed": true
   },
   "outputs": [],
   "source": []
  }
 ],
 "metadata": {
  "kernelspec": {
   "display_name": "Python 2",
   "language": "python",
   "name": "python2"
  },
  "language_info": {
   "codemirror_mode": {
    "name": "ipython",
    "version": 2
   },
   "file_extension": ".py",
   "mimetype": "text/x-python",
   "name": "python",
   "nbconvert_exporter": "python",
   "pygments_lexer": "ipython2",
   "version": "2.7.13"
  }
 },
 "nbformat": 4,
 "nbformat_minor": 0
}
