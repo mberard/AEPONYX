{
 "cells": [
  {
   "cell_type": "markdown",
   "metadata": {
    "deletable": true,
    "editable": true
   },
   "source": [
    "# Bending algorithms"
   ]
  },
  {
   "cell_type": "markdown",
   "metadata": {
    "deletable": true,
    "editable": true
   },
   "source": [
    "Bends is photonic-waveguides are very common and their efficiency can be crucial in highly optimized designs. In IPKISS there are several bending algoritms available and you can also make your own. Learning how to do this is the purpose of this notebook."
   ]
  },
  {
   "cell_type": "markdown",
   "metadata": {
    "deletable": true,
    "editable": true
   },
   "source": [
    "## 0. Setup\n",
    "\n",
    "Let's first setup the technology and some rendering settings for the notebook."
   ]
  },
  {
   "cell_type": "code",
   "execution_count": null,
   "metadata": {
    "collapsed": true,
    "deletable": true,
    "editable": true
   },
   "outputs": [],
   "source": [
    "from technologies.silicon_photonics import TECH\n",
    "from ipkiss3 import all as i3"
   ]
  },
  {
   "cell_type": "code",
   "execution_count": null,
   "metadata": {
    "collapsed": false,
    "deletable": true,
    "editable": true
   },
   "outputs": [],
   "source": [
    "# Fix paths so that relative imports work in ipython \n",
    "import os, sys\n",
    "sys.path.append('.')\n",
    "%pylab inline\n",
    "pylab.rcParams['figure.figsize'] = (12, 6)"
   ]
  },
  {
   "cell_type": "markdown",
   "metadata": {
    "deletable": true,
    "editable": true
   },
   "source": [
    "## Roundedwaveguides\n",
    "\n",
    "Each waveguide with bends is created by the class i3.RoundedWaveguide which implements a rounding algorithm. To see what a rounding algorihm does it is best to start with an unrounded waveguide."
   ]
  },
  {
   "cell_type": "code",
   "execution_count": null,
   "metadata": {
    "collapsed": false,
    "deletable": true,
    "editable": true
   },
   "outputs": [],
   "source": [
    "shape = [(0.,0.),(10.,0.),(10.,10.),(20.,10.),(30.,20.)]\n",
    "ur_wav = i3.Waveguide()\n",
    "ur_wav_l = ur_wav.Layout(shape=shape, draw_control_shape=True)\n",
    "ur_wav_l.visualize()"
   ]
  },
  {
   "cell_type": "markdown",
   "metadata": {
    "deletable": true,
    "editable": true
   },
   "source": [
    "You see that a waveguide is drawn (using the default wg_template) and sharp corners (with no rounding) are used. The waveguide is built up by drawing **layers of a certain width** around a **center line**. **When no rounding algoritms are used the center line that is used is equal to the control shape** that is set as a layout parameter. To add bends the center line that is used needs to be rounded using that control shape as a starting point. Lets see how this is done using the a RoundedWaveguide."
   ]
  },
  {
   "cell_type": "code",
   "execution_count": null,
   "metadata": {
    "collapsed": false,
    "deletable": true,
    "editable": true
   },
   "outputs": [],
   "source": [
    "r_wav = i3.RoundedWaveguide()\n",
    "r_wav_l = r_wav.Layout(shape=shape, bend_radius=1.0, draw_control_shape=True)\n",
    "r_wav_l.visualize()"
   ]
  },
  {
   "cell_type": "markdown",
   "metadata": {
    "deletable": true,
    "editable": true
   },
   "source": [
    "Now you see that the center line used in the waveguide is different from the control_shape and rounded. That center line can be extracted from the LayoutView of the waveguide."
   ]
  },
  {
   "cell_type": "code",
   "execution_count": null,
   "metadata": {
    "collapsed": false,
    "deletable": true,
    "editable": true
   },
   "outputs": [],
   "source": [
    "cl = r_wav_l.center_line_shape\n",
    "plt.plot(cl.x_coords(),cl.y_coords())"
   ]
  },
  {
   "cell_type": "markdown",
   "metadata": {
    "deletable": true,
    "editable": true
   },
   "source": [
    "A **rouding algorithm** is therefore a **shape_modifier** that yields a new shape for the center line given **the original control shape**. "
   ]
  },
  {
   "cell_type": "markdown",
   "metadata": {
    "deletable": true,
    "editable": true
   },
   "source": [
    "## Rounding Algoritms in IPKISS\n",
    "\n",
    "The shape_modifiers used in waveguides IPKISS are:\n",
    "\n",
    "- ShapeRound (by default)\n",
    "- SplineRoundingAlgorithm\n",
    "\n",
    "\n",
    "Lets have a look at how to use them."
   ]
  },
  {
   "cell_type": "code",
   "execution_count": null,
   "metadata": {
    "collapsed": false,
    "deletable": true,
    "editable": true
   },
   "outputs": [],
   "source": [
    "## ShapeRound\n",
    "from ipkiss.geometry.shapes.modifiers import ShapeRound\n",
    "rounded_shape = ShapeRound(original_shape=shape,radius=5.0)\n",
    "plt.plot(rounded_shape.x_coords(),rounded_shape.y_coords())\n",
    "\n",
    "# SplineRouding\n",
    "from ipkiss.geometry.shapes.spline import ShapeRoundAdiabaticSpline\n",
    "rounded_shape_spine = ShapeRoundAdiabaticSpline(original_shape=shape,radius=2.0,adiabatic_angles=(20,20))\n",
    "plt.plot(rounded_shape_spine.x_coords(),rounded_shape_spine.y_coords())"
   ]
  },
  {
   "cell_type": "markdown",
   "metadata": {
    "deletable": true,
    "editable": true
   },
   "source": [
    "If you want to pass your rounding algorithm to a waveguide class you can do it like this."
   ]
  },
  {
   "cell_type": "code",
   "execution_count": null,
   "metadata": {
    "collapsed": false,
    "deletable": true,
    "editable": true
   },
   "outputs": [],
   "source": [
    "my_rounding_alg=ShapeRound\n",
    "r_wav = i3.RoundedWaveguide()\n",
    "r_wav_l = r_wav.Layout(shape=shape, rounding_algorithm=my_rounding_alg, draw_control_shape=True)\n",
    "r_wav_l.visualize()\n",
    "\n",
    "my_rounding_alg=ShapeRoundAdiabaticSpline\n",
    "r_wav = i3.RoundedWaveguide()\n",
    "r_wav_l = r_wav.Layout(shape=shape, rounding_algorithm=my_rounding_alg, draw_control_shape=True)\n",
    "r_wav_l.visualize()"
   ]
  },
  {
   "cell_type": "markdown",
   "metadata": {
    "deletable": true,
    "editable": true
   },
   "source": [
    "## Creating your own rounding algoritms.\n",
    "\n",
    "If you want to create your own algoritm best is to inherit from __ShapeModifierAutoOpenClosed__ and add the following required properties \n",
    "- angle_step and radius need to be there as properties. \n",
    "- the validation methods still assume that there is a bend_radius although that may be irrelevant for the rounding algorithm you are implementing.\n",
    "\n",
    "If you only use your rounding algorithm in combination with i3.RoundedWaveguide it is sufficient that the original shape takes only 3 points. The start point, the bend_point and the end_point. \n",
    "\n",
    "\n",
    "Below is a rahter inefficient implementation of the ShapeRound algorithm. \n",
    "\n",
    "<img src=\"_images/shape_round.png\" width=600>\n",
    "\n",
    "It basically uses the property **original_shape** that is assumed to have 3 points, a start point, a bend points and an end point. Those points are transformed to a new shape that includes the start point and end point but adds a nice arc in the middle. Most of the logic in the class is math that calculates the center and the start and end angles of the arc.\n",
    "\n",
    "In the method define_points, the complete set of points is returned, which again includes that start and end_point. I have also added a visualize() method as a help to understand how the algorithm works."
   ]
  },
  {
   "cell_type": "code",
   "execution_count": null,
   "metadata": {
    "collapsed": false,
    "deletable": true,
    "editable": true
   },
   "outputs": [],
   "source": [
    "from ipkiss.geometry.shape_modifier import __ShapeModifierAutoOpenClosed__\n",
    "import numpy as np\n",
    "norm = np.linalg.norm\n",
    "\n",
    "def get_angle(p0, p1=np.array([0,0]), p2=None):\n",
    "    ''' compute angle (in degrees) for p0p1p2 corner\n",
    "    Inputs:\n",
    "        p0,p1,p2 - points in the form of [x,y]\n",
    "    '''\n",
    "    if p2 is None:\n",
    "        p2 = p1 + np.array([1, 0])\n",
    "    v0 = np.array(p0) - np.array(p1)\n",
    "    v1 = np.array(p2) - np.array(p1)\n",
    "\n",
    "    angle = np.math.atan2(np.linalg.det([v0,v1]),np.dot(v0,v1))\n",
    "    return np.degrees(angle)\n",
    "\n",
    "class MyRoundingAlgorithm(__ShapeModifierAutoOpenClosed__):\n",
    "    angle_step = i3.PositiveNumberProperty(default=1.0, doc=\"Property required by RoundedWaveguide. The value can ignored if you do not need it\")\n",
    "    radius=i3.PositiveNumberProperty(default=1.0, doc=\"Property required by RoundedWaveguide. The value can ignored if you do not need it\")\n",
    "    \n",
    "    def validate_properties(self):\n",
    "        if len(self.original_shape) != 3.0:\n",
    "            raise Exception(\"The length of the shape is not 3:{}\".format(self.original_shape))\n",
    "            \n",
    "        return True\n",
    "    \n",
    "    ## This method returns the points of the new shape\n",
    "    def define_points(self,pts):\n",
    "        original_shape= self.original_shape\n",
    "        new_points = [original_shape[0]]\n",
    "        new_points.extend(self._get_arc_points())\n",
    "        new_points.extend([original_shape[2]])\n",
    "        return np.array(new_points)\n",
    "    \n",
    "    @i3.cache()\n",
    "    def _get_angles(self):\n",
    "        intersects = self._get_intersects()\n",
    "        center = self._get_center_circle()\n",
    "        angles = []\n",
    "        angles.append(get_angle(center+(self.radius,0),center,intersects[0]))\n",
    "        angles.append(get_angle(center+(self.radius,0),center,intersects[1])) \n",
    "        return (np.array(angles) + 360) % 360          \n",
    "    \n",
    "    @i3.cache()\n",
    "    def _get_center_circle(self):\n",
    "        \"\"\"\n",
    "        gets the center point of the arc \n",
    "        \"\"\"\n",
    "        original_shape = self.original_shape\n",
    "        start_point = np.array(self.original_shape[0] - self.original_shape[1])\n",
    "        end_point = np.array(self.original_shape[2] - self.original_shape[1])\n",
    "        base_point = (start_point/norm(start_point) + end_point/norm(end_point))/2.0\n",
    "        angle = get_angle(self.original_shape[0],self.original_shape[1],self.original_shape[2])/2.0\n",
    "        sin_angle = np.sin(angle*np.pi/180.0)\n",
    "\n",
    "        d = self.radius/sin_angle\n",
    "        factor = d/np.linalg.norm(base_point)\n",
    "        center = abs(factor) * base_point + self.original_shape[1]\n",
    "        return center\n",
    "    \n",
    "    @i3.cache()\n",
    "    def _get_intersects(self):\n",
    "        c = self._get_center_circle()\n",
    "        d = (norm(c-self.original_shape[1])**2 - self.radius**2)**0.5\n",
    "        intersects = []\n",
    "        for cnt in [0,2]:\n",
    "            factor = d/norm(self.original_shape[cnt]-self.original_shape[1])\n",
    "            intersects.append(abs(factor) * (self.original_shape[cnt]-self.original_shape[1]) + self.original_shape[1])\n",
    "        return intersects   \n",
    "    \n",
    "    @i3.cache()\n",
    "    def _get_arc_points(self):\n",
    "        center = self._get_center_circle()\n",
    "        sa = start_angle=self._get_angles()[0]\n",
    "        ea = self._get_angles()[1]\n",
    "        arc_left = i3.ShapeArc(center=center,start_angle=sa,end_angle=ea,radius=self.radius,clockwise=True,angle_step=self.angle_step)\n",
    "        arc_right = i3.ShapeArc(center=center,start_angle=sa,end_angle=ea,radius=self.radius,clockwise=False,angle_step=self.angle_step)\n",
    "        \n",
    "        if arc_left.length() > arc_right.length():\n",
    "            return arc_right\n",
    "        else:\n",
    "            return arc_left\n",
    "        \n",
    "    @i3.cache()    \n",
    "    def _get_full_circle(self):\n",
    "        center = self._get_center_circle()\n",
    "        arc_points = i3.ShapeArc(center=center,start_angle=0.0,end_angle=360.0,radius=self.radius)\n",
    "        return arc_points      \n",
    "    \n",
    "    def visualize(self):\n",
    "        plt.plot(self.x_coords(),self.y_coords())\n",
    "        plt.plot([p[0] for p in self.original_shape], [p[1] for p in self.original_shape], 'c')\n",
    "        plt.plot(self._get_center_circle()[0],self._get_center_circle()[1],'*')\n",
    "        plt.plot(self.points[:,0],self.points[:,1],'-*')\n",
    "        plt.plot(self._get_full_circle().x_coords(),self._get_full_circle().y_coords(),'--')\n",
    "        plt.plot(self._get_intersects()[0][0],self._get_intersects()[0][1],'*')\n",
    "        plt.plot(self._get_intersects()[1][0],self._get_intersects()[1][1],'*')\n",
    "    \n",
    "\n",
    "\n",
    "original_shape = [(10.,0.),(10.,10.),(-10.,20.)]\n",
    "rounded_shape = MyRoundingAlgorithm(original_shape=original_shape,radius=2)\n",
    "rounded_shape.visualize()"
   ]
  },
  {
   "cell_type": "markdown",
   "metadata": {
    "deletable": true,
    "editable": true
   },
   "source": [
    "The rounding algorithm can then be used in combination with RoundedWaveguide. "
   ]
  },
  {
   "cell_type": "code",
   "execution_count": null,
   "metadata": {
    "collapsed": false,
    "deletable": true,
    "editable": true
   },
   "outputs": [],
   "source": [
    "wav = i3.RoundedWaveguide()\n",
    "wav_layout = wav.Layout(shape = shape, rounding_algorithm = MyRoundingAlgorithm , bend_radius=2.0)\n",
    "wav_layout.visualize()"
   ]
  },
  {
   "cell_type": "code",
   "execution_count": null,
   "metadata": {
    "collapsed": true,
    "deletable": true,
    "editable": true
   },
   "outputs": [],
   "source": []
  }
 ],
 "metadata": {
  "kernelspec": {
   "display_name": "Python 2",
   "language": "python",
   "name": "python2"
  },
  "language_info": {
   "codemirror_mode": {
    "name": "ipython",
    "version": 2
   },
   "file_extension": ".py",
   "mimetype": "text/x-python",
   "name": "python",
   "nbconvert_exporter": "python",
   "pygments_lexer": "ipython2",
   "version": "2.7.15"
  }
 },
 "nbformat": 4,
 "nbformat_minor": 0
}
