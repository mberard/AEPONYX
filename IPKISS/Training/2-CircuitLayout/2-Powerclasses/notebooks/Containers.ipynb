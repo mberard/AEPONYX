{
 "cells": [
  {
   "cell_type": "markdown",
   "metadata": {},
   "source": [
    "# PICAZZO Containers"
   ]
  },
  {
   "cell_type": "markdown",
   "metadata": {},
   "source": [
    "In a photonic design, it often happens that you have a photonic component that meets the functional specifications, but for some reason it does not quite fit into your design. For instance, the ports are in the wrong location, or have the wrong waveguide definition. For such common cases, IPKISS/PICAZZO provides **Containers**. These are Pcells that take another PCells and add some additional features. The commonly used PICAZZO containers are:\n",
    "\n",
    "- **TerminatePorts**: terminate one or more ports from a structure.\n",
    "- **ExtendPorts**: adds a waveguide extension to (some) ports.\n",
    "- **(Auto)TransitionPorts**: adds a mode converter to ports to convert to a specific waveguide type\n",
    "- **FanoutPorts**: routes ports to regular array.\n",
    "- **RoutePorts**: routes ports in anothwer direction\n",
    "\n",
    "\n",
    "\n",
    "![Different  container functions](_images/containers_ports.png)\n"
   ]
  },
  {
   "cell_type": "markdown",
   "metadata": {},
   "source": [
    "## 0. Setup"
   ]
  },
  {
   "cell_type": "code",
   "execution_count": null,
   "metadata": {
    "collapsed": false
   },
   "outputs": [],
   "source": [
    "%matplotlib inline\n",
    "from technologies import silicon_photonics\n",
    "from ipkiss3 import all as i3\n",
    "import numpy as np\n",
    "import pylab as plt"
   ]
  },
  {
   "cell_type": "code",
   "execution_count": null,
   "metadata": {
    "collapsed": false
   },
   "outputs": [],
   "source": [
    "import matplotlib.pylab as pylab\n",
    "pylab.rcParams['figure.figsize'] = 12, 8"
   ]
  },
  {
   "cell_type": "markdown",
   "metadata": {},
   "source": [
    "To demonstrate the use of containers, we will make use of a ring resonator component:"
   ]
  },
  {
   "cell_type": "code",
   "execution_count": null,
   "metadata": {
    "collapsed": false
   },
   "outputs": [],
   "source": [
    "from picazzo3.filters.ring import RingRect180DropFilter\n",
    "my_ring = RingRect180DropFilter()\n",
    "my_ring_layout = my_ring.Layout()\n",
    "my_ring_layout.visualize()"
   ]
  },
  {
   "cell_type": "markdown",
   "metadata": {},
   "source": [
    "## 1. Containers"
   ]
  },
  {
   "cell_type": "markdown",
   "metadata": {},
   "source": [
    "All PICAZZO containers have one thing in common: They contain another PCell, and can apply a transformation to it. The base class for containers is **_Container**, and it is not really used in its own right, because it does little more than storing another PCell.\n",
    "\n",
    "Still, we can use it to demonstrate the basic syntax:"
   ]
  },
  {
   "cell_type": "code",
   "execution_count": null,
   "metadata": {
    "collapsed": false
   },
   "outputs": [],
   "source": [
    "from ipkiss3.pcell.container.container import _Container\n",
    "my_ring_in_container_1 = _Container(contents = my_ring)"
   ]
  },
  {
   "cell_type": "markdown",
   "metadata": {},
   "source": [
    "At the layout level the a original pcell is just place inside the container"
   ]
  },
  {
   "cell_type": "code",
   "execution_count": null,
   "metadata": {
    "collapsed": false
   },
   "outputs": [],
   "source": [
    "my_ring_in_container_1.Layout().visualize()"
   ]
  },
  {
   "cell_type": "markdown",
   "metadata": {},
   "source": [
    "Nothing special: It looks just like the ring resonator we expect. The advantage of containers is that they are PCells as well, so they can be embedded in another container:"
   ]
  },
  {
   "cell_type": "code",
   "execution_count": null,
   "metadata": {
    "collapsed": false
   },
   "outputs": [],
   "source": [
    "my_ring_in_container_2 = _Container(contents = my_ring_in_container_1)\n",
    "layout = my_ring_in_container_2.Layout(contents_transformation=i3.Rotation(rotation=30))\n",
    "\n",
    "layout.visualize()"
   ]
  },
  {
   "cell_type": "markdown",
   "metadata": {},
   "source": [
    "We have also applied a transformation to the placement of the original PCell.\n",
    "\n",
    "We can see that the container referenced the other container if we look at the contents:"
   ]
  },
  {
   "cell_type": "code",
   "execution_count": null,
   "metadata": {
    "collapsed": false
   },
   "outputs": [],
   "source": [
    "my_ring_in_container_1.contents"
   ]
  },
  {
   "cell_type": "markdown",
   "metadata": {},
   "source": [
    "The Netlist has a similar behaviour. It routes the terms of the contents to the outside terms of the container. "
   ]
  },
  {
   "cell_type": "code",
   "execution_count": null,
   "metadata": {
    "collapsed": false
   },
   "outputs": [],
   "source": [
    "print my_ring.Netlist().terms\n",
    "print my_ring_in_container_1.Netlist().terms"
   ]
  },
  {
   "cell_type": "markdown",
   "metadata": {},
   "source": [
    "## 2. AutoTransitionPorts"
   ]
  },
  {
   "cell_type": "markdown",
   "metadata": {},
   "source": [
    "In some components, there is need for a mode conversion between the original component and the routing waveguides.The  **AutoTransitionPorts** class can help with that. IPKISS has an automatic taper-selection mechanism. Based on a lookup table, it can choose the best taper for each port. \n",
    "\n",
    "First, let's define the Waveguide template that we want to couple to:"
   ]
  },
  {
   "cell_type": "code",
   "execution_count": null,
   "metadata": {
    "collapsed": false
   },
   "outputs": [],
   "source": [
    "from picazzo3.container.transition_ports import AutoTransitionPorts\n",
    "from picazzo3.traces.wire_wg import WireWaveguideTemplate\n",
    "wire_t = WireWaveguideTemplate()\n",
    "wire_t.Layout(core_width=1.0, cladding_width=0.6 + 2 * 2.0)"
   ]
  },
  {
   "cell_type": "markdown",
   "metadata": {},
   "source": [
    "Now we can transition the ring. The property ``transition_length`` sets the length of the transition used in the taper."
   ]
  },
  {
   "cell_type": "code",
   "execution_count": null,
   "metadata": {
    "collapsed": false
   },
   "outputs": [],
   "source": [
    "my_ring_tapered_auto = AutoTransitionPorts(contents = my_ring,\n",
    "                                           trace_template = wire_t)\n",
    "my_ring_tapered_auto_layout = my_ring_tapered_auto.Layout(transition_length=20.0)\n",
    "my_ring_tapered_auto_layout.visualize()"
   ]
  },
  {
   "cell_type": "markdown",
   "metadata": {},
   "source": [
    "We can even use AutoTaperedPorts twice. For instance to a slot waveguide:"
   ]
  },
  {
   "cell_type": "code",
   "execution_count": null,
   "metadata": {
    "collapsed": false
   },
   "outputs": [],
   "source": [
    "from picazzo3.traces.slot_wg.trace import SlotWaveguideTemplate\n",
    "wg_slotted = SlotWaveguideTemplate(name=\"my_slot_wg_template1\")\n",
    "wg_slotted.Layout(core_width=0.5,\n",
    "            slot_width=0.12,\n",
    "            cladding_width=2 * 3.0 + 0.5)"
   ]
  },
  {
   "cell_type": "code",
   "execution_count": null,
   "metadata": {
    "collapsed": false
   },
   "outputs": [],
   "source": [
    "my_ring_tapered2 = AutoTransitionPorts(contents = my_ring_tapered_auto,\n",
    "                                      \n",
    "                                      trace_template = wg_slotted)\n",
    "\n",
    "my_ring_tapered2.Layout().visualize()"
   ]
  },
  {
   "cell_type": "markdown",
   "metadata": {},
   "source": [
    "## 3. TerminatePorts"
   ]
  },
  {
   "cell_type": "markdown",
   "metadata": {},
   "source": [
    "A common function with ring resonators like the one used here is that they are used as drop filters. This means one of the ports is not used. Therefore, it makes good sense to suppress this port. This can be done with the **TerminatePorts** container."
   ]
  },
  {
   "cell_type": "code",
   "execution_count": null,
   "metadata": {
    "collapsed": false
   },
   "outputs": [],
   "source": [
    "from picazzo3.container.terminate_ports import TerminatePorts\n",
    "my_ring_terminated = TerminatePorts(contents = my_ring,\n",
    "                                    port_labels = [\"out1\", \"in1\"])\n",
    "layout = my_ring_terminated.Layout()\n",
    "layout.visualize()"
   ]
  },
  {
   "cell_type": "markdown",
   "metadata": {},
   "source": [
    "It doesn't look any different at the layout level, because it is only a logical operation.\n",
    "\n",
    "Note the use of **port_labels** at the pcell level while the ports are defined at the layout level and terms are defined at the netlist level. TerminatePorts will be smart enough and terminate those ports on all levels **as long as they have the same name on all the views**.\n"
   ]
  },
  {
   "cell_type": "code",
   "execution_count": null,
   "metadata": {
    "collapsed": false
   },
   "outputs": [],
   "source": [
    "print [port.name for port in layout.ports]\n",
    "netlist = my_ring_terminated.Netlist()\n",
    "print netlist.terms"
   ]
  },
  {
   "cell_type": "markdown",
   "metadata": {},
   "source": [
    "What TerminatePorts actually does is connect a `PerfectTermination` PCell to the port. This is only a logical cell, and on the circuit level it behaves as a perfect absorber. However, this is not always the case in real life: Because an abrupt termination of a port (on the layout) can cause unwanted reflections, it is often good to have a physical termination in the form of a taper or an absorbing element. So instead of `PerfectTermination`, TerminatePorts can add your own termination PCell to any port that is terminated. In the example below, we make a broad taper to act as a stub on the terminated port."
   ]
  },
  {
   "cell_type": "code",
   "execution_count": null,
   "metadata": {
    "collapsed": false
   },
   "outputs": [],
   "source": [
    "from picazzo3.apertures.basic import WireWgAperture\n",
    "wire_t = WireWaveguideTemplate()\n",
    "wire_t.Layout(core_width=2.0, cladding_width=6.0)\n",
    "my_termination = WireWgAperture(name=\"my_termination\", aperture_trace_template=wire_t)\n",
    "layout = my_termination.Layout(transition_length=4.0)\n",
    "\n",
    "layout.visualize()\n"
   ]
  },
  {
   "cell_type": "markdown",
   "metadata": {},
   "source": [
    "This looks like a linear taper with somewhat angled ends. These are to avoid sharp angles in your layout that could cause errors in an automated design rule check (DRC).\n",
    "\n",
    "Now let's add the termination taper to our ring:"
   ]
  },
  {
   "cell_type": "code",
   "execution_count": null,
   "metadata": {
    "collapsed": false
   },
   "outputs": [],
   "source": [
    "my_ring_terminated = TerminatePorts(contents=my_ring, port_labels=[\"out2\",'out1'], termination=my_termination)\n",
    "my_ring_terminated_layout = my_ring_terminated.Layout()\n",
    "my_ring_terminated_layout.visualize()"
   ]
  },
  {
   "cell_type": "markdown",
   "metadata": {},
   "source": [
    "We can see that termination also in our simulation.\n",
    "\n",
    "In order to do a proper simulation from our terminated ring, we have to set the sensisble Caphe model parameters for all the parts. These are: \n",
    "* The directional coupler in the ring\n",
    "* The termination stub. "
   ]
  },
  {
   "cell_type": "code",
   "execution_count": null,
   "metadata": {
    "collapsed": false
   },
   "outputs": [],
   "source": [
    "# coupler parameters\n",
    "cp = dict(cross_coupling1=1j*0.2**0.5,                       # The coupling from bus to ring and back\n",
    "          straight_coupling1=(1 - 0.2)**0.5       # Coupling in the straight section\n",
    "          )\n",
    "# ring_params\n",
    "my_ring_cm = my_ring.CircuitModel(ring_length=10.0,             # we can manually specify the ring length\n",
    "                                coupler_parameters=[cp, cp])  # 2 couplers"
   ]
  },
  {
   "cell_type": "code",
   "execution_count": null,
   "metadata": {
    "collapsed": false
   },
   "outputs": [],
   "source": [
    "# my_termination\n",
    "cm_termination = my_termination.CircuitModel(reflection=0.5**0.5)"
   ]
  },
  {
   "cell_type": "markdown",
   "metadata": {},
   "source": [
    "Because we introduce a quite strong reflection in the termination, we expect to see peak splitting in our ring resonator:"
   ]
  },
  {
   "cell_type": "code",
   "execution_count": null,
   "metadata": {
    "collapsed": false
   },
   "outputs": [],
   "source": [
    "wavelengths=np.arange(1.5, 1.6, 0.00001)\n",
    "cm_terminated_ring = my_ring_terminated.CircuitModel()\n",
    "smatrix = cm_terminated_ring.get_smatrix(wavelengths=wavelengths)\n",
    "plt.plot(wavelengths, np.abs(smatrix['in1', 'in2'])**2, label='through')\n",
    "plt.plot(wavelengths, np.abs(smatrix['in1', 'in1'])**2, label='reflection')\n",
    "plt.legend()"
   ]
  },
  {
   "cell_type": "markdown",
   "metadata": {},
   "source": [
    "------------"
   ]
  },
  {
   "cell_type": "markdown",
   "metadata": {},
   "source": [
    "## 4. ExtendPorts"
   ]
  },
  {
   "cell_type": "markdown",
   "metadata": {},
   "source": [
    "**ExtendPorts** adds a waveguide with a certain length to the selected ports of a component. It will use the trace templates of the ports of contents (that he finds in the layout view). If you set the ports_labels to None. ExtendPorts will use all the ports in the layoutview."
   ]
  },
  {
   "cell_type": "code",
   "execution_count": null,
   "metadata": {
    "collapsed": false
   },
   "outputs": [],
   "source": [
    "from picazzo3.container.extend_ports import ExtendPorts\n",
    "my_ring_extended = ExtendPorts(contents = my_ring,\n",
    "                               port_labels = None)\n",
    "\n",
    "layout = my_ring_extended.Layout(extension_length=10.0)\n",
    "                        \n",
    "layout.visualize()"
   ]
  },
  {
   "cell_type": "markdown",
   "metadata": {},
   "source": [
    "Of course you can also use the property port_labels to explicitly set the port labels you want to see extended. If you set the property \n",
    "area_layer_on=True in the Layoutview the outputwaveguides will be bundeled and will share a coverlayer."
   ]
  },
  {
   "cell_type": "code",
   "execution_count": null,
   "metadata": {
    "collapsed": false
   },
   "outputs": [],
   "source": [
    "my_ring_extended = ExtendPorts(contents = my_ring,\n",
    "                               port_labels = [\"in1\",\"out2\"])\n",
    "\n",
    "layout = my_ring_extended.Layout(extension_length=10.0,\n",
    "                                 area_layer_on=True)\n",
    "                        \n",
    "layout.visualize()"
   ]
  },
  {
   "cell_type": "markdown",
   "metadata": {},
   "source": [
    "---------"
   ]
  },
  {
   "cell_type": "markdown",
   "metadata": {},
   "source": [
    "## 5. FanoutPorts"
   ]
  },
  {
   "cell_type": "markdown",
   "metadata": {},
   "source": [
    "Often it is desirable to have all ports of a component (on one side) nicely aligned in a periodic array. This can be done with **FanoutPorts**."
   ]
  },
  {
   "cell_type": "markdown",
   "metadata": {},
   "source": [
    "Lets start simple. Here we just use a FanOut to the EAST on two ports \"out1\" and \"in2\". Just as in extend ports the property ``area_layer_on`` will add cover layer to all waveguides. "
   ]
  },
  {
   "cell_type": "code",
   "execution_count": null,
   "metadata": {
    "collapsed": false
   },
   "outputs": [],
   "source": [
    "from picazzo3.container.fanout_ports import FanoutPorts\n",
    "\n",
    "my_ring = RingRect180DropFilter()\n",
    "my_ring.Layout()\n",
    "\n",
    "from picazzo3.container.fanout_ports import FanoutPorts\n",
    "\n",
    "my_ring_fanout = FanoutPorts(contents=my_ring,\n",
    "                             port_labels=[\"out1\",\"in2\"])\n",
    "\n",
    "lay = my_ring_fanout.Layout(output_direction=i3.EAST,\n",
    "                            area_layer_on = True)                \n",
    "lay.visualize()"
   ]
  },
  {
   "cell_type": "markdown",
   "metadata": {},
   "source": [
    "If you want you can also explicitly determine the trace template to which the ports are going to be fanned out. Using the property ``auto_transition`` you can make sure that tapers are automatically addded. "
   ]
  },
  {
   "cell_type": "code",
   "execution_count": null,
   "metadata": {
    "collapsed": false
   },
   "outputs": [],
   "source": [
    "from picazzo3.container.fanout_ports import FanoutPorts\n",
    "\n",
    "my_ring = RingRect180DropFilter()\n",
    "my_ring.Layout()\n",
    "\n",
    "from picazzo3.container.fanout_ports import FanoutPorts\n",
    "\n",
    "my_ring_fanout = FanoutPorts(contents=my_ring,\n",
    "                             port_labels=[\"out1\",\"in2\"],\n",
    "                             trace_template=wire_t,\n",
    "                             auto_transition=True)\n",
    "\n",
    "lay = my_ring_fanout.Layout(output_direction=i3.EAST,\n",
    "                            area_layer_on = False)                \n",
    "lay.visualize()"
   ]
  },
  {
   "cell_type": "markdown",
   "metadata": {},
   "source": [
    "Similarly we can FanOut the ports \"out2\" and \"in2\" to the NORTH direction."
   ]
  },
  {
   "cell_type": "code",
   "execution_count": null,
   "metadata": {
    "collapsed": false
   },
   "outputs": [],
   "source": [
    "from picazzo3.container.fanout_ports import FanoutPorts\n",
    "\n",
    "my_ring = RingRect180DropFilter()\n",
    "my_ring.Layout()\n",
    "\n",
    "from picazzo3.container.fanout_ports import FanoutPorts\n",
    "\n",
    "my_ring_fanout = FanoutPorts(contents=my_ring,\n",
    "                             port_labels=[\"out2\",\"in2\"]\n",
    "                             )\n",
    "\n",
    "lay = my_ring_fanout.Layout(output_direction=i3.NORTH,\n",
    "                            area_layer_on=False)\n",
    "\n",
    "lay.visualize()"
   ]
  },
  {
   "cell_type": "markdown",
   "metadata": {},
   "source": [
    "With the default settings above, the waveguides will be spaced 25um apart. However, a lot of settings can be customized.  The parameters can be best understood from the following figure:\n",
    "\n",
    "![Parameters for FanoutPorts](_images/containers_fanout.png)"
   ]
  },
  {
   "cell_type": "markdown",
   "metadata": {},
   "source": [
    "With the interact below you can play with them all. You can also play with the rotation of the ring."
   ]
  },
  {
   "cell_type": "code",
   "execution_count": null,
   "metadata": {
    "collapsed": false
   },
   "outputs": [],
   "source": [
    "def make_fanout(spacing=20.0, reference_coordinate=-12.5, target_coordinate=20.0, max_s_bend_angle=45.0,bend_radius=4.5,rotation_ring=10):\n",
    "    my_ring_fanout = FanoutPorts(contents=my_ring,\n",
    "                                 port_labels=[\"out1\",\"in2\"]\n",
    "                                 )\n",
    "\n",
    "    lay = my_ring_fanout.Layout(contents_transformation=i3.Rotation(rotation = rotation_ring),#Content transformation.\n",
    "                                area_layer_on=False,         # if True, adds area layer on the bundle\n",
    "                                output_direction=i3.EAST,    # Output direction. \n",
    "                                spacing=spacing,            # spacing between outputs\n",
    "                                reference_coordinate=reference_coordinate,  # y-coordinate (or x for NORTH and SOUTH) of first waveguide\n",
    "                                target_coordinate=target_coordinate,      # x-coordinate (or y for NORTH and SOUTH) of output port\n",
    "                                max_s_bend_angle=max_s_bend_angle,       # maximum angle of S-bend\n",
    "                                bend_radius=bend_radius              # bend radius of waveguides\n",
    "                                )                \n",
    "    lay.visualize()\n",
    "    \n",
    "\n",
    "from IPython.html.widgets import interact \n",
    "interact(make_fanout,\n",
    "         spacing=(10,100,5),\n",
    "         reference_coordinate=(-50,50,1), \n",
    "         target_coordinate=(10,100, 1), \n",
    "         max_s_bend_angle=(1,90,0.2),\n",
    "         bend_radius=(1,10,0.1),\n",
    "         rotation_ring=(-180,180,1))"
   ]
  },
  {
   "cell_type": "markdown",
   "metadata": {},
   "source": [
    "## 6. RoutePortsAroundCorner\n",
    "\n",
    "A more complicated routing problem occurs when multiple ports have to be routed from one side of a component to the other. **RoutePortsAroundCorner** is designed to combine the outputs into a bundle of waveguides and route that around a corner.\n"
   ]
  },
  {
   "cell_type": "code",
   "execution_count": null,
   "metadata": {
    "collapsed": false
   },
   "outputs": [],
   "source": [
    "from picazzo3.filters.ring import RingRect180DropFilter\n",
    "my_ring = RingRect180DropFilter()\n",
    "from picazzo3.container.route_ports import RoutePortsAroundCorner\n",
    "my_ring_routed = RoutePortsAroundCorner(contents=my_ring,\n",
    "                                        port_labels=[\"W1\", \"W0\"])  # ports to be routed\n",
    "\n",
    "layout = my_ring_routed.Layout(first_step_direction=i3.DIRECTION.SOUTH,  # when rounding corner, go this direction first\n",
    "                               output_direction=i3.DIRECTION.EAST,       # final output direction\n",
    "                               target_coordinate=40.0, # x-coordinate where the routes align\n",
    "                               first_step_spacing=8.0)      # Spacing between the waveguides.\n",
    "layout.visualize()"
   ]
  },
  {
   "cell_type": "markdown",
   "metadata": {},
   "source": [
    "In the example above we only routed the two west ports to the east. Let's try to route one of the east ports as well. We'll also set the **area_layer_on** parameter to False."
   ]
  },
  {
   "cell_type": "code",
   "execution_count": null,
   "metadata": {
    "collapsed": false
   },
   "outputs": [],
   "source": [
    "my_ring = RingRect180DropFilter()\n",
    "my_ring_routed = RoutePortsAroundCorner(contents=my_ring,\n",
    "                                        port_labels=[\"W1\", \"W0\", \"E0\"])  # ports to be routed\n",
    "\n",
    "layout = my_ring_routed.Layout(first_step_direction=i3.DIRECTION.SOUTH,  # when rounding corner, go this direction first\n",
    "                               output_direction=i3.DIRECTION.EAST,       # final output direction\n",
    "                               area_layer_on=False,\n",
    "                               target_coordinate=40.0, # x-coordinate where the routes align\n",
    "                               first_step_spacing=8.0)      # Spacing between the waveguides.\n",
    "layout.visualize()"
   ]
  },
  {
   "cell_type": "markdown",
   "metadata": {},
   "source": [
    "We see 2 crossing waveguides, that's clearly not something we want. It's important to know that the order of the routes is taken from the order of the specified port_labels. In this case we want the east port to come first, so let's change this."
   ]
  },
  {
   "cell_type": "code",
   "execution_count": null,
   "metadata": {
    "collapsed": false
   },
   "outputs": [],
   "source": [
    "my_ring = RingRect180DropFilter()\n",
    "my_ring_routed = RoutePortsAroundCorner(contents=my_ring,\n",
    "                                        port_labels=[\"E0\", \"W1\", \"W0\"])  # ports to be routed\n",
    "\n",
    "layout = my_ring_routed.Layout(first_step_direction=i3.DIRECTION.SOUTH,  # when rounding corner, go this direction first\n",
    "                               output_direction=i3.DIRECTION.EAST,       # final output direction\n",
    "                               area_layer_on=False,\n",
    "                               target_coordinate=40.0, # x-coordinate where the routes align\n",
    "                               first_step_spacing=8.0)      # Spacing between the waveguides.\n",
    "layout.visualize()"
   ]
  },
  {
   "cell_type": "markdown",
   "metadata": {},
   "source": [
    "As is the case with the other containers, **RoutePortsAroundCorner** supports Autotransitions to transition from one waveguide to another. Let's say we would want to use wider waveguides for our routes:"
   ]
  },
  {
   "cell_type": "code",
   "execution_count": null,
   "metadata": {
    "collapsed": false
   },
   "outputs": [],
   "source": [
    "from picazzo3.traces.wire_wg import WireWaveguideTemplate\n",
    "my_ring = RingRect180DropFilter()\n",
    "wtpl = WireWaveguideTemplate()\n",
    "wtpl_layout = wtpl.Layout(core_width=.7)\n",
    "\n",
    "my_ring_routed = RoutePortsAroundCorner(trace_template=wtpl,                                 \n",
    "                                        contents=my_ring,\n",
    "                                        port_labels=[\"E0\", \"W1\"])\n",
    "\n",
    "layout = my_ring_routed.Layout(first_step_direction=i3.DIRECTION.SOUTH,  # when rounding corner, go this direction first\n",
    "                               output_direction=i3.DIRECTION.EAST,       # final output direction\n",
    "                               reference_coordinate_first_step=-20.0,\n",
    "                               target_coordinate=40.0,\n",
    "                               area_layer_on=False,\n",
    "                               first_step_spacing=8.0)      # Spacing between the waveguides.\n",
    "layout.visualize()"
   ]
  },
  {
   "cell_type": "markdown",
   "metadata": {},
   "source": [
    "We clearly see that the container automatically added the right transitions, all we had to do was specify which trace_template our container needs to use"
   ]
  },
  {
   "cell_type": "markdown",
   "metadata": {
    "collapsed": true
   },
   "source": [
    "## 7. RoutePortsEastWest\n",
    "\n",
    "A common scenario for circuits, especially when designing component test suites, is to have inputs on one side, and outputs on the other. **RoutePortsEastWest** performs this fuction in a single container, while otherwise two cascaded containers would have been necessary.\n",
    "\n",
    "For example, if we want a single input in the ring, while all other ports act as output, we could use the following container:"
   ]
  },
  {
   "cell_type": "code",
   "execution_count": null,
   "metadata": {
    "collapsed": false
   },
   "outputs": [],
   "source": [
    "from picazzo3.filters.ring import RingRect180DropFilter\n",
    "from picazzo3.container.route_ports import RoutePortsEastWest\n",
    "\n",
    "my_ring = RingRect180DropFilter()\n",
    "\n",
    "my_ring_ew = RoutePortsEastWest(contents=my_ring,\n",
    "                                east_port_labels=[\"E0\", \"E1\", \"W1\"],   # ports to be routed eastwards\n",
    "                                west_port_labels=[\"W0\"])             # ports to be routed westward\n",
    "layout = my_ring_ew.Layout()\n",
    "layout.visualize()"
   ]
  },
  {
   "cell_type": "markdown",
   "metadata": {},
   "source": [
    "The east & west ports are calculated from the transformed content. It's important to remember that east ports are all ports that have an angle between -45 and 45 degrees. Likewise west ports are ports with an angle between 135 and 225 degrees. This is illustrated with following interactive example:"
   ]
  },
  {
   "cell_type": "code",
   "execution_count": null,
   "metadata": {
    "collapsed": false
   },
   "outputs": [],
   "source": [
    "def make_routed_ring(rotation=0.0):\n",
    "    my_ring = RingRect180DropFilter()\n",
    "    my_ring_ew = RoutePortsEastWest(contents=my_ring)             # ports to be routed westward\n",
    "    layout = my_ring_ew.Layout(contents_transformation=i3.Rotation(rotation=rotation),\n",
    "                               area_layer_on=False)\n",
    "\n",
    "    return layout.visualize()"
   ]
  },
  {
   "cell_type": "code",
   "execution_count": null,
   "metadata": {
    "collapsed": false
   },
   "outputs": [],
   "source": [
    "from IPython.html.widgets import interact \n",
    "interact(make_routed_ring,\n",
    "         rotation=(0.0, 360.0, 5.0))\n",
    "         "
   ]
  },
  {
   "cell_type": "markdown",
   "metadata": {},
   "source": [
    "You'll notice that when you choose an angle that is in between 45 and 135 degrees, you don't see any routes. This happens because there are no 'east' or 'west' ports anymore, so the container doesn't know which ports it needs to route. "
   ]
  },
  {
   "cell_type": "markdown",
   "metadata": {},
   "source": [
    "Just like RoutePortsAroundCorner, RoutePortsEastWest supports auto transitions to make transitions from 1 waveguide type to another."
   ]
  },
  {
   "cell_type": "code",
   "execution_count": null,
   "metadata": {
    "collapsed": false
   },
   "outputs": [],
   "source": [
    "from picazzo3.traces.wire_wg import WireWaveguideTemplate\n",
    "wtpl = WireWaveguideTemplate()\n",
    "wtpl_layout = wtpl.Layout(core_width=.7)\n",
    "my_ring = RingRect180DropFilter()\n",
    "my_ring_routed = RoutePortsEastWest(trace_template=wtpl,                                 \n",
    "                                    contents=my_ring)\n",
    "\n",
    "layout = my_ring_routed.Layout(area_layer_on=False)\n",
    "layout.visualize()"
   ]
  }
 ],
 "metadata": {
  "kernelspec": {
   "display_name": "Python 2",
   "language": "python",
   "name": "python2"
  },
  "language_info": {
   "codemirror_mode": {
    "name": "ipython",
    "version": 2
   },
   "file_extension": ".py",
   "mimetype": "text/x-python",
   "name": "python",
   "nbconvert_exporter": "python",
   "pygments_lexer": "ipython2",
   "version": "2.7.15"
  }
 },
 "nbformat": 4,
 "nbformat_minor": 0
}
