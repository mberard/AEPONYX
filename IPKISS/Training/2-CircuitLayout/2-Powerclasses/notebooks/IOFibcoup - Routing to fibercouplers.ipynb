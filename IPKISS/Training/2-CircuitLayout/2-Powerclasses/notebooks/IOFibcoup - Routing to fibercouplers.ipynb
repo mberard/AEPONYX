{
 "cells": [
  {
   "cell_type": "markdown",
   "metadata": {},
   "source": [
    "# Introduction"
   ]
  },
  {
   "cell_type": "markdown",
   "metadata": {},
   "source": [
    "Connecting your components and circuits to the outside world is one of the most recurring tasks in integrated photonics design. Often fiber grating couplers (or edge couples) are used for that purpose. \n",
    "\n",
    "Whether you are planning to measure your chip on the optical table or whether you are using standard packaging techniques, it is generally a good practice to neatly place those fiber couplers along a cardinal axis of your chip with a regular distance between them.\n",
    "\n",
    "Typically, the ports of your circuit won't be as regular. Connecting the irregularly spaced ports of your circuit to the outside world can be a tedious task. \n",
    "\n",
    "**With IOFibcouplers this task highly automatized while leaving a large number of degrees of freedom to tweak your connections to the outside world to match your needs.**\n",
    "\n",
    "Let's get started with the simplest minimal example connecting an MMI to the outside world. First we create the MMI."
   ]
  },
  {
   "cell_type": "code",
   "execution_count": null,
   "metadata": {
    "collapsed": false
   },
   "outputs": [],
   "source": [
    "%matplotlib inline\n",
    "import pylab"
   ]
  },
  {
   "cell_type": "code",
   "execution_count": null,
   "metadata": {
    "collapsed": false
   },
   "outputs": [],
   "source": [
    "pylab.rcParams['figure.figsize'] = (15, 7)\n",
    "from technologies.silicon_photonics import TECH\n",
    "from ipkiss3 import all as i3\n",
    "\n",
    "from picazzo3.filters.mmi import  MMI1x2Tapered\n",
    "from picazzo3.traces.wire_wg import WireWaveguideTemplate\n",
    "\n",
    "# MMI\n",
    "wg_t1 = WireWaveguideTemplate()\n",
    "wg_t1.Layout(core_width=7.0, cladding_width=8.0)\n",
    "# input and output traces of the MMI\n",
    "wg_t2 = WireWaveguideTemplate()\n",
    "wg_t2.Layout(core_width=0.6)\n",
    "\n",
    "my_mmi_1x2 = MMI1x2Tapered(mmi_trace_template=wg_t1,\n",
    "                          input_trace_template=wg_t2,\n",
    "                          output_trace_template=wg_t2)\n",
    "\n",
    "layout=my_mmi_1x2.Layout(length=10.0)\n",
    "layout.visualize()     "
   ]
  },
  {
   "cell_type": "markdown",
   "metadata": {},
   "source": [
    "We now connect it to the outside world using IoFibCoup: "
   ]
  },
  {
   "cell_type": "code",
   "execution_count": null,
   "metadata": {
    "collapsed": false
   },
   "outputs": [],
   "source": [
    "from picazzo3.container.iofibcoup.cell import IoFibcoup\n",
    "\n",
    "iofb = IoFibcoup(contents=my_mmi_1x2) \n",
    "iofb_layout = iofb.Layout() \n",
    "\n",
    "iofb_layout.visualize()\n",
    "iofb_layout.write_gdsii(\"iofibcoup_simple1.gds\")"
   ]
  },
  {
   "cell_type": "markdown",
   "metadata": {},
   "source": [
    "You can see that 3 fiber grating couplers have been created. The the southmost fibercoupler on the west side is placed in the origin and the southmost fibercoupler on the east side is placed in south_east a property of the layoutview. Of course there are many other properties that control many aspects how the fiber couplers are placed. Depending on the desired level of control, specific fibercoupler classes should be used:\n",
    "\n",
    "\n",
    "* **``IoFibcoup``** is the simplest one, using the same grating coupler for all ports, and uniform settings for routing the ports.\n",
    "* **``IoFibcoupEastWest``** offers the possibility to differentiate the East and West settings, so you can for instance use a different \n",
    "grating coupler on both sides\n",
    "* **``IoFibcoupGeneric``** allows you to customize every individual grating coupler, its transformation, and the trace template for the \n",
    "routes used to connect the component to the grating.\n",
    "\n",
    "In what follows we will introduce those three classes - starting with the simplest one : IoFibcoup "
   ]
  },
  {
   "cell_type": "markdown",
   "metadata": {},
   "source": [
    "## IoFibcoup"
   ]
  },
  {
   "cell_type": "markdown",
   "metadata": {},
   "source": [
    "**IOFibcoup** is the most general IO-Fibercoupler and best used when the properties specifying the connection to the ouside world are \n",
    "**uniform** among all ports. \n",
    "\n",
    "Each connection built from several parts. \n",
    "\n",
    "* A **Component section**: Place where the circuit that has to be connected to the ouside world is placed. If needed tapers added to fit the  trace template used in the Fanout section.\n",
    "* **A Fanout section**: On the east and west side of your component the ports are fanned out to a pitch set by ``y_spacing``.\n",
    "* A **Connect section**: After the Fanout a straight waveguides are used to reach the fiber grating couplers. \n",
    "* A **Grating Coupler section**: There the grating couplers are placed also with a pitch of ``y_spacing``.\n",
    "\n",
    "![IOFibCoup](_images/IOFibCoupZones.png)"
   ]
  },
  {
   "cell_type": "markdown",
   "metadata": {},
   "source": [
    "Let's give it a try. You can also control the ``y_spacing`` and ``contents_transformation`` to apply a transformation to the contents just as is the case with any container. To have lower losses in the connect section we use a trace template with a wider core."
   ]
  },
  {
   "cell_type": "code",
   "execution_count": null,
   "metadata": {
    "collapsed": false
   },
   "outputs": [],
   "source": [
    "# connect_template: wider to reduce losses\n",
    "wgc_t = WireWaveguideTemplate()\n",
    "wgc_t.Layout(core_width=2.0)\n",
    "\n",
    "iofb = IoFibcoup(contents=my_mmi_1x2, connect_trace_template=wgc_t) \n",
    "iofb_layout = iofb.Layout(y_spacing = 70,\n",
    "                          contents_transformation=i3.Rotation(rotation=-20)) \n",
    "iofb_layout.visualize()\n",
    "iofb_layout.write_gdsii(\"iofibcoup_simple2.gds\")"
   ]
  },
  {
   "cell_type": "markdown",
   "metadata": {},
   "source": [
    "Of course there are may other parameters you can control on the layout level. Most of the parameters deal with the length of each section and the length of the transitions between sections. The figure below illustrate those parameters.\n",
    "\n",
    "![IOFibCoup](_images/IOFibCoup.png)\n",
    "\n",
    "With the interact below you can play with some of them."
   ]
  },
  {
   "cell_type": "code",
   "execution_count": null,
   "metadata": {
    "collapsed": false
   },
   "outputs": [],
   "source": [
    "def create_fibIO(rotation=10.0,\n",
    "                 y_spacing=50.0,\n",
    "                 south_east_x=500.0,\n",
    "                 absolute_offset_x=0.0,\n",
    "                 absolute_offset_y=0.0, \n",
    "                 fanout_length = 100,                                                                  \n",
    "                 connect_transition_length=20.0 ,                       \n",
    "                 fiber_coupler_transition_length=30.0):\n",
    "    \n",
    "    iofb = IoFibcoup(contents=my_mmi_1x2,\n",
    "                     connect_trace_template=wgc_t)\n",
    "\n",
    "\n",
    "    iofb_layout = iofb.Layout(contents_transformation=i3.Rotation(rotation=rotation),  # rotate the contents\n",
    "                              y_spacing = y_spacing,                                   # y_spacing between the ports. \n",
    "                              south_west=(0.0, 0.0),                                   # south west corner of the adapter\n",
    "                              south_east=(south_east_x, 0.0),                          # south east corner of the adapter\n",
    "                              absolute_offset=(absolute_offset_x, absolute_offset_y),                    # offset of component from the center\n",
    "                              fanout_length = fanout_length,                           # Length of the fanout                               \n",
    "                              connect_transition_length=connect_transition_length,     # transition length\n",
    "                              fiber_coupler_transition_length=fiber_coupler_transition_length,# transition length between connection WG and the fiber coupler\n",
    "                              bend_radius = 10.0                                       # bend radius used in all bends.  \n",
    "                              )\n",
    "    \n",
    "    iofb_layout.visualize()\n",
    "\n",
    "    \n",
    "from IPython.html.widgets import interact \n",
    "interact(create_fibIO,\n",
    "         rotation=(-44,44,1),\n",
    "         y_spacing=(20,150,10),\n",
    "         south_east_x= (200,2000,100),\n",
    "         absolute_offset_x=(-100,100,10),\n",
    "         absolute_offset_y=(-100,100,10), \n",
    "         fanout_length = (20,500,50),                                                                  \n",
    "         connect_transition_length=(10,100.0,10),                       \n",
    "         fiber_coupler_transition_length=(10,100.0,10))"
   ]
  },
  {
   "cell_type": "markdown",
   "metadata": {},
   "source": [
    "<h4>Positioning of the contents</h4>"
   ]
  },
  {
   "cell_type": "markdown",
   "metadata": {},
   "source": [
    "As shown above, using the ``absolute_offset`` parameter, the offset of the component from the (0,0) of the IoFibcoup cell can be specified. \n",
    "\n",
    "if you do not specify this offset (or specify None), an offset will be calculated such that the west and east ports of the contents are X-aligned around the center of the IoFibcoup, and the southmost West port of the contents will be aligned to the southwest. A relative offset which will be added to this absolute_offset can be specified using the ``relative_offset`` parameter."
   ]
  },
  {
   "cell_type": "markdown",
   "metadata": {},
   "source": [
    "<img src=\"_images/IOFibCoupRelative.png\" width=1000 >"
   ]
  },
  {
   "cell_type": "markdown",
   "metadata": {},
   "source": [
    "With default position:"
   ]
  },
  {
   "cell_type": "code",
   "execution_count": null,
   "metadata": {
    "collapsed": false
   },
   "outputs": [],
   "source": [
    "iofb = IoFibcoup(contents=my_mmi_1x2,\n",
    "                 connect_trace_template=wgc_t)\n",
    "\n",
    "\n",
    "iofb_layout = iofb.Layout(y_spacing = 50.0     ,                               # y_spacing between the ports. \n",
    "                          south_west=(0.0, 0.0),                               # south west corner of the adapter\n",
    "                          south_east=(500, 0.0),                               # south east corner of the adapter\n",
    "                          fanout_length = 100.0,                               # Length of the fanout                               \n",
    "                          connect_transition_length=20.0,                      # transition length\n",
    "                          fiber_coupler_transition_length=30.0,                # transition length between connection WG and the fiber coupler\n",
    "                          bend_radius = 10.0                                   # bend radius used in all bends.  \n",
    "                          )\n",
    "    \n",
    "iofb_layout.visualize()"
   ]
  },
  {
   "cell_type": "markdown",
   "metadata": {},
   "source": [
    "With ``relative_offset``:"
   ]
  },
  {
   "cell_type": "code",
   "execution_count": null,
   "metadata": {
    "collapsed": false
   },
   "outputs": [],
   "source": [
    "iofb = IoFibcoup(contents=my_mmi_1x2,\n",
    "                 connect_trace_template=wgc_t)\n",
    "\n",
    "\n",
    "iofb_layout = iofb.Layout(y_spacing = 50.0     ,                               # y_spacing between the ports. \n",
    "                          south_west=(0.0, 0.0),                               # south west corner of the adapter\n",
    "                          south_east=(500, 0.0),                               # south east corner of the adapter\n",
    "                          fanout_length = 100.0,                               # Length of the fanout                               \n",
    "                          connect_transition_length=20.0,                      # transition length\n",
    "                          fiber_coupler_transition_length=30.0,                # transition length between connection WG and the fiber coupler\n",
    "                          bend_radius = 10.0,                                   # bend radius used in all bends.  \n",
    "                          relative_offset = (-50.0, 30.0)                     # relative position\n",
    "                          )\n",
    "    \n",
    "iofb_layout.visualize()"
   ]
  },
  {
   "cell_type": "markdown",
   "metadata": {},
   "source": [
    "<h4> Modifying grating couplers and trace templates </h4>"
   ]
  },
  {
   "cell_type": "markdown",
   "metadata": {},
   "source": [
    "Of course you can also modify the grating couplers and other trace templates used in the IOFibCoup class."
   ]
  },
  {
   "cell_type": "code",
   "execution_count": null,
   "metadata": {
    "collapsed": false
   },
   "outputs": [],
   "source": [
    "# normal waveguide template: single mode\n",
    "wg_t = WireWaveguideTemplate()\n",
    "wg_t.Layout(core_width=1.0)\n",
    "\n",
    "# connect_template: wider to reduce losses\n",
    "wgc_t = WireWaveguideTemplate()\n",
    "wgc_t.Layout(core_width=2.0)\n",
    "\n",
    "\n",
    "iofb = IoFibcoup(contents=my_mmi_1x2,\n",
    "                 trace_template = wg_t, #Default trace template when none are specified.\n",
    "                 connect_trace_template=wgc_t, #Trace template for the connect section\n",
    "                 fiber_coupler=i3.TECH.IO.FIBCOUP.CURVED.PCELLS.DEFAULT_GRATING) \n",
    "\n",
    "iofb_layout = iofb.Layout(south_east=(500.0, 0.0),\n",
    "                          y_spacing = 70,\n",
    "                          contents_transformation=i3.Rotation(rotation=-20)) \n",
    "iofb_layout.visualize()\n",
    "iofb_layout.write_gdsii(\"iofibcoup_simple3.gds\")"
   ]
  },
  {
   "cell_type": "markdown",
   "metadata": {},
   "source": [
    "<h4>Explicitly setting the ports to use</h4>"
   ]
  },
  {
   "cell_type": "markdown",
   "metadata": {},
   "source": [
    "Sometimes because of the application of a transformation there are no ports facing east or west."
   ]
  },
  {
   "cell_type": "code",
   "execution_count": null,
   "metadata": {
    "collapsed": false
   },
   "outputs": [],
   "source": [
    "iofb = IoFibcoup(contents=my_mmi_1x2,\n",
    "                 trace_template = wg_t, #Default trace template when none are specified.\n",
    "                 fiber_coupler=i3.TECH.IO.FIBCOUP.CURVED.PCELLS.DEFAULT_GRATING) \n",
    "\n",
    "iofb_layout = iofb.Layout(south_east=(500.0, 0.0),\n",
    "                          y_spacing = 70,\n",
    "                          contents_transformation=i3.Rotation(rotation=-80)) \n",
    "iofb_layout.visualize()"
   ]
  },
  {
   "cell_type": "markdown",
   "metadata": {},
   "source": [
    "In that case or if you want, you can explicitely set which ports need to be ported east and which need to be ported west. Make sure that they are ordered correctly. The first port in the list is placed first on the south side."
   ]
  },
  {
   "cell_type": "code",
   "execution_count": null,
   "metadata": {
    "collapsed": false
   },
   "outputs": [],
   "source": [
    "iofb = IoFibcoup(contents=my_mmi_1x2,\n",
    "                 trace_template = wg_t, #Default trace template when none are specified.\n",
    "                 west_port_labels = [], \n",
    "                 east_port_labels = ['out1', 'out2', 'in'],\n",
    "                 fiber_coupler=i3.TECH.IO.FIBCOUP.CURVED.PCELLS.DEFAULT_GRATING) \n",
    "\n",
    "iofb_layout = iofb.Layout(south_east=(500.0, 0.0),\n",
    "                          y_spacing = 70,\n",
    "                          contents_transformation=i3.Rotation(rotation=-20)) \n",
    "iofb_layout.visualize()\n",
    "iofb_layout.write_gdsii(\"iofibcoup_simple4.gds\")"
   ]
  },
  {
   "cell_type": "markdown",
   "metadata": {},
   "source": [
    "## CircuitModels of IOFibcoup"
   ]
  },
  {
   "cell_type": "markdown",
   "metadata": {},
   "source": [
    "IOFibcoup also builds up a hierarchical CircuitModel of all the components inside it. This way you can easily make air to air simulations of your experimental setup. Here we will use IOFibCoup to connect a ring to the outside world. Let's first get a look a the layout."
   ]
  },
  {
   "cell_type": "code",
   "execution_count": null,
   "metadata": {
    "collapsed": false
   },
   "outputs": [],
   "source": [
    "import numpy as np\n",
    "import pylab as plt\n",
    "\n",
    "# Waveguides\n",
    "wg_t = WireWaveguideTemplate()\n",
    "wg_t.Layout(core_width=0.45)\n",
    "\n",
    "#Ring Resonator\n",
    "from picazzo3.filters.ring import RingRect180DropFilter\n",
    "my_ring = RingRect180DropFilter()\n",
    "\n",
    "# Curved grating\n",
    "from picazzo3.fibcoup.curved import FiberCouplerCurvedGrating\n",
    "grating = FiberCouplerCurvedGrating()\n",
    "\n",
    "from picazzo3.container.iofibcoup import IoFibcoup\n",
    "iofb = IoFibcoup(contents=my_ring,\n",
    "                 fiber_coupler=grating,\n",
    "                 trace_template=wg_t)\n",
    "\n",
    "layout = iofb.Layout(south_east=(500.0, 0.0), y_spacing=60.0) \n",
    "layout.visualize()"
   ]
  },
  {
   "cell_type": "markdown",
   "metadata": {},
   "source": [
    "To make a caphe simulation we first have to set the caphemodels of our ring resonator, the grating coupler and waveguides."
   ]
  },
  {
   "cell_type": "code",
   "execution_count": null,
   "metadata": {
    "collapsed": false
   },
   "outputs": [],
   "source": [
    "# Setting the Caphemodel from the ring. \n",
    "cp = dict(cross_coupling1=1j*0.05**0.5,\n",
    "          straight_coupling1=0.92**0.5,\n",
    "          reflection_in1=1j*0.05,\n",
    "          )\n",
    "\n",
    "my_ring_cm = my_ring.CircuitModel(ring_length=40.0,             # we can manually specify the ring length\n",
    "                                    coupler_parameters=[cp, cp]) # 2 couplers\n",
    "\n",
    "# Setting the Caphemodel from the grating coupler.\n",
    "gm = grating.CircuitModel(center_wavelength=1.55, bandwidth_3dB=0.1, peak_transmission=0.5, reflection=0.1)\n"
   ]
  },
  {
   "cell_type": "code",
   "execution_count": null,
   "metadata": {
    "collapsed": false
   },
   "outputs": [],
   "source": [
    "\n",
    "wavelengths =  np.linspace(1.50, 1.6, 2001)\n",
    "\n",
    "# Note: Term naming might change in the future...\n",
    "R = my_ring_cm.get_smatrix(wavelengths=wavelengths)\n",
    "plt.plot(wavelengths, np.abs(R['in1', 'out1'])**2, 'b', label=\"pass\")\n",
    "plt.plot(wavelengths, np.abs(R['in1', 'out2'])**2, 'r', label=\"drop\")\n",
    "plt.xlabel(\"Wavelength ($\\mu m$)\")\n",
    "plt.ylabel(\"Power transmission\")\n",
    "plt.legend()\n",
    "plt.show()   "
   ]
  },
  {
   "cell_type": "markdown",
   "metadata": {},
   "source": [
    "And we can now start to simulate the entire IOFibCoup component."
   ]
  },
  {
   "cell_type": "code",
   "execution_count": null,
   "metadata": {
    "collapsed": false
   },
   "outputs": [],
   "source": [
    "# Using the model from the IOColumn from an coupler to coupler simulation. \n",
    "cm = iofb.CircuitModel()\n",
    "\n",
    "my_engine = i3.CapheFrequencyEngine()\n",
    "wavelengths =  np.linspace(1.50, 1.6, 2001)\n",
    "my_simulation = my_engine.SMatrixSimulation(model=cm,\n",
    "                                            wavelengths=wavelengths)\n",
    "my_simulation.run()\n",
    "\n",
    "# Note: Term naming will change in the future...\n",
    "R = cm.get_smatrix(wavelengths=wavelengths)\n",
    "plt.plot(wavelengths, np.abs(R['in1', 'out1'])**2, 'b', label=\"pass\")\n",
    "plt.plot(wavelengths, np.abs(R['in1', 'out2'])**2, 'r', label=\"drop\")\n",
    "plt.plot(wavelengths, np.abs(R['in1', 'in2'])**2, 'g', label=\"add\")\n",
    "plt.xlabel(\"Wavelength ($\\mu m$)\")\n",
    "plt.ylabel(\"Power transmission\")\n",
    "plt.legend()\n",
    "plt.show()   "
   ]
  },
  {
   "cell_type": "markdown",
   "metadata": {},
   "source": [
    "We can clearly see the ripple of the the reflections in the grating and in the couplers! You can play with the parameters and see when ripple might be a problem for you or try to reproduce qualitative results you may have experienced in your experiments. "
   ]
  },
  {
   "cell_type": "markdown",
   "metadata": {},
   "source": [
    "## IoFibcoupEastWest"
   ]
  },
  {
   "cell_type": "markdown",
   "metadata": {},
   "source": [
    "**IoFibcoupEastWest**  is practical when you want to use different connections to the east as to the west. **IoFibcoupEastWest** has exactly the same properties as **IoFibcoup** except that all the properties that have an influence on the connections to the outside world our now doubled. One refering to the **east** and one refering to the **west**. \n",
    "\n",
    "The example below should be rather self-explantory.   "
   ]
  },
  {
   "cell_type": "code",
   "execution_count": null,
   "metadata": {
    "collapsed": false
   },
   "outputs": [],
   "source": [
    "from picazzo3.container.iofibcoup import IoFibcoupEastWest\n",
    "\n",
    "iofb = IoFibcoupEastWest(contents=my_mmi_1x2,                       # the component\n",
    "                        east_trace_template=wg_t,           # trace template for East fanout\n",
    "                        west_trace_template=wg_t,           # trace_template for West fanout\n",
    "                        east_connect_trace_template=wgc_t,  # trace template for wide connections\n",
    "                        west_connect_trace_template=wg_t,   # trace template for wide connections\n",
    "                        east_fiber_coupler=i3.TECH.IO.FIBCOUP.CURVED.PCELLS.DEFAULT_GRATING,             # fiber coupler East\n",
    "                        west_fiber_coupler=i3.TECH.IO.FIBCOUP.STRAIGHT.PCELLS.DEFAULT_GRATING)           # fiber coupler West\n",
    "\n",
    "iofb_layout = iofb.Layout(contents_transformation=i3.Rotation(rotation=-30.0),  # rotate the contents\n",
    "                          east_connect_transition_length=30.0,                  # transition length\n",
    "                          east_fiber_coupler_transition_length=50.0,            # transition length between connection WG and the fiber coupler\n",
    "                          west_fiber_coupler_transition_length=20.0,            # transition length between connection WG and the fiber coupler\n",
    "                          south_west=(-0.0, 0.0),                               # south west corner of the adapter\n",
    "                          south_east=(500.0, 0.0),                              # south east corner of the adapter\n",
    "                          relative_offset=(-100.0, 70.0)                        # offset of component from it's default position\n",
    "                          )        \n",
    "iofb_layout.visualize()\n",
    "iofb_layout.write_gdsii(\"iofibcoup_simple5.gds\")"
   ]
  },
  {
   "cell_type": "markdown",
   "metadata": {},
   "source": [
    "## IoFibcoupGeneric"
   ]
  },
  {
   "cell_type": "markdown",
   "metadata": {},
   "source": [
    "**IoFibcoupGeneric** is required if you want to control each connection separately. All the properties that relate to a connection to the ouside world are \"plural\". This means that they can accept a list of parameters (e.g. ``east_trace_templates``).\n",
    "\n",
    "This allows you to specify the template (or other parameters) for each individual port. The lists do not need to have the exact \n",
    "same length as the number of ports. If the number of elements is different than the number of ports in your component,\n",
    "the ``IoFibcoupGeneric`` will just cycle through the list. That way, if all the ports use the same value, you only need to supply\n",
    "a list of one element.\n",
    "\n",
    "Lets explain this using an example:\n",
    "\n",
    "First we make an MMI that has 3 inputs and 5 outputs."
   ]
  },
  {
   "cell_type": "code",
   "execution_count": null,
   "metadata": {
    "collapsed": false
   },
   "outputs": [],
   "source": [
    "from picazzo3.filters.mmi import MMIIdenticalTapered\n",
    "wg_t1 = WireWaveguideTemplate()\n",
    "wg_t1.Layout(core_width=7.0, cladding_width=8.0)\n",
    "# input and output traces of the MMI\n",
    "wg_t2 = WireWaveguideTemplate()\n",
    "wg_t2.Layout(core_width=0.8)\n",
    "\n",
    "my_mmi = MMIIdenticalTapered(mmi_trace_template=wg_t1,\n",
    "                             input_trace_template=wg_t2,\n",
    "                             output_trace_template=wg_t2,\n",
    "                             trace_template=i3.TECH.PCELLS.WG.DEFAULT,\n",
    "                             n_inputs=3,\n",
    "                             n_outputs=5)\n",
    "\n",
    "layout = my_mmi.Layout(length=10.0, \n",
    "                  input_y_positions=[-2.0, 0.0, 2.0], \n",
    "                  output_y_positions=[-2.0, -1.0, 0.0, 1.0, 2.0]\n",
    "                      )\n",
    "\n",
    "layout.visualize()"
   ]
  },
  {
   "cell_type": "markdown",
   "metadata": {},
   "source": [
    "We also need a couple of trace templates and grating couplers."
   ]
  },
  {
   "cell_type": "code",
   "execution_count": null,
   "metadata": {
    "collapsed": false
   },
   "outputs": [],
   "source": [
    "# Grating Couplers\n",
    "my_gc_1 = i3.TECH.IO.FIBCOUP.STRAIGHT.PCELLS.DEFAULT_GRATING\n",
    "my_gc_2 = i3.TECH.IO.FIBCOUP.CURVED.PCELLS.DEFAULT_GRATING\n",
    "# Trace templates\n",
    "wg_t1 = WireWaveguideTemplate()\n",
    "wg_t1.Layout(core_width=5.0, cladding_width=8.0)\n",
    "\n",
    "wg_t2 = WireWaveguideTemplate()\n",
    "wg_t2.Layout(core_width=2.0, cladding_width=8.0)\n",
    "\n",
    "wg_t3 = WireWaveguideTemplate()"
   ]
  },
  {
   "cell_type": "markdown",
   "metadata": {},
   "source": [
    "Lets now create the generic IOFibCoup:"
   ]
  },
  {
   "cell_type": "code",
   "execution_count": null,
   "metadata": {
    "collapsed": false
   },
   "outputs": [],
   "source": [
    "# making the adapter\n",
    "from picazzo3.container.iofibcoup import IoFibcoupGeneric\n",
    "iofb = IoFibcoupGeneric(contents=my_mmi,                       # the component\n",
    "                        east_trace_templates=[wg_t3],           # trace template for East fanout\n",
    "                        west_trace_templates=[wg_t3],           # trace_template for West fanout\n",
    "                        east_connect_trace_templates=[wg_t1,wg_t2],  # trace template for wide connections\n",
    "                        west_connect_trace_templates=[wg_t1],  # trace template for wide connections\n",
    "                        east_fiber_couplers=[my_gc_1, my_gc_2],           # fiber couplers East\n",
    "                        west_fiber_couplers=[my_gc_2])           # fiber couplers West\n",
    "\n",
    "iofb_layout = iofb.Layout(east_connect_transition_lengths=[30.0],              # transition lengths\n",
    "                          east_fiber_coupler_transformations=[i3.HMirror(), i3.HMirror() + i3.Translation((-30.0, -5.0))],\n",
    "                          east_fiber_coupler_transition_lengths=[50.0, 100.0, 25.0], # transition lengths between connection WG and the fiber coupler\n",
    "                          south_west=(-0.0, 50.0),             # south west corner of the adapter\n",
    "                          south_east=(1000.0, 100.0),           # south east corner of the adapter\n",
    "                          y_spacing = 50.0\n",
    "                          )\n",
    "\n",
    "iofb_layout.visualize()\n",
    "iofb_layout.write_gdsii(\"iofibcoup_simple6.gds\")"
   ]
  },
  {
   "cell_type": "markdown",
   "metadata": {},
   "source": [
    "Note how the cyclic list work: for instance on the east side we have used ``east_fiber_couplers=[my_gc_1, my_gc_2]``. This resulted in the alternation of ``my_gc_1`` and ``my_gc_2`` starting with ``my_gc_1``. This is then independent of the number of ports on the east side, which can be quite practical.\n",
    "\n",
    "Also note the use of ``east_fiber_coupler_transformations``. This allows you to introduce some offset between the different tapers. "
   ]
  },
  {
   "cell_type": "markdown",
   "metadata": {},
   "source": [
    "Congratulations! You have now learned most of what can be learned about IOFibCoup's. As an exercise you can try to use it with a real circuit - not just one component."
   ]
  },
  {
   "cell_type": "code",
   "execution_count": null,
   "metadata": {
    "collapsed": false
   },
   "outputs": [],
   "source": []
  }
 ],
 "metadata": {
  "kernelspec": {
   "display_name": "Python 2",
   "language": "python",
   "name": "python2"
  },
  "language_info": {
   "codemirror_mode": {
    "name": "ipython",
    "version": 2
   },
   "file_extension": ".py",
   "mimetype": "text/x-python",
   "name": "python",
   "nbconvert_exporter": "python",
   "pygments_lexer": "ipython2",
   "version": "2.7.15"
  }
 },
 "nbformat": 4,
 "nbformat_minor": 0
}
