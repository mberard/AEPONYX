{
 "cells": [
  {
   "cell_type": "markdown",
   "metadata": {},
   "source": [
    "# Welcome to the IPKISS demonstration hub"
   ]
  },
  {
   "cell_type": "markdown",
   "metadata": {},
   "source": [
    "Ipkiss is a powerful design framework for photonic engineers. Ipkiss allows designers to capture the complexity of integrated\n",
    "photonic circuits using an intuitive and flexible framework. IPKISS is based on [Python](https://www.python.org/), an easy to learn yet very powerful programming language that is popular in the engineering community. \n",
    "\n",
    "This page is made so that you can have easy access to interactive session in which you will get to know ipkiss and learn about exciting topics in photonics. This web application is based on the popular [IPython project](http://ipython.org/). It allows you to run python code from your webbrowser and explort the results.\n",
    "\n",
    "Using these **notebooks** is very simple:\n",
    "\n",
    "1. Click on the cell to select it.\n",
    "2. Press `SHIFT+ENTER` on your keyboard or press the play button (<button class='fa fa-play icon-play btn btn-xs btn-default'></button>) in the toolbar above.\n",
    "\n",
    "Try it on the cell below:"
   ]
  },
  {
   "cell_type": "code",
   "execution_count": null,
   "metadata": {
    "collapsed": false
   },
   "outputs": [],
   "source": [
    "# some python code to calculate pi:\n",
    "\n",
    "pi_estimate = 0.0\n",
    "terms_in_series = 500000\n",
    "\n",
    "for k in range(terms_in_series):\n",
    "    pi_estimate = pi_estimate + 4.0 * (-1)**k / (2*k+1.0)\n",
    "\n",
    "print(\"Pi is approximately {0}\".format(pi_estimate))"
   ]
  },
  {
   "cell_type": "markdown",
   "metadata": {},
   "source": [
    "## Topical IPKISS notebooks"
   ]
  },
  {
   "cell_type": "markdown",
   "metadata": {},
   "source": [
    "<div>\n",
    "<div style=\"width: 20%; display: inline; margin:0; float: left\"> <p> <a href=\"Containers.ipynb\"><img src=\"_images/containers.png\" width=400 ></a> </p> </div>\n",
    "<div style=\"width: 49%;  display: inline; float: right; margin:0\"> <p> <a href=\"Containers.ipynb\">Notebook: Packaging components with containers</a> </p> </div>\n",
    "</div>"
   ]
  },
  {
   "cell_type": "markdown",
   "metadata": {},
   "source": [
    "<div>\n",
    "<div style=\"width: 20%; display: inline; margin:0; float: left\"> <p> \n",
    "<a href=\"IOFibcoup%20-%20Routing%20to%20fibercouplers.ipynb\"><img src=\"_images/iofibcoup.png\" width=400 ></a> </p> </div>\n",
    "<div style=\"width: 49%;  display: inline; float: right; margin:0\"> <p> <a href=\"IOFibcoup%20-%20Routing%20to%20fibercouplers.ipynb\">Notebook: Automatic routing to fiber couplers</a> </p> </div>\n",
    "</div>"
   ]
  },
  {
   "cell_type": "code",
   "execution_count": null,
   "metadata": {
    "collapsed": true
   },
   "outputs": [],
   "source": []
  }
 ],
 "metadata": {
  "kernelspec": {
   "display_name": "Python 2",
   "language": "python",
   "name": "python2"
  },
  "language_info": {
   "codemirror_mode": {
    "name": "ipython",
    "version": 2
   },
   "file_extension": ".py",
   "mimetype": "text/x-python",
   "name": "python",
   "nbconvert_exporter": "python",
   "pygments_lexer": "ipython2",
   "version": "2.7.15"
  }
 },
 "nbformat": 4,
 "nbformat_minor": 0
}
