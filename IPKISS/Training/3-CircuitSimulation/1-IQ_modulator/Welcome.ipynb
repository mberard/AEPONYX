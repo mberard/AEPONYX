{
 "cells": [
  {
   "cell_type": "markdown",
   "metadata": {
    "deletable": true,
    "editable": true
   },
   "source": [
    "# IQ modulator testbench"
   ]
  },
  {
   "cell_type": "code",
   "execution_count": null,
   "metadata": {
    "collapsed": false,
    "deletable": true,
    "editable": true
   },
   "outputs": [],
   "source": [
    "%pylab inline\n",
    "matplotlib.rcParams['figure.figsize'] = [8, 6]\n",
    "import sys\n",
    "sys.path.append(r'..\\..\\..\\Library\\aeponyx\\ipkiss')\n",
    "sys.path.append(r'..\\..\\..\\additional_utils')\n",
    "from aeponyx import technology\n",
    "import ipkiss3.all as i3\n",
    "from iq import IQModulator"
   ]
  },
  {
   "cell_type": "markdown",
   "metadata": {
    "deletable": true,
    "editable": true
   },
   "source": [
    "## Instantiate IQ Modulator"
   ]
  },
  {
   "cell_type": "code",
   "execution_count": null,
   "metadata": {
    "collapsed": false,
    "deletable": true,
    "editable": true
   },
   "outputs": [],
   "source": [
    "iq_cell = IQModulator(length_modulator=2000.0)\n",
    "iq_lv = iq_cell.Layout()\n",
    "iq_lv.visualize(annotate=True)"
   ]
  },
  {
   "cell_type": "markdown",
   "metadata": {
    "deletable": true,
    "editable": true
   },
   "source": [
    "## Simulate IQ Modulator"
   ]
  },
  {
   "cell_type": "code",
   "execution_count": null,
   "metadata": {
    "collapsed": false,
    "deletable": true,
    "editable": true
   },
   "outputs": [],
   "source": [
    "from ipywidgets import interact, fixed\n",
    "from functools import partial\n",
    "from simulate_iq import simulate_mod\n",
    "\n",
    "interact(simulate_mod,\n",
    "         cell = fixed(iq_cell),\n",
    "         mod_amp = (0,3.0,0.2),\n",
    "         ps_1 = (-3.0,3.0,0.2), \n",
    "         ps_2 = (-3.0,3.0,0.1), \n",
    "         rf_noise_amp= (0.0, 2.0,0.1),\n",
    "         dc_noise_amp=(0.0,2.0,0.1),\n",
    "         plot_constellation = fixed(True),\n",
    "         plot_signal = False,\n",
    "         src_bitrate=fixed(2e10)\n",
    "        )"
   ]
  },
  {
   "cell_type": "code",
   "execution_count": null,
   "metadata": {
    "collapsed": true,
    "deletable": true,
    "editable": true
   },
   "outputs": [],
   "source": []
  }
 ],
 "metadata": {
  "kernelspec": {
   "display_name": "Python 2",
   "language": "python",
   "name": "python2"
  },
  "language_info": {
   "codemirror_mode": {
    "name": "ipython",
    "version": 2
   },
   "file_extension": ".py",
   "mimetype": "text/x-python",
   "name": "python",
   "nbconvert_exporter": "python",
   "pygments_lexer": "ipython2",
   "version": "2.7.15"
  }
 },
 "nbformat": 4,
 "nbformat_minor": 0
}
